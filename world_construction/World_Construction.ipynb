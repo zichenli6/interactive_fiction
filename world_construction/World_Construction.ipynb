{
  "nbformat": 4,
  "nbformat_minor": 0,
  "metadata": {
    "colab": {
      "name": "World Construction.ipynb",
      "provenance": [],
      "collapsed_sections": []
    },
    "kernelspec": {
      "name": "python3",
      "display_name": "Python 3"
    },
    "language_info": {
      "name": "python"
    },
    "widgets": {
      "application/vnd.jupyter.widget-state+json": {
        "09853173047a4f028b0b5a68b078d58b": {
          "model_module": "@jupyter-widgets/controls",
          "model_name": "HBoxModel",
          "model_module_version": "1.5.0",
          "state": {
            "_dom_classes": [],
            "_model_module": "@jupyter-widgets/controls",
            "_model_module_version": "1.5.0",
            "_model_name": "HBoxModel",
            "_view_count": null,
            "_view_module": "@jupyter-widgets/controls",
            "_view_module_version": "1.5.0",
            "_view_name": "HBoxView",
            "box_style": "",
            "children": [
              "IPY_MODEL_a06c48a7abe74b4a9571964284b5ad7f",
              "IPY_MODEL_f980e88151fd4f44a70eef9126632ddf",
              "IPY_MODEL_b769420a22bb4ea19c52f6791c2f9e39"
            ],
            "layout": "IPY_MODEL_893993210d8e465c9d2f5487afd4a670"
          }
        },
        "a06c48a7abe74b4a9571964284b5ad7f": {
          "model_module": "@jupyter-widgets/controls",
          "model_name": "HTMLModel",
          "model_module_version": "1.5.0",
          "state": {
            "_dom_classes": [],
            "_model_module": "@jupyter-widgets/controls",
            "_model_module_version": "1.5.0",
            "_model_name": "HTMLModel",
            "_view_count": null,
            "_view_module": "@jupyter-widgets/controls",
            "_view_module_version": "1.5.0",
            "_view_name": "HTMLView",
            "description": "",
            "description_tooltip": null,
            "layout": "IPY_MODEL_030fc8f3a45446f5950c620e25c1914e",
            "placeholder": "​",
            "style": "IPY_MODEL_b7b81c83f35c4b5a8d6169da4265fe2e",
            "value": "Downloading https://raw.githubusercontent.com/stanfordnlp/stanza-resources/main/resources_1.3.0.json: "
          }
        },
        "f980e88151fd4f44a70eef9126632ddf": {
          "model_module": "@jupyter-widgets/controls",
          "model_name": "FloatProgressModel",
          "model_module_version": "1.5.0",
          "state": {
            "_dom_classes": [],
            "_model_module": "@jupyter-widgets/controls",
            "_model_module_version": "1.5.0",
            "_model_name": "FloatProgressModel",
            "_view_count": null,
            "_view_module": "@jupyter-widgets/controls",
            "_view_module_version": "1.5.0",
            "_view_name": "ProgressView",
            "bar_style": "success",
            "description": "",
            "description_tooltip": null,
            "layout": "IPY_MODEL_705aa218ff80485b92e7d87fd702b1ed",
            "max": 24459,
            "min": 0,
            "orientation": "horizontal",
            "style": "IPY_MODEL_376f3fc684e84b0db6fd2acb1715f16a",
            "value": 24459
          }
        },
        "b769420a22bb4ea19c52f6791c2f9e39": {
          "model_module": "@jupyter-widgets/controls",
          "model_name": "HTMLModel",
          "model_module_version": "1.5.0",
          "state": {
            "_dom_classes": [],
            "_model_module": "@jupyter-widgets/controls",
            "_model_module_version": "1.5.0",
            "_model_name": "HTMLModel",
            "_view_count": null,
            "_view_module": "@jupyter-widgets/controls",
            "_view_module_version": "1.5.0",
            "_view_name": "HTMLView",
            "description": "",
            "description_tooltip": null,
            "layout": "IPY_MODEL_3a0878e8d81f4944bb48b52b69b81079",
            "placeholder": "​",
            "style": "IPY_MODEL_f43c8506f74042f386ce552a1014d4d1",
            "value": " 142k/? [00:00&lt;00:00, 1.47MB/s]"
          }
        },
        "893993210d8e465c9d2f5487afd4a670": {
          "model_module": "@jupyter-widgets/base",
          "model_name": "LayoutModel",
          "model_module_version": "1.2.0",
          "state": {
            "_model_module": "@jupyter-widgets/base",
            "_model_module_version": "1.2.0",
            "_model_name": "LayoutModel",
            "_view_count": null,
            "_view_module": "@jupyter-widgets/base",
            "_view_module_version": "1.2.0",
            "_view_name": "LayoutView",
            "align_content": null,
            "align_items": null,
            "align_self": null,
            "border": null,
            "bottom": null,
            "display": null,
            "flex": null,
            "flex_flow": null,
            "grid_area": null,
            "grid_auto_columns": null,
            "grid_auto_flow": null,
            "grid_auto_rows": null,
            "grid_column": null,
            "grid_gap": null,
            "grid_row": null,
            "grid_template_areas": null,
            "grid_template_columns": null,
            "grid_template_rows": null,
            "height": null,
            "justify_content": null,
            "justify_items": null,
            "left": null,
            "margin": null,
            "max_height": null,
            "max_width": null,
            "min_height": null,
            "min_width": null,
            "object_fit": null,
            "object_position": null,
            "order": null,
            "overflow": null,
            "overflow_x": null,
            "overflow_y": null,
            "padding": null,
            "right": null,
            "top": null,
            "visibility": null,
            "width": null
          }
        },
        "030fc8f3a45446f5950c620e25c1914e": {
          "model_module": "@jupyter-widgets/base",
          "model_name": "LayoutModel",
          "model_module_version": "1.2.0",
          "state": {
            "_model_module": "@jupyter-widgets/base",
            "_model_module_version": "1.2.0",
            "_model_name": "LayoutModel",
            "_view_count": null,
            "_view_module": "@jupyter-widgets/base",
            "_view_module_version": "1.2.0",
            "_view_name": "LayoutView",
            "align_content": null,
            "align_items": null,
            "align_self": null,
            "border": null,
            "bottom": null,
            "display": null,
            "flex": null,
            "flex_flow": null,
            "grid_area": null,
            "grid_auto_columns": null,
            "grid_auto_flow": null,
            "grid_auto_rows": null,
            "grid_column": null,
            "grid_gap": null,
            "grid_row": null,
            "grid_template_areas": null,
            "grid_template_columns": null,
            "grid_template_rows": null,
            "height": null,
            "justify_content": null,
            "justify_items": null,
            "left": null,
            "margin": null,
            "max_height": null,
            "max_width": null,
            "min_height": null,
            "min_width": null,
            "object_fit": null,
            "object_position": null,
            "order": null,
            "overflow": null,
            "overflow_x": null,
            "overflow_y": null,
            "padding": null,
            "right": null,
            "top": null,
            "visibility": null,
            "width": null
          }
        },
        "b7b81c83f35c4b5a8d6169da4265fe2e": {
          "model_module": "@jupyter-widgets/controls",
          "model_name": "DescriptionStyleModel",
          "model_module_version": "1.5.0",
          "state": {
            "_model_module": "@jupyter-widgets/controls",
            "_model_module_version": "1.5.0",
            "_model_name": "DescriptionStyleModel",
            "_view_count": null,
            "_view_module": "@jupyter-widgets/base",
            "_view_module_version": "1.2.0",
            "_view_name": "StyleView",
            "description_width": ""
          }
        },
        "705aa218ff80485b92e7d87fd702b1ed": {
          "model_module": "@jupyter-widgets/base",
          "model_name": "LayoutModel",
          "model_module_version": "1.2.0",
          "state": {
            "_model_module": "@jupyter-widgets/base",
            "_model_module_version": "1.2.0",
            "_model_name": "LayoutModel",
            "_view_count": null,
            "_view_module": "@jupyter-widgets/base",
            "_view_module_version": "1.2.0",
            "_view_name": "LayoutView",
            "align_content": null,
            "align_items": null,
            "align_self": null,
            "border": null,
            "bottom": null,
            "display": null,
            "flex": null,
            "flex_flow": null,
            "grid_area": null,
            "grid_auto_columns": null,
            "grid_auto_flow": null,
            "grid_auto_rows": null,
            "grid_column": null,
            "grid_gap": null,
            "grid_row": null,
            "grid_template_areas": null,
            "grid_template_columns": null,
            "grid_template_rows": null,
            "height": null,
            "justify_content": null,
            "justify_items": null,
            "left": null,
            "margin": null,
            "max_height": null,
            "max_width": null,
            "min_height": null,
            "min_width": null,
            "object_fit": null,
            "object_position": null,
            "order": null,
            "overflow": null,
            "overflow_x": null,
            "overflow_y": null,
            "padding": null,
            "right": null,
            "top": null,
            "visibility": null,
            "width": null
          }
        },
        "376f3fc684e84b0db6fd2acb1715f16a": {
          "model_module": "@jupyter-widgets/controls",
          "model_name": "ProgressStyleModel",
          "model_module_version": "1.5.0",
          "state": {
            "_model_module": "@jupyter-widgets/controls",
            "_model_module_version": "1.5.0",
            "_model_name": "ProgressStyleModel",
            "_view_count": null,
            "_view_module": "@jupyter-widgets/base",
            "_view_module_version": "1.2.0",
            "_view_name": "StyleView",
            "bar_color": null,
            "description_width": ""
          }
        },
        "3a0878e8d81f4944bb48b52b69b81079": {
          "model_module": "@jupyter-widgets/base",
          "model_name": "LayoutModel",
          "model_module_version": "1.2.0",
          "state": {
            "_model_module": "@jupyter-widgets/base",
            "_model_module_version": "1.2.0",
            "_model_name": "LayoutModel",
            "_view_count": null,
            "_view_module": "@jupyter-widgets/base",
            "_view_module_version": "1.2.0",
            "_view_name": "LayoutView",
            "align_content": null,
            "align_items": null,
            "align_self": null,
            "border": null,
            "bottom": null,
            "display": null,
            "flex": null,
            "flex_flow": null,
            "grid_area": null,
            "grid_auto_columns": null,
            "grid_auto_flow": null,
            "grid_auto_rows": null,
            "grid_column": null,
            "grid_gap": null,
            "grid_row": null,
            "grid_template_areas": null,
            "grid_template_columns": null,
            "grid_template_rows": null,
            "height": null,
            "justify_content": null,
            "justify_items": null,
            "left": null,
            "margin": null,
            "max_height": null,
            "max_width": null,
            "min_height": null,
            "min_width": null,
            "object_fit": null,
            "object_position": null,
            "order": null,
            "overflow": null,
            "overflow_x": null,
            "overflow_y": null,
            "padding": null,
            "right": null,
            "top": null,
            "visibility": null,
            "width": null
          }
        },
        "f43c8506f74042f386ce552a1014d4d1": {
          "model_module": "@jupyter-widgets/controls",
          "model_name": "DescriptionStyleModel",
          "model_module_version": "1.5.0",
          "state": {
            "_model_module": "@jupyter-widgets/controls",
            "_model_module_version": "1.5.0",
            "_model_name": "DescriptionStyleModel",
            "_view_count": null,
            "_view_module": "@jupyter-widgets/base",
            "_view_module_version": "1.2.0",
            "_view_name": "StyleView",
            "description_width": ""
          }
        },
        "0bba1bfa8d60463c9abe1c5634cb2ff3": {
          "model_module": "@jupyter-widgets/controls",
          "model_name": "HBoxModel",
          "model_module_version": "1.5.0",
          "state": {
            "_dom_classes": [],
            "_model_module": "@jupyter-widgets/controls",
            "_model_module_version": "1.5.0",
            "_model_name": "HBoxModel",
            "_view_count": null,
            "_view_module": "@jupyter-widgets/controls",
            "_view_module_version": "1.5.0",
            "_view_name": "HBoxView",
            "box_style": "",
            "children": [
              "IPY_MODEL_0b2f2b4d39734efb9b67d87cc3a32955",
              "IPY_MODEL_6938899ea69d49258a9c5e8645a7a49a",
              "IPY_MODEL_198c1fcb24994f119b3ea722d4afe7ec"
            ],
            "layout": "IPY_MODEL_867da12f36e1444b9d8a7c4ac789bf83"
          }
        },
        "0b2f2b4d39734efb9b67d87cc3a32955": {
          "model_module": "@jupyter-widgets/controls",
          "model_name": "HTMLModel",
          "model_module_version": "1.5.0",
          "state": {
            "_dom_classes": [],
            "_model_module": "@jupyter-widgets/controls",
            "_model_module_version": "1.5.0",
            "_model_name": "HTMLModel",
            "_view_count": null,
            "_view_module": "@jupyter-widgets/controls",
            "_view_module_version": "1.5.0",
            "_view_name": "HTMLView",
            "description": "",
            "description_tooltip": null,
            "layout": "IPY_MODEL_5dd0eafae7ac42b7be5b1abafaf428a1",
            "placeholder": "​",
            "style": "IPY_MODEL_bd301ea6f5a54ef3b4ef6d09f7a4e1f4",
            "value": "Downloading https://huggingface.co/stanfordnlp/stanza-en/resolve/v1.3.0/models/default.zip: 100%"
          }
        },
        "6938899ea69d49258a9c5e8645a7a49a": {
          "model_module": "@jupyter-widgets/controls",
          "model_name": "FloatProgressModel",
          "model_module_version": "1.5.0",
          "state": {
            "_dom_classes": [],
            "_model_module": "@jupyter-widgets/controls",
            "_model_module_version": "1.5.0",
            "_model_name": "FloatProgressModel",
            "_view_count": null,
            "_view_module": "@jupyter-widgets/controls",
            "_view_module_version": "1.5.0",
            "_view_name": "ProgressView",
            "bar_style": "success",
            "description": "",
            "description_tooltip": null,
            "layout": "IPY_MODEL_522acd54d1394075893b1bf60eea86e8",
            "max": 479531529,
            "min": 0,
            "orientation": "horizontal",
            "style": "IPY_MODEL_bdeb9f14564f49ee81343332b98b6e44",
            "value": 479531529
          }
        },
        "198c1fcb24994f119b3ea722d4afe7ec": {
          "model_module": "@jupyter-widgets/controls",
          "model_name": "HTMLModel",
          "model_module_version": "1.5.0",
          "state": {
            "_dom_classes": [],
            "_model_module": "@jupyter-widgets/controls",
            "_model_module_version": "1.5.0",
            "_model_name": "HTMLModel",
            "_view_count": null,
            "_view_module": "@jupyter-widgets/controls",
            "_view_module_version": "1.5.0",
            "_view_name": "HTMLView",
            "description": "",
            "description_tooltip": null,
            "layout": "IPY_MODEL_d7d64645f2e9468a818b6edbe39f6dc8",
            "placeholder": "​",
            "style": "IPY_MODEL_686ccf39449d402ab4c3ff69b2a67957",
            "value": " 480M/480M [00:07&lt;00:00, 56.6MB/s]"
          }
        },
        "867da12f36e1444b9d8a7c4ac789bf83": {
          "model_module": "@jupyter-widgets/base",
          "model_name": "LayoutModel",
          "model_module_version": "1.2.0",
          "state": {
            "_model_module": "@jupyter-widgets/base",
            "_model_module_version": "1.2.0",
            "_model_name": "LayoutModel",
            "_view_count": null,
            "_view_module": "@jupyter-widgets/base",
            "_view_module_version": "1.2.0",
            "_view_name": "LayoutView",
            "align_content": null,
            "align_items": null,
            "align_self": null,
            "border": null,
            "bottom": null,
            "display": null,
            "flex": null,
            "flex_flow": null,
            "grid_area": null,
            "grid_auto_columns": null,
            "grid_auto_flow": null,
            "grid_auto_rows": null,
            "grid_column": null,
            "grid_gap": null,
            "grid_row": null,
            "grid_template_areas": null,
            "grid_template_columns": null,
            "grid_template_rows": null,
            "height": null,
            "justify_content": null,
            "justify_items": null,
            "left": null,
            "margin": null,
            "max_height": null,
            "max_width": null,
            "min_height": null,
            "min_width": null,
            "object_fit": null,
            "object_position": null,
            "order": null,
            "overflow": null,
            "overflow_x": null,
            "overflow_y": null,
            "padding": null,
            "right": null,
            "top": null,
            "visibility": null,
            "width": null
          }
        },
        "5dd0eafae7ac42b7be5b1abafaf428a1": {
          "model_module": "@jupyter-widgets/base",
          "model_name": "LayoutModel",
          "model_module_version": "1.2.0",
          "state": {
            "_model_module": "@jupyter-widgets/base",
            "_model_module_version": "1.2.0",
            "_model_name": "LayoutModel",
            "_view_count": null,
            "_view_module": "@jupyter-widgets/base",
            "_view_module_version": "1.2.0",
            "_view_name": "LayoutView",
            "align_content": null,
            "align_items": null,
            "align_self": null,
            "border": null,
            "bottom": null,
            "display": null,
            "flex": null,
            "flex_flow": null,
            "grid_area": null,
            "grid_auto_columns": null,
            "grid_auto_flow": null,
            "grid_auto_rows": null,
            "grid_column": null,
            "grid_gap": null,
            "grid_row": null,
            "grid_template_areas": null,
            "grid_template_columns": null,
            "grid_template_rows": null,
            "height": null,
            "justify_content": null,
            "justify_items": null,
            "left": null,
            "margin": null,
            "max_height": null,
            "max_width": null,
            "min_height": null,
            "min_width": null,
            "object_fit": null,
            "object_position": null,
            "order": null,
            "overflow": null,
            "overflow_x": null,
            "overflow_y": null,
            "padding": null,
            "right": null,
            "top": null,
            "visibility": null,
            "width": null
          }
        },
        "bd301ea6f5a54ef3b4ef6d09f7a4e1f4": {
          "model_module": "@jupyter-widgets/controls",
          "model_name": "DescriptionStyleModel",
          "model_module_version": "1.5.0",
          "state": {
            "_model_module": "@jupyter-widgets/controls",
            "_model_module_version": "1.5.0",
            "_model_name": "DescriptionStyleModel",
            "_view_count": null,
            "_view_module": "@jupyter-widgets/base",
            "_view_module_version": "1.2.0",
            "_view_name": "StyleView",
            "description_width": ""
          }
        },
        "522acd54d1394075893b1bf60eea86e8": {
          "model_module": "@jupyter-widgets/base",
          "model_name": "LayoutModel",
          "model_module_version": "1.2.0",
          "state": {
            "_model_module": "@jupyter-widgets/base",
            "_model_module_version": "1.2.0",
            "_model_name": "LayoutModel",
            "_view_count": null,
            "_view_module": "@jupyter-widgets/base",
            "_view_module_version": "1.2.0",
            "_view_name": "LayoutView",
            "align_content": null,
            "align_items": null,
            "align_self": null,
            "border": null,
            "bottom": null,
            "display": null,
            "flex": null,
            "flex_flow": null,
            "grid_area": null,
            "grid_auto_columns": null,
            "grid_auto_flow": null,
            "grid_auto_rows": null,
            "grid_column": null,
            "grid_gap": null,
            "grid_row": null,
            "grid_template_areas": null,
            "grid_template_columns": null,
            "grid_template_rows": null,
            "height": null,
            "justify_content": null,
            "justify_items": null,
            "left": null,
            "margin": null,
            "max_height": null,
            "max_width": null,
            "min_height": null,
            "min_width": null,
            "object_fit": null,
            "object_position": null,
            "order": null,
            "overflow": null,
            "overflow_x": null,
            "overflow_y": null,
            "padding": null,
            "right": null,
            "top": null,
            "visibility": null,
            "width": null
          }
        },
        "bdeb9f14564f49ee81343332b98b6e44": {
          "model_module": "@jupyter-widgets/controls",
          "model_name": "ProgressStyleModel",
          "model_module_version": "1.5.0",
          "state": {
            "_model_module": "@jupyter-widgets/controls",
            "_model_module_version": "1.5.0",
            "_model_name": "ProgressStyleModel",
            "_view_count": null,
            "_view_module": "@jupyter-widgets/base",
            "_view_module_version": "1.2.0",
            "_view_name": "StyleView",
            "bar_color": null,
            "description_width": ""
          }
        },
        "d7d64645f2e9468a818b6edbe39f6dc8": {
          "model_module": "@jupyter-widgets/base",
          "model_name": "LayoutModel",
          "model_module_version": "1.2.0",
          "state": {
            "_model_module": "@jupyter-widgets/base",
            "_model_module_version": "1.2.0",
            "_model_name": "LayoutModel",
            "_view_count": null,
            "_view_module": "@jupyter-widgets/base",
            "_view_module_version": "1.2.0",
            "_view_name": "LayoutView",
            "align_content": null,
            "align_items": null,
            "align_self": null,
            "border": null,
            "bottom": null,
            "display": null,
            "flex": null,
            "flex_flow": null,
            "grid_area": null,
            "grid_auto_columns": null,
            "grid_auto_flow": null,
            "grid_auto_rows": null,
            "grid_column": null,
            "grid_gap": null,
            "grid_row": null,
            "grid_template_areas": null,
            "grid_template_columns": null,
            "grid_template_rows": null,
            "height": null,
            "justify_content": null,
            "justify_items": null,
            "left": null,
            "margin": null,
            "max_height": null,
            "max_width": null,
            "min_height": null,
            "min_width": null,
            "object_fit": null,
            "object_position": null,
            "order": null,
            "overflow": null,
            "overflow_x": null,
            "overflow_y": null,
            "padding": null,
            "right": null,
            "top": null,
            "visibility": null,
            "width": null
          }
        },
        "686ccf39449d402ab4c3ff69b2a67957": {
          "model_module": "@jupyter-widgets/controls",
          "model_name": "DescriptionStyleModel",
          "model_module_version": "1.5.0",
          "state": {
            "_model_module": "@jupyter-widgets/controls",
            "_model_module_version": "1.5.0",
            "_model_name": "DescriptionStyleModel",
            "_view_count": null,
            "_view_module": "@jupyter-widgets/base",
            "_view_module_version": "1.2.0",
            "_view_name": "StyleView",
            "description_width": ""
          }
        },
        "f41748dc69674ce0b5f59cb20f27f1c7": {
          "model_module": "@jupyter-widgets/controls",
          "model_name": "HBoxModel",
          "model_module_version": "1.5.0",
          "state": {
            "_dom_classes": [],
            "_model_module": "@jupyter-widgets/controls",
            "_model_module_version": "1.5.0",
            "_model_name": "HBoxModel",
            "_view_count": null,
            "_view_module": "@jupyter-widgets/controls",
            "_view_module_version": "1.5.0",
            "_view_name": "HBoxView",
            "box_style": "",
            "children": [
              "IPY_MODEL_a702f717c7a44e4c85490f5439e9c185",
              "IPY_MODEL_ad7cf9b3263c4594952ebf7ae45021bf",
              "IPY_MODEL_4a90f5fe522c4ed48d3b72b05d05b672"
            ],
            "layout": "IPY_MODEL_02ccbee440fe40b7ae2538d4048919c7"
          }
        },
        "a702f717c7a44e4c85490f5439e9c185": {
          "model_module": "@jupyter-widgets/controls",
          "model_name": "HTMLModel",
          "model_module_version": "1.5.0",
          "state": {
            "_dom_classes": [],
            "_model_module": "@jupyter-widgets/controls",
            "_model_module_version": "1.5.0",
            "_model_name": "HTMLModel",
            "_view_count": null,
            "_view_module": "@jupyter-widgets/controls",
            "_view_module_version": "1.5.0",
            "_view_name": "HTMLView",
            "description": "",
            "description_tooltip": null,
            "layout": "IPY_MODEL_7f01c675534b48f9be7e47639c0fc2e0",
            "placeholder": "​",
            "style": "IPY_MODEL_d9664e0431b94506ac10fcbda39ad2aa",
            "value": "Downloading https://huggingface.co/stanfordnlp/CoreNLP/resolve/main/stanford-corenlp-latest.zip: 100%"
          }
        },
        "ad7cf9b3263c4594952ebf7ae45021bf": {
          "model_module": "@jupyter-widgets/controls",
          "model_name": "FloatProgressModel",
          "model_module_version": "1.5.0",
          "state": {
            "_dom_classes": [],
            "_model_module": "@jupyter-widgets/controls",
            "_model_module_version": "1.5.0",
            "_model_name": "FloatProgressModel",
            "_view_count": null,
            "_view_module": "@jupyter-widgets/controls",
            "_view_module_version": "1.5.0",
            "_view_name": "ProgressView",
            "bar_style": "success",
            "description": "",
            "description_tooltip": null,
            "layout": "IPY_MODEL_a1f87ec7cda2456d843c67d2fb67b3b2",
            "max": 505207915,
            "min": 0,
            "orientation": "horizontal",
            "style": "IPY_MODEL_bf828f4750a14b639a6a3b7b1798eed7",
            "value": 505207915
          }
        },
        "4a90f5fe522c4ed48d3b72b05d05b672": {
          "model_module": "@jupyter-widgets/controls",
          "model_name": "HTMLModel",
          "model_module_version": "1.5.0",
          "state": {
            "_dom_classes": [],
            "_model_module": "@jupyter-widgets/controls",
            "_model_module_version": "1.5.0",
            "_model_name": "HTMLModel",
            "_view_count": null,
            "_view_module": "@jupyter-widgets/controls",
            "_view_module_version": "1.5.0",
            "_view_name": "HTMLView",
            "description": "",
            "description_tooltip": null,
            "layout": "IPY_MODEL_590b7c8f5d544ebb977db45a4b1cff31",
            "placeholder": "​",
            "style": "IPY_MODEL_dad25328d3c0402099ef4237b5d6d415",
            "value": " 505M/505M [00:02&lt;00:00, 203MB/s]"
          }
        },
        "02ccbee440fe40b7ae2538d4048919c7": {
          "model_module": "@jupyter-widgets/base",
          "model_name": "LayoutModel",
          "model_module_version": "1.2.0",
          "state": {
            "_model_module": "@jupyter-widgets/base",
            "_model_module_version": "1.2.0",
            "_model_name": "LayoutModel",
            "_view_count": null,
            "_view_module": "@jupyter-widgets/base",
            "_view_module_version": "1.2.0",
            "_view_name": "LayoutView",
            "align_content": null,
            "align_items": null,
            "align_self": null,
            "border": null,
            "bottom": null,
            "display": null,
            "flex": null,
            "flex_flow": null,
            "grid_area": null,
            "grid_auto_columns": null,
            "grid_auto_flow": null,
            "grid_auto_rows": null,
            "grid_column": null,
            "grid_gap": null,
            "grid_row": null,
            "grid_template_areas": null,
            "grid_template_columns": null,
            "grid_template_rows": null,
            "height": null,
            "justify_content": null,
            "justify_items": null,
            "left": null,
            "margin": null,
            "max_height": null,
            "max_width": null,
            "min_height": null,
            "min_width": null,
            "object_fit": null,
            "object_position": null,
            "order": null,
            "overflow": null,
            "overflow_x": null,
            "overflow_y": null,
            "padding": null,
            "right": null,
            "top": null,
            "visibility": null,
            "width": null
          }
        },
        "7f01c675534b48f9be7e47639c0fc2e0": {
          "model_module": "@jupyter-widgets/base",
          "model_name": "LayoutModel",
          "model_module_version": "1.2.0",
          "state": {
            "_model_module": "@jupyter-widgets/base",
            "_model_module_version": "1.2.0",
            "_model_name": "LayoutModel",
            "_view_count": null,
            "_view_module": "@jupyter-widgets/base",
            "_view_module_version": "1.2.0",
            "_view_name": "LayoutView",
            "align_content": null,
            "align_items": null,
            "align_self": null,
            "border": null,
            "bottom": null,
            "display": null,
            "flex": null,
            "flex_flow": null,
            "grid_area": null,
            "grid_auto_columns": null,
            "grid_auto_flow": null,
            "grid_auto_rows": null,
            "grid_column": null,
            "grid_gap": null,
            "grid_row": null,
            "grid_template_areas": null,
            "grid_template_columns": null,
            "grid_template_rows": null,
            "height": null,
            "justify_content": null,
            "justify_items": null,
            "left": null,
            "margin": null,
            "max_height": null,
            "max_width": null,
            "min_height": null,
            "min_width": null,
            "object_fit": null,
            "object_position": null,
            "order": null,
            "overflow": null,
            "overflow_x": null,
            "overflow_y": null,
            "padding": null,
            "right": null,
            "top": null,
            "visibility": null,
            "width": null
          }
        },
        "d9664e0431b94506ac10fcbda39ad2aa": {
          "model_module": "@jupyter-widgets/controls",
          "model_name": "DescriptionStyleModel",
          "model_module_version": "1.5.0",
          "state": {
            "_model_module": "@jupyter-widgets/controls",
            "_model_module_version": "1.5.0",
            "_model_name": "DescriptionStyleModel",
            "_view_count": null,
            "_view_module": "@jupyter-widgets/base",
            "_view_module_version": "1.2.0",
            "_view_name": "StyleView",
            "description_width": ""
          }
        },
        "a1f87ec7cda2456d843c67d2fb67b3b2": {
          "model_module": "@jupyter-widgets/base",
          "model_name": "LayoutModel",
          "model_module_version": "1.2.0",
          "state": {
            "_model_module": "@jupyter-widgets/base",
            "_model_module_version": "1.2.0",
            "_model_name": "LayoutModel",
            "_view_count": null,
            "_view_module": "@jupyter-widgets/base",
            "_view_module_version": "1.2.0",
            "_view_name": "LayoutView",
            "align_content": null,
            "align_items": null,
            "align_self": null,
            "border": null,
            "bottom": null,
            "display": null,
            "flex": null,
            "flex_flow": null,
            "grid_area": null,
            "grid_auto_columns": null,
            "grid_auto_flow": null,
            "grid_auto_rows": null,
            "grid_column": null,
            "grid_gap": null,
            "grid_row": null,
            "grid_template_areas": null,
            "grid_template_columns": null,
            "grid_template_rows": null,
            "height": null,
            "justify_content": null,
            "justify_items": null,
            "left": null,
            "margin": null,
            "max_height": null,
            "max_width": null,
            "min_height": null,
            "min_width": null,
            "object_fit": null,
            "object_position": null,
            "order": null,
            "overflow": null,
            "overflow_x": null,
            "overflow_y": null,
            "padding": null,
            "right": null,
            "top": null,
            "visibility": null,
            "width": null
          }
        },
        "bf828f4750a14b639a6a3b7b1798eed7": {
          "model_module": "@jupyter-widgets/controls",
          "model_name": "ProgressStyleModel",
          "model_module_version": "1.5.0",
          "state": {
            "_model_module": "@jupyter-widgets/controls",
            "_model_module_version": "1.5.0",
            "_model_name": "ProgressStyleModel",
            "_view_count": null,
            "_view_module": "@jupyter-widgets/base",
            "_view_module_version": "1.2.0",
            "_view_name": "StyleView",
            "bar_color": null,
            "description_width": ""
          }
        },
        "590b7c8f5d544ebb977db45a4b1cff31": {
          "model_module": "@jupyter-widgets/base",
          "model_name": "LayoutModel",
          "model_module_version": "1.2.0",
          "state": {
            "_model_module": "@jupyter-widgets/base",
            "_model_module_version": "1.2.0",
            "_model_name": "LayoutModel",
            "_view_count": null,
            "_view_module": "@jupyter-widgets/base",
            "_view_module_version": "1.2.0",
            "_view_name": "LayoutView",
            "align_content": null,
            "align_items": null,
            "align_self": null,
            "border": null,
            "bottom": null,
            "display": null,
            "flex": null,
            "flex_flow": null,
            "grid_area": null,
            "grid_auto_columns": null,
            "grid_auto_flow": null,
            "grid_auto_rows": null,
            "grid_column": null,
            "grid_gap": null,
            "grid_row": null,
            "grid_template_areas": null,
            "grid_template_columns": null,
            "grid_template_rows": null,
            "height": null,
            "justify_content": null,
            "justify_items": null,
            "left": null,
            "margin": null,
            "max_height": null,
            "max_width": null,
            "min_height": null,
            "min_width": null,
            "object_fit": null,
            "object_position": null,
            "order": null,
            "overflow": null,
            "overflow_x": null,
            "overflow_y": null,
            "padding": null,
            "right": null,
            "top": null,
            "visibility": null,
            "width": null
          }
        },
        "dad25328d3c0402099ef4237b5d6d415": {
          "model_module": "@jupyter-widgets/controls",
          "model_name": "DescriptionStyleModel",
          "model_module_version": "1.5.0",
          "state": {
            "_model_module": "@jupyter-widgets/controls",
            "_model_module_version": "1.5.0",
            "_model_name": "DescriptionStyleModel",
            "_view_count": null,
            "_view_module": "@jupyter-widgets/base",
            "_view_module_version": "1.2.0",
            "_view_name": "StyleView",
            "description_width": ""
          }
        },
        "f2f84bcbaafd49d3a4f099f40c954939": {
          "model_module": "@jupyter-widgets/controls",
          "model_name": "HBoxModel",
          "model_module_version": "1.5.0",
          "state": {
            "_dom_classes": [],
            "_model_module": "@jupyter-widgets/controls",
            "_model_module_version": "1.5.0",
            "_model_name": "HBoxModel",
            "_view_count": null,
            "_view_module": "@jupyter-widgets/controls",
            "_view_module_version": "1.5.0",
            "_view_name": "HBoxView",
            "box_style": "",
            "children": [
              "IPY_MODEL_bf737bc480414716a2002ff820b0f40d",
              "IPY_MODEL_b04aa7d53e484302a3ed888be0550d4b",
              "IPY_MODEL_c6c2f14022b94a50bc8f25cb6fb3a96f"
            ],
            "layout": "IPY_MODEL_7d912924af384325863a3056ab7abd60"
          }
        },
        "bf737bc480414716a2002ff820b0f40d": {
          "model_module": "@jupyter-widgets/controls",
          "model_name": "HTMLModel",
          "model_module_version": "1.5.0",
          "state": {
            "_dom_classes": [],
            "_model_module": "@jupyter-widgets/controls",
            "_model_module_version": "1.5.0",
            "_model_name": "HTMLModel",
            "_view_count": null,
            "_view_module": "@jupyter-widgets/controls",
            "_view_module_version": "1.5.0",
            "_view_name": "HTMLView",
            "description": "",
            "description_tooltip": null,
            "layout": "IPY_MODEL_32a178a764b2449698bac30bdd6fe214",
            "placeholder": "​",
            "style": "IPY_MODEL_1a79ff442c5143fd9acce5e8675e3017",
            "value": "Downloading: 100%"
          }
        },
        "b04aa7d53e484302a3ed888be0550d4b": {
          "model_module": "@jupyter-widgets/controls",
          "model_name": "FloatProgressModel",
          "model_module_version": "1.5.0",
          "state": {
            "_dom_classes": [],
            "_model_module": "@jupyter-widgets/controls",
            "_model_module_version": "1.5.0",
            "_model_name": "FloatProgressModel",
            "_view_count": null,
            "_view_module": "@jupyter-widgets/controls",
            "_view_module_version": "1.5.0",
            "_view_name": "ProgressView",
            "bar_style": "success",
            "description": "",
            "description_tooltip": null,
            "layout": "IPY_MODEL_3f4fe8b61913421aa41434ba8713203f",
            "max": 571,
            "min": 0,
            "orientation": "horizontal",
            "style": "IPY_MODEL_48354e6942dc4fb08a719ec1fac39170",
            "value": 571
          }
        },
        "c6c2f14022b94a50bc8f25cb6fb3a96f": {
          "model_module": "@jupyter-widgets/controls",
          "model_name": "HTMLModel",
          "model_module_version": "1.5.0",
          "state": {
            "_dom_classes": [],
            "_model_module": "@jupyter-widgets/controls",
            "_model_module_version": "1.5.0",
            "_model_name": "HTMLModel",
            "_view_count": null,
            "_view_module": "@jupyter-widgets/controls",
            "_view_module_version": "1.5.0",
            "_view_name": "HTMLView",
            "description": "",
            "description_tooltip": null,
            "layout": "IPY_MODEL_0b8c93acae2a47e0a1f578b95cba5e9e",
            "placeholder": "​",
            "style": "IPY_MODEL_f33785e9e204408f9ab227d23d3d0eb7",
            "value": " 571/571 [00:00&lt;00:00, 7.34kB/s]"
          }
        },
        "7d912924af384325863a3056ab7abd60": {
          "model_module": "@jupyter-widgets/base",
          "model_name": "LayoutModel",
          "model_module_version": "1.2.0",
          "state": {
            "_model_module": "@jupyter-widgets/base",
            "_model_module_version": "1.2.0",
            "_model_name": "LayoutModel",
            "_view_count": null,
            "_view_module": "@jupyter-widgets/base",
            "_view_module_version": "1.2.0",
            "_view_name": "LayoutView",
            "align_content": null,
            "align_items": null,
            "align_self": null,
            "border": null,
            "bottom": null,
            "display": null,
            "flex": null,
            "flex_flow": null,
            "grid_area": null,
            "grid_auto_columns": null,
            "grid_auto_flow": null,
            "grid_auto_rows": null,
            "grid_column": null,
            "grid_gap": null,
            "grid_row": null,
            "grid_template_areas": null,
            "grid_template_columns": null,
            "grid_template_rows": null,
            "height": null,
            "justify_content": null,
            "justify_items": null,
            "left": null,
            "margin": null,
            "max_height": null,
            "max_width": null,
            "min_height": null,
            "min_width": null,
            "object_fit": null,
            "object_position": null,
            "order": null,
            "overflow": null,
            "overflow_x": null,
            "overflow_y": null,
            "padding": null,
            "right": null,
            "top": null,
            "visibility": null,
            "width": null
          }
        },
        "32a178a764b2449698bac30bdd6fe214": {
          "model_module": "@jupyter-widgets/base",
          "model_name": "LayoutModel",
          "model_module_version": "1.2.0",
          "state": {
            "_model_module": "@jupyter-widgets/base",
            "_model_module_version": "1.2.0",
            "_model_name": "LayoutModel",
            "_view_count": null,
            "_view_module": "@jupyter-widgets/base",
            "_view_module_version": "1.2.0",
            "_view_name": "LayoutView",
            "align_content": null,
            "align_items": null,
            "align_self": null,
            "border": null,
            "bottom": null,
            "display": null,
            "flex": null,
            "flex_flow": null,
            "grid_area": null,
            "grid_auto_columns": null,
            "grid_auto_flow": null,
            "grid_auto_rows": null,
            "grid_column": null,
            "grid_gap": null,
            "grid_row": null,
            "grid_template_areas": null,
            "grid_template_columns": null,
            "grid_template_rows": null,
            "height": null,
            "justify_content": null,
            "justify_items": null,
            "left": null,
            "margin": null,
            "max_height": null,
            "max_width": null,
            "min_height": null,
            "min_width": null,
            "object_fit": null,
            "object_position": null,
            "order": null,
            "overflow": null,
            "overflow_x": null,
            "overflow_y": null,
            "padding": null,
            "right": null,
            "top": null,
            "visibility": null,
            "width": null
          }
        },
        "1a79ff442c5143fd9acce5e8675e3017": {
          "model_module": "@jupyter-widgets/controls",
          "model_name": "DescriptionStyleModel",
          "model_module_version": "1.5.0",
          "state": {
            "_model_module": "@jupyter-widgets/controls",
            "_model_module_version": "1.5.0",
            "_model_name": "DescriptionStyleModel",
            "_view_count": null,
            "_view_module": "@jupyter-widgets/base",
            "_view_module_version": "1.2.0",
            "_view_name": "StyleView",
            "description_width": ""
          }
        },
        "3f4fe8b61913421aa41434ba8713203f": {
          "model_module": "@jupyter-widgets/base",
          "model_name": "LayoutModel",
          "model_module_version": "1.2.0",
          "state": {
            "_model_module": "@jupyter-widgets/base",
            "_model_module_version": "1.2.0",
            "_model_name": "LayoutModel",
            "_view_count": null,
            "_view_module": "@jupyter-widgets/base",
            "_view_module_version": "1.2.0",
            "_view_name": "LayoutView",
            "align_content": null,
            "align_items": null,
            "align_self": null,
            "border": null,
            "bottom": null,
            "display": null,
            "flex": null,
            "flex_flow": null,
            "grid_area": null,
            "grid_auto_columns": null,
            "grid_auto_flow": null,
            "grid_auto_rows": null,
            "grid_column": null,
            "grid_gap": null,
            "grid_row": null,
            "grid_template_areas": null,
            "grid_template_columns": null,
            "grid_template_rows": null,
            "height": null,
            "justify_content": null,
            "justify_items": null,
            "left": null,
            "margin": null,
            "max_height": null,
            "max_width": null,
            "min_height": null,
            "min_width": null,
            "object_fit": null,
            "object_position": null,
            "order": null,
            "overflow": null,
            "overflow_x": null,
            "overflow_y": null,
            "padding": null,
            "right": null,
            "top": null,
            "visibility": null,
            "width": null
          }
        },
        "48354e6942dc4fb08a719ec1fac39170": {
          "model_module": "@jupyter-widgets/controls",
          "model_name": "ProgressStyleModel",
          "model_module_version": "1.5.0",
          "state": {
            "_model_module": "@jupyter-widgets/controls",
            "_model_module_version": "1.5.0",
            "_model_name": "ProgressStyleModel",
            "_view_count": null,
            "_view_module": "@jupyter-widgets/base",
            "_view_module_version": "1.2.0",
            "_view_name": "StyleView",
            "bar_color": null,
            "description_width": ""
          }
        },
        "0b8c93acae2a47e0a1f578b95cba5e9e": {
          "model_module": "@jupyter-widgets/base",
          "model_name": "LayoutModel",
          "model_module_version": "1.2.0",
          "state": {
            "_model_module": "@jupyter-widgets/base",
            "_model_module_version": "1.2.0",
            "_model_name": "LayoutModel",
            "_view_count": null,
            "_view_module": "@jupyter-widgets/base",
            "_view_module_version": "1.2.0",
            "_view_name": "LayoutView",
            "align_content": null,
            "align_items": null,
            "align_self": null,
            "border": null,
            "bottom": null,
            "display": null,
            "flex": null,
            "flex_flow": null,
            "grid_area": null,
            "grid_auto_columns": null,
            "grid_auto_flow": null,
            "grid_auto_rows": null,
            "grid_column": null,
            "grid_gap": null,
            "grid_row": null,
            "grid_template_areas": null,
            "grid_template_columns": null,
            "grid_template_rows": null,
            "height": null,
            "justify_content": null,
            "justify_items": null,
            "left": null,
            "margin": null,
            "max_height": null,
            "max_width": null,
            "min_height": null,
            "min_width": null,
            "object_fit": null,
            "object_position": null,
            "order": null,
            "overflow": null,
            "overflow_x": null,
            "overflow_y": null,
            "padding": null,
            "right": null,
            "top": null,
            "visibility": null,
            "width": null
          }
        },
        "f33785e9e204408f9ab227d23d3d0eb7": {
          "model_module": "@jupyter-widgets/controls",
          "model_name": "DescriptionStyleModel",
          "model_module_version": "1.5.0",
          "state": {
            "_model_module": "@jupyter-widgets/controls",
            "_model_module_version": "1.5.0",
            "_model_name": "DescriptionStyleModel",
            "_view_count": null,
            "_view_module": "@jupyter-widgets/base",
            "_view_module_version": "1.2.0",
            "_view_name": "StyleView",
            "description_width": ""
          }
        },
        "c94916a0e44e41968d8a57aa833543eb": {
          "model_module": "@jupyter-widgets/controls",
          "model_name": "HBoxModel",
          "model_module_version": "1.5.0",
          "state": {
            "_dom_classes": [],
            "_model_module": "@jupyter-widgets/controls",
            "_model_module_version": "1.5.0",
            "_model_name": "HBoxModel",
            "_view_count": null,
            "_view_module": "@jupyter-widgets/controls",
            "_view_module_version": "1.5.0",
            "_view_name": "HBoxView",
            "box_style": "",
            "children": [
              "IPY_MODEL_e99138576ce1497eb3b14d79afcec05d",
              "IPY_MODEL_3a20de0df404472b82f023e6c83698db",
              "IPY_MODEL_24544eadd91c4881b6e8ccdf92b1ec9a"
            ],
            "layout": "IPY_MODEL_a70b6c9c622740868619d22ac0a7a777"
          }
        },
        "e99138576ce1497eb3b14d79afcec05d": {
          "model_module": "@jupyter-widgets/controls",
          "model_name": "HTMLModel",
          "model_module_version": "1.5.0",
          "state": {
            "_dom_classes": [],
            "_model_module": "@jupyter-widgets/controls",
            "_model_module_version": "1.5.0",
            "_model_name": "HTMLModel",
            "_view_count": null,
            "_view_module": "@jupyter-widgets/controls",
            "_view_module_version": "1.5.0",
            "_view_name": "HTMLView",
            "description": "",
            "description_tooltip": null,
            "layout": "IPY_MODEL_48b984bc11664c568012c4fe6a8c9332",
            "placeholder": "​",
            "style": "IPY_MODEL_9c3821b6cf734d0bbec5fef5dbd834ac",
            "value": "Downloading: 100%"
          }
        },
        "3a20de0df404472b82f023e6c83698db": {
          "model_module": "@jupyter-widgets/controls",
          "model_name": "FloatProgressModel",
          "model_module_version": "1.5.0",
          "state": {
            "_dom_classes": [],
            "_model_module": "@jupyter-widgets/controls",
            "_model_module_version": "1.5.0",
            "_model_name": "FloatProgressModel",
            "_view_count": null,
            "_view_module": "@jupyter-widgets/controls",
            "_view_module_version": "1.5.0",
            "_view_name": "ProgressView",
            "bar_style": "success",
            "description": "",
            "description_tooltip": null,
            "layout": "IPY_MODEL_86b66cb285874a9ea5c7a9f85b0fce26",
            "max": 496313727,
            "min": 0,
            "orientation": "horizontal",
            "style": "IPY_MODEL_9dc06e57985f4d9ba76e483273b6d0b6",
            "value": 496313727
          }
        },
        "24544eadd91c4881b6e8ccdf92b1ec9a": {
          "model_module": "@jupyter-widgets/controls",
          "model_name": "HTMLModel",
          "model_module_version": "1.5.0",
          "state": {
            "_dom_classes": [],
            "_model_module": "@jupyter-widgets/controls",
            "_model_module_version": "1.5.0",
            "_model_name": "HTMLModel",
            "_view_count": null,
            "_view_module": "@jupyter-widgets/controls",
            "_view_module_version": "1.5.0",
            "_view_name": "HTMLView",
            "description": "",
            "description_tooltip": null,
            "layout": "IPY_MODEL_bd997f572e3345d495cbb1151ae2e8bc",
            "placeholder": "​",
            "style": "IPY_MODEL_ee594cfaf61740b199e212d1d426ab88",
            "value": " 473M/473M [00:15&lt;00:00, 27.0MB/s]"
          }
        },
        "a70b6c9c622740868619d22ac0a7a777": {
          "model_module": "@jupyter-widgets/base",
          "model_name": "LayoutModel",
          "model_module_version": "1.2.0",
          "state": {
            "_model_module": "@jupyter-widgets/base",
            "_model_module_version": "1.2.0",
            "_model_name": "LayoutModel",
            "_view_count": null,
            "_view_module": "@jupyter-widgets/base",
            "_view_module_version": "1.2.0",
            "_view_name": "LayoutView",
            "align_content": null,
            "align_items": null,
            "align_self": null,
            "border": null,
            "bottom": null,
            "display": null,
            "flex": null,
            "flex_flow": null,
            "grid_area": null,
            "grid_auto_columns": null,
            "grid_auto_flow": null,
            "grid_auto_rows": null,
            "grid_column": null,
            "grid_gap": null,
            "grid_row": null,
            "grid_template_areas": null,
            "grid_template_columns": null,
            "grid_template_rows": null,
            "height": null,
            "justify_content": null,
            "justify_items": null,
            "left": null,
            "margin": null,
            "max_height": null,
            "max_width": null,
            "min_height": null,
            "min_width": null,
            "object_fit": null,
            "object_position": null,
            "order": null,
            "overflow": null,
            "overflow_x": null,
            "overflow_y": null,
            "padding": null,
            "right": null,
            "top": null,
            "visibility": null,
            "width": null
          }
        },
        "48b984bc11664c568012c4fe6a8c9332": {
          "model_module": "@jupyter-widgets/base",
          "model_name": "LayoutModel",
          "model_module_version": "1.2.0",
          "state": {
            "_model_module": "@jupyter-widgets/base",
            "_model_module_version": "1.2.0",
            "_model_name": "LayoutModel",
            "_view_count": null,
            "_view_module": "@jupyter-widgets/base",
            "_view_module_version": "1.2.0",
            "_view_name": "LayoutView",
            "align_content": null,
            "align_items": null,
            "align_self": null,
            "border": null,
            "bottom": null,
            "display": null,
            "flex": null,
            "flex_flow": null,
            "grid_area": null,
            "grid_auto_columns": null,
            "grid_auto_flow": null,
            "grid_auto_rows": null,
            "grid_column": null,
            "grid_gap": null,
            "grid_row": null,
            "grid_template_areas": null,
            "grid_template_columns": null,
            "grid_template_rows": null,
            "height": null,
            "justify_content": null,
            "justify_items": null,
            "left": null,
            "margin": null,
            "max_height": null,
            "max_width": null,
            "min_height": null,
            "min_width": null,
            "object_fit": null,
            "object_position": null,
            "order": null,
            "overflow": null,
            "overflow_x": null,
            "overflow_y": null,
            "padding": null,
            "right": null,
            "top": null,
            "visibility": null,
            "width": null
          }
        },
        "9c3821b6cf734d0bbec5fef5dbd834ac": {
          "model_module": "@jupyter-widgets/controls",
          "model_name": "DescriptionStyleModel",
          "model_module_version": "1.5.0",
          "state": {
            "_model_module": "@jupyter-widgets/controls",
            "_model_module_version": "1.5.0",
            "_model_name": "DescriptionStyleModel",
            "_view_count": null,
            "_view_module": "@jupyter-widgets/base",
            "_view_module_version": "1.2.0",
            "_view_name": "StyleView",
            "description_width": ""
          }
        },
        "86b66cb285874a9ea5c7a9f85b0fce26": {
          "model_module": "@jupyter-widgets/base",
          "model_name": "LayoutModel",
          "model_module_version": "1.2.0",
          "state": {
            "_model_module": "@jupyter-widgets/base",
            "_model_module_version": "1.2.0",
            "_model_name": "LayoutModel",
            "_view_count": null,
            "_view_module": "@jupyter-widgets/base",
            "_view_module_version": "1.2.0",
            "_view_name": "LayoutView",
            "align_content": null,
            "align_items": null,
            "align_self": null,
            "border": null,
            "bottom": null,
            "display": null,
            "flex": null,
            "flex_flow": null,
            "grid_area": null,
            "grid_auto_columns": null,
            "grid_auto_flow": null,
            "grid_auto_rows": null,
            "grid_column": null,
            "grid_gap": null,
            "grid_row": null,
            "grid_template_areas": null,
            "grid_template_columns": null,
            "grid_template_rows": null,
            "height": null,
            "justify_content": null,
            "justify_items": null,
            "left": null,
            "margin": null,
            "max_height": null,
            "max_width": null,
            "min_height": null,
            "min_width": null,
            "object_fit": null,
            "object_position": null,
            "order": null,
            "overflow": null,
            "overflow_x": null,
            "overflow_y": null,
            "padding": null,
            "right": null,
            "top": null,
            "visibility": null,
            "width": null
          }
        },
        "9dc06e57985f4d9ba76e483273b6d0b6": {
          "model_module": "@jupyter-widgets/controls",
          "model_name": "ProgressStyleModel",
          "model_module_version": "1.5.0",
          "state": {
            "_model_module": "@jupyter-widgets/controls",
            "_model_module_version": "1.5.0",
            "_model_name": "ProgressStyleModel",
            "_view_count": null,
            "_view_module": "@jupyter-widgets/base",
            "_view_module_version": "1.2.0",
            "_view_name": "StyleView",
            "bar_color": null,
            "description_width": ""
          }
        },
        "bd997f572e3345d495cbb1151ae2e8bc": {
          "model_module": "@jupyter-widgets/base",
          "model_name": "LayoutModel",
          "model_module_version": "1.2.0",
          "state": {
            "_model_module": "@jupyter-widgets/base",
            "_model_module_version": "1.2.0",
            "_model_name": "LayoutModel",
            "_view_count": null,
            "_view_module": "@jupyter-widgets/base",
            "_view_module_version": "1.2.0",
            "_view_name": "LayoutView",
            "align_content": null,
            "align_items": null,
            "align_self": null,
            "border": null,
            "bottom": null,
            "display": null,
            "flex": null,
            "flex_flow": null,
            "grid_area": null,
            "grid_auto_columns": null,
            "grid_auto_flow": null,
            "grid_auto_rows": null,
            "grid_column": null,
            "grid_gap": null,
            "grid_row": null,
            "grid_template_areas": null,
            "grid_template_columns": null,
            "grid_template_rows": null,
            "height": null,
            "justify_content": null,
            "justify_items": null,
            "left": null,
            "margin": null,
            "max_height": null,
            "max_width": null,
            "min_height": null,
            "min_width": null,
            "object_fit": null,
            "object_position": null,
            "order": null,
            "overflow": null,
            "overflow_x": null,
            "overflow_y": null,
            "padding": null,
            "right": null,
            "top": null,
            "visibility": null,
            "width": null
          }
        },
        "ee594cfaf61740b199e212d1d426ab88": {
          "model_module": "@jupyter-widgets/controls",
          "model_name": "DescriptionStyleModel",
          "model_module_version": "1.5.0",
          "state": {
            "_model_module": "@jupyter-widgets/controls",
            "_model_module_version": "1.5.0",
            "_model_name": "DescriptionStyleModel",
            "_view_count": null,
            "_view_module": "@jupyter-widgets/base",
            "_view_module_version": "1.2.0",
            "_view_name": "StyleView",
            "description_width": ""
          }
        },
        "92d33c9bd9744a6faff0b5d885374cdd": {
          "model_module": "@jupyter-widgets/controls",
          "model_name": "HBoxModel",
          "model_module_version": "1.5.0",
          "state": {
            "_dom_classes": [],
            "_model_module": "@jupyter-widgets/controls",
            "_model_module_version": "1.5.0",
            "_model_name": "HBoxModel",
            "_view_count": null,
            "_view_module": "@jupyter-widgets/controls",
            "_view_module_version": "1.5.0",
            "_view_name": "HBoxView",
            "box_style": "",
            "children": [
              "IPY_MODEL_86fbad7c2fbd43d8b774b5787aea2c5f",
              "IPY_MODEL_c20397a8103646fc86edb5a5f29aa59e",
              "IPY_MODEL_39a240ebc608404daf2d10816bc71ffa"
            ],
            "layout": "IPY_MODEL_b6c27f53543c48b1adbda746c8775fe6"
          }
        },
        "86fbad7c2fbd43d8b774b5787aea2c5f": {
          "model_module": "@jupyter-widgets/controls",
          "model_name": "HTMLModel",
          "model_module_version": "1.5.0",
          "state": {
            "_dom_classes": [],
            "_model_module": "@jupyter-widgets/controls",
            "_model_module_version": "1.5.0",
            "_model_name": "HTMLModel",
            "_view_count": null,
            "_view_module": "@jupyter-widgets/controls",
            "_view_module_version": "1.5.0",
            "_view_name": "HTMLView",
            "description": "",
            "description_tooltip": null,
            "layout": "IPY_MODEL_7184c7a0d93f4678a9651a99c3c907a5",
            "placeholder": "​",
            "style": "IPY_MODEL_1df180f90de849e0a85c427bd7139d25",
            "value": "Downloading: 100%"
          }
        },
        "c20397a8103646fc86edb5a5f29aa59e": {
          "model_module": "@jupyter-widgets/controls",
          "model_name": "FloatProgressModel",
          "model_module_version": "1.5.0",
          "state": {
            "_dom_classes": [],
            "_model_module": "@jupyter-widgets/controls",
            "_model_module_version": "1.5.0",
            "_model_name": "FloatProgressModel",
            "_view_count": null,
            "_view_module": "@jupyter-widgets/controls",
            "_view_module_version": "1.5.0",
            "_view_name": "ProgressView",
            "bar_style": "success",
            "description": "",
            "description_tooltip": null,
            "layout": "IPY_MODEL_59ef1dc7b686458392a048fce010f306",
            "max": 79,
            "min": 0,
            "orientation": "horizontal",
            "style": "IPY_MODEL_92f2e2b17ffc42b89dbc782e2432810d",
            "value": 79
          }
        },
        "39a240ebc608404daf2d10816bc71ffa": {
          "model_module": "@jupyter-widgets/controls",
          "model_name": "HTMLModel",
          "model_module_version": "1.5.0",
          "state": {
            "_dom_classes": [],
            "_model_module": "@jupyter-widgets/controls",
            "_model_module_version": "1.5.0",
            "_model_name": "HTMLModel",
            "_view_count": null,
            "_view_module": "@jupyter-widgets/controls",
            "_view_module_version": "1.5.0",
            "_view_name": "HTMLView",
            "description": "",
            "description_tooltip": null,
            "layout": "IPY_MODEL_0e860dbb82cb46439dd687177e11ef10",
            "placeholder": "​",
            "style": "IPY_MODEL_a081e2eb667f46a7801540c505d4175e",
            "value": " 79.0/79.0 [00:00&lt;00:00, 1.48kB/s]"
          }
        },
        "b6c27f53543c48b1adbda746c8775fe6": {
          "model_module": "@jupyter-widgets/base",
          "model_name": "LayoutModel",
          "model_module_version": "1.2.0",
          "state": {
            "_model_module": "@jupyter-widgets/base",
            "_model_module_version": "1.2.0",
            "_model_name": "LayoutModel",
            "_view_count": null,
            "_view_module": "@jupyter-widgets/base",
            "_view_module_version": "1.2.0",
            "_view_name": "LayoutView",
            "align_content": null,
            "align_items": null,
            "align_self": null,
            "border": null,
            "bottom": null,
            "display": null,
            "flex": null,
            "flex_flow": null,
            "grid_area": null,
            "grid_auto_columns": null,
            "grid_auto_flow": null,
            "grid_auto_rows": null,
            "grid_column": null,
            "grid_gap": null,
            "grid_row": null,
            "grid_template_areas": null,
            "grid_template_columns": null,
            "grid_template_rows": null,
            "height": null,
            "justify_content": null,
            "justify_items": null,
            "left": null,
            "margin": null,
            "max_height": null,
            "max_width": null,
            "min_height": null,
            "min_width": null,
            "object_fit": null,
            "object_position": null,
            "order": null,
            "overflow": null,
            "overflow_x": null,
            "overflow_y": null,
            "padding": null,
            "right": null,
            "top": null,
            "visibility": null,
            "width": null
          }
        },
        "7184c7a0d93f4678a9651a99c3c907a5": {
          "model_module": "@jupyter-widgets/base",
          "model_name": "LayoutModel",
          "model_module_version": "1.2.0",
          "state": {
            "_model_module": "@jupyter-widgets/base",
            "_model_module_version": "1.2.0",
            "_model_name": "LayoutModel",
            "_view_count": null,
            "_view_module": "@jupyter-widgets/base",
            "_view_module_version": "1.2.0",
            "_view_name": "LayoutView",
            "align_content": null,
            "align_items": null,
            "align_self": null,
            "border": null,
            "bottom": null,
            "display": null,
            "flex": null,
            "flex_flow": null,
            "grid_area": null,
            "grid_auto_columns": null,
            "grid_auto_flow": null,
            "grid_auto_rows": null,
            "grid_column": null,
            "grid_gap": null,
            "grid_row": null,
            "grid_template_areas": null,
            "grid_template_columns": null,
            "grid_template_rows": null,
            "height": null,
            "justify_content": null,
            "justify_items": null,
            "left": null,
            "margin": null,
            "max_height": null,
            "max_width": null,
            "min_height": null,
            "min_width": null,
            "object_fit": null,
            "object_position": null,
            "order": null,
            "overflow": null,
            "overflow_x": null,
            "overflow_y": null,
            "padding": null,
            "right": null,
            "top": null,
            "visibility": null,
            "width": null
          }
        },
        "1df180f90de849e0a85c427bd7139d25": {
          "model_module": "@jupyter-widgets/controls",
          "model_name": "DescriptionStyleModel",
          "model_module_version": "1.5.0",
          "state": {
            "_model_module": "@jupyter-widgets/controls",
            "_model_module_version": "1.5.0",
            "_model_name": "DescriptionStyleModel",
            "_view_count": null,
            "_view_module": "@jupyter-widgets/base",
            "_view_module_version": "1.2.0",
            "_view_name": "StyleView",
            "description_width": ""
          }
        },
        "59ef1dc7b686458392a048fce010f306": {
          "model_module": "@jupyter-widgets/base",
          "model_name": "LayoutModel",
          "model_module_version": "1.2.0",
          "state": {
            "_model_module": "@jupyter-widgets/base",
            "_model_module_version": "1.2.0",
            "_model_name": "LayoutModel",
            "_view_count": null,
            "_view_module": "@jupyter-widgets/base",
            "_view_module_version": "1.2.0",
            "_view_name": "LayoutView",
            "align_content": null,
            "align_items": null,
            "align_self": null,
            "border": null,
            "bottom": null,
            "display": null,
            "flex": null,
            "flex_flow": null,
            "grid_area": null,
            "grid_auto_columns": null,
            "grid_auto_flow": null,
            "grid_auto_rows": null,
            "grid_column": null,
            "grid_gap": null,
            "grid_row": null,
            "grid_template_areas": null,
            "grid_template_columns": null,
            "grid_template_rows": null,
            "height": null,
            "justify_content": null,
            "justify_items": null,
            "left": null,
            "margin": null,
            "max_height": null,
            "max_width": null,
            "min_height": null,
            "min_width": null,
            "object_fit": null,
            "object_position": null,
            "order": null,
            "overflow": null,
            "overflow_x": null,
            "overflow_y": null,
            "padding": null,
            "right": null,
            "top": null,
            "visibility": null,
            "width": null
          }
        },
        "92f2e2b17ffc42b89dbc782e2432810d": {
          "model_module": "@jupyter-widgets/controls",
          "model_name": "ProgressStyleModel",
          "model_module_version": "1.5.0",
          "state": {
            "_model_module": "@jupyter-widgets/controls",
            "_model_module_version": "1.5.0",
            "_model_name": "ProgressStyleModel",
            "_view_count": null,
            "_view_module": "@jupyter-widgets/base",
            "_view_module_version": "1.2.0",
            "_view_name": "StyleView",
            "bar_color": null,
            "description_width": ""
          }
        },
        "0e860dbb82cb46439dd687177e11ef10": {
          "model_module": "@jupyter-widgets/base",
          "model_name": "LayoutModel",
          "model_module_version": "1.2.0",
          "state": {
            "_model_module": "@jupyter-widgets/base",
            "_model_module_version": "1.2.0",
            "_model_name": "LayoutModel",
            "_view_count": null,
            "_view_module": "@jupyter-widgets/base",
            "_view_module_version": "1.2.0",
            "_view_name": "LayoutView",
            "align_content": null,
            "align_items": null,
            "align_self": null,
            "border": null,
            "bottom": null,
            "display": null,
            "flex": null,
            "flex_flow": null,
            "grid_area": null,
            "grid_auto_columns": null,
            "grid_auto_flow": null,
            "grid_auto_rows": null,
            "grid_column": null,
            "grid_gap": null,
            "grid_row": null,
            "grid_template_areas": null,
            "grid_template_columns": null,
            "grid_template_rows": null,
            "height": null,
            "justify_content": null,
            "justify_items": null,
            "left": null,
            "margin": null,
            "max_height": null,
            "max_width": null,
            "min_height": null,
            "min_width": null,
            "object_fit": null,
            "object_position": null,
            "order": null,
            "overflow": null,
            "overflow_x": null,
            "overflow_y": null,
            "padding": null,
            "right": null,
            "top": null,
            "visibility": null,
            "width": null
          }
        },
        "a081e2eb667f46a7801540c505d4175e": {
          "model_module": "@jupyter-widgets/controls",
          "model_name": "DescriptionStyleModel",
          "model_module_version": "1.5.0",
          "state": {
            "_model_module": "@jupyter-widgets/controls",
            "_model_module_version": "1.5.0",
            "_model_name": "DescriptionStyleModel",
            "_view_count": null,
            "_view_module": "@jupyter-widgets/base",
            "_view_module_version": "1.2.0",
            "_view_name": "StyleView",
            "description_width": ""
          }
        },
        "b6651d5f31b64e6ea1f8260375ad22d0": {
          "model_module": "@jupyter-widgets/controls",
          "model_name": "HBoxModel",
          "model_module_version": "1.5.0",
          "state": {
            "_dom_classes": [],
            "_model_module": "@jupyter-widgets/controls",
            "_model_module_version": "1.5.0",
            "_model_name": "HBoxModel",
            "_view_count": null,
            "_view_module": "@jupyter-widgets/controls",
            "_view_module_version": "1.5.0",
            "_view_name": "HBoxView",
            "box_style": "",
            "children": [
              "IPY_MODEL_973c8535c02043d7a0b2e70648611f2a",
              "IPY_MODEL_45e7b7389b5f46ba8e3c69af0dc994db",
              "IPY_MODEL_a67c281e42b84c669941f730ff105208"
            ],
            "layout": "IPY_MODEL_01582cf2975c45f5a41521966be3dabd"
          }
        },
        "973c8535c02043d7a0b2e70648611f2a": {
          "model_module": "@jupyter-widgets/controls",
          "model_name": "HTMLModel",
          "model_module_version": "1.5.0",
          "state": {
            "_dom_classes": [],
            "_model_module": "@jupyter-widgets/controls",
            "_model_module_version": "1.5.0",
            "_model_name": "HTMLModel",
            "_view_count": null,
            "_view_module": "@jupyter-widgets/controls",
            "_view_module_version": "1.5.0",
            "_view_name": "HTMLView",
            "description": "",
            "description_tooltip": null,
            "layout": "IPY_MODEL_7c6f94f4da834c33b4146889d7934fd9",
            "placeholder": "​",
            "style": "IPY_MODEL_df0f4aa887254e87888d9d0b52e21ee8",
            "value": "Downloading: 100%"
          }
        },
        "45e7b7389b5f46ba8e3c69af0dc994db": {
          "model_module": "@jupyter-widgets/controls",
          "model_name": "FloatProgressModel",
          "model_module_version": "1.5.0",
          "state": {
            "_dom_classes": [],
            "_model_module": "@jupyter-widgets/controls",
            "_model_module_version": "1.5.0",
            "_model_name": "FloatProgressModel",
            "_view_count": null,
            "_view_module": "@jupyter-widgets/controls",
            "_view_module_version": "1.5.0",
            "_view_name": "ProgressView",
            "bar_style": "success",
            "description": "",
            "description_tooltip": null,
            "layout": "IPY_MODEL_10a10e4f1bad424996e8205b9a51e069",
            "max": 898822,
            "min": 0,
            "orientation": "horizontal",
            "style": "IPY_MODEL_2faf9fff9bbe466383c4bf2466340454",
            "value": 898822
          }
        },
        "a67c281e42b84c669941f730ff105208": {
          "model_module": "@jupyter-widgets/controls",
          "model_name": "HTMLModel",
          "model_module_version": "1.5.0",
          "state": {
            "_dom_classes": [],
            "_model_module": "@jupyter-widgets/controls",
            "_model_module_version": "1.5.0",
            "_model_name": "HTMLModel",
            "_view_count": null,
            "_view_module": "@jupyter-widgets/controls",
            "_view_module_version": "1.5.0",
            "_view_name": "HTMLView",
            "description": "",
            "description_tooltip": null,
            "layout": "IPY_MODEL_7c874f63ea284e169db93028c63f956f",
            "placeholder": "​",
            "style": "IPY_MODEL_7b28a7ea27724cd39f7ce837093a291d",
            "value": " 878k/878k [00:00&lt;00:00, 2.64MB/s]"
          }
        },
        "01582cf2975c45f5a41521966be3dabd": {
          "model_module": "@jupyter-widgets/base",
          "model_name": "LayoutModel",
          "model_module_version": "1.2.0",
          "state": {
            "_model_module": "@jupyter-widgets/base",
            "_model_module_version": "1.2.0",
            "_model_name": "LayoutModel",
            "_view_count": null,
            "_view_module": "@jupyter-widgets/base",
            "_view_module_version": "1.2.0",
            "_view_name": "LayoutView",
            "align_content": null,
            "align_items": null,
            "align_self": null,
            "border": null,
            "bottom": null,
            "display": null,
            "flex": null,
            "flex_flow": null,
            "grid_area": null,
            "grid_auto_columns": null,
            "grid_auto_flow": null,
            "grid_auto_rows": null,
            "grid_column": null,
            "grid_gap": null,
            "grid_row": null,
            "grid_template_areas": null,
            "grid_template_columns": null,
            "grid_template_rows": null,
            "height": null,
            "justify_content": null,
            "justify_items": null,
            "left": null,
            "margin": null,
            "max_height": null,
            "max_width": null,
            "min_height": null,
            "min_width": null,
            "object_fit": null,
            "object_position": null,
            "order": null,
            "overflow": null,
            "overflow_x": null,
            "overflow_y": null,
            "padding": null,
            "right": null,
            "top": null,
            "visibility": null,
            "width": null
          }
        },
        "7c6f94f4da834c33b4146889d7934fd9": {
          "model_module": "@jupyter-widgets/base",
          "model_name": "LayoutModel",
          "model_module_version": "1.2.0",
          "state": {
            "_model_module": "@jupyter-widgets/base",
            "_model_module_version": "1.2.0",
            "_model_name": "LayoutModel",
            "_view_count": null,
            "_view_module": "@jupyter-widgets/base",
            "_view_module_version": "1.2.0",
            "_view_name": "LayoutView",
            "align_content": null,
            "align_items": null,
            "align_self": null,
            "border": null,
            "bottom": null,
            "display": null,
            "flex": null,
            "flex_flow": null,
            "grid_area": null,
            "grid_auto_columns": null,
            "grid_auto_flow": null,
            "grid_auto_rows": null,
            "grid_column": null,
            "grid_gap": null,
            "grid_row": null,
            "grid_template_areas": null,
            "grid_template_columns": null,
            "grid_template_rows": null,
            "height": null,
            "justify_content": null,
            "justify_items": null,
            "left": null,
            "margin": null,
            "max_height": null,
            "max_width": null,
            "min_height": null,
            "min_width": null,
            "object_fit": null,
            "object_position": null,
            "order": null,
            "overflow": null,
            "overflow_x": null,
            "overflow_y": null,
            "padding": null,
            "right": null,
            "top": null,
            "visibility": null,
            "width": null
          }
        },
        "df0f4aa887254e87888d9d0b52e21ee8": {
          "model_module": "@jupyter-widgets/controls",
          "model_name": "DescriptionStyleModel",
          "model_module_version": "1.5.0",
          "state": {
            "_model_module": "@jupyter-widgets/controls",
            "_model_module_version": "1.5.0",
            "_model_name": "DescriptionStyleModel",
            "_view_count": null,
            "_view_module": "@jupyter-widgets/base",
            "_view_module_version": "1.2.0",
            "_view_name": "StyleView",
            "description_width": ""
          }
        },
        "10a10e4f1bad424996e8205b9a51e069": {
          "model_module": "@jupyter-widgets/base",
          "model_name": "LayoutModel",
          "model_module_version": "1.2.0",
          "state": {
            "_model_module": "@jupyter-widgets/base",
            "_model_module_version": "1.2.0",
            "_model_name": "LayoutModel",
            "_view_count": null,
            "_view_module": "@jupyter-widgets/base",
            "_view_module_version": "1.2.0",
            "_view_name": "LayoutView",
            "align_content": null,
            "align_items": null,
            "align_self": null,
            "border": null,
            "bottom": null,
            "display": null,
            "flex": null,
            "flex_flow": null,
            "grid_area": null,
            "grid_auto_columns": null,
            "grid_auto_flow": null,
            "grid_auto_rows": null,
            "grid_column": null,
            "grid_gap": null,
            "grid_row": null,
            "grid_template_areas": null,
            "grid_template_columns": null,
            "grid_template_rows": null,
            "height": null,
            "justify_content": null,
            "justify_items": null,
            "left": null,
            "margin": null,
            "max_height": null,
            "max_width": null,
            "min_height": null,
            "min_width": null,
            "object_fit": null,
            "object_position": null,
            "order": null,
            "overflow": null,
            "overflow_x": null,
            "overflow_y": null,
            "padding": null,
            "right": null,
            "top": null,
            "visibility": null,
            "width": null
          }
        },
        "2faf9fff9bbe466383c4bf2466340454": {
          "model_module": "@jupyter-widgets/controls",
          "model_name": "ProgressStyleModel",
          "model_module_version": "1.5.0",
          "state": {
            "_model_module": "@jupyter-widgets/controls",
            "_model_module_version": "1.5.0",
            "_model_name": "ProgressStyleModel",
            "_view_count": null,
            "_view_module": "@jupyter-widgets/base",
            "_view_module_version": "1.2.0",
            "_view_name": "StyleView",
            "bar_color": null,
            "description_width": ""
          }
        },
        "7c874f63ea284e169db93028c63f956f": {
          "model_module": "@jupyter-widgets/base",
          "model_name": "LayoutModel",
          "model_module_version": "1.2.0",
          "state": {
            "_model_module": "@jupyter-widgets/base",
            "_model_module_version": "1.2.0",
            "_model_name": "LayoutModel",
            "_view_count": null,
            "_view_module": "@jupyter-widgets/base",
            "_view_module_version": "1.2.0",
            "_view_name": "LayoutView",
            "align_content": null,
            "align_items": null,
            "align_self": null,
            "border": null,
            "bottom": null,
            "display": null,
            "flex": null,
            "flex_flow": null,
            "grid_area": null,
            "grid_auto_columns": null,
            "grid_auto_flow": null,
            "grid_auto_rows": null,
            "grid_column": null,
            "grid_gap": null,
            "grid_row": null,
            "grid_template_areas": null,
            "grid_template_columns": null,
            "grid_template_rows": null,
            "height": null,
            "justify_content": null,
            "justify_items": null,
            "left": null,
            "margin": null,
            "max_height": null,
            "max_width": null,
            "min_height": null,
            "min_width": null,
            "object_fit": null,
            "object_position": null,
            "order": null,
            "overflow": null,
            "overflow_x": null,
            "overflow_y": null,
            "padding": null,
            "right": null,
            "top": null,
            "visibility": null,
            "width": null
          }
        },
        "7b28a7ea27724cd39f7ce837093a291d": {
          "model_module": "@jupyter-widgets/controls",
          "model_name": "DescriptionStyleModel",
          "model_module_version": "1.5.0",
          "state": {
            "_model_module": "@jupyter-widgets/controls",
            "_model_module_version": "1.5.0",
            "_model_name": "DescriptionStyleModel",
            "_view_count": null,
            "_view_module": "@jupyter-widgets/base",
            "_view_module_version": "1.2.0",
            "_view_name": "StyleView",
            "description_width": ""
          }
        },
        "93c8ea8ef7384ff4b90fec05e075ee06": {
          "model_module": "@jupyter-widgets/controls",
          "model_name": "HBoxModel",
          "model_module_version": "1.5.0",
          "state": {
            "_dom_classes": [],
            "_model_module": "@jupyter-widgets/controls",
            "_model_module_version": "1.5.0",
            "_model_name": "HBoxModel",
            "_view_count": null,
            "_view_module": "@jupyter-widgets/controls",
            "_view_module_version": "1.5.0",
            "_view_name": "HBoxView",
            "box_style": "",
            "children": [
              "IPY_MODEL_01ce6f8265e448748c05a37546e7c23a",
              "IPY_MODEL_ea74b30bee2e4245a183ee3679e1cbfc",
              "IPY_MODEL_32cc38cd10e94afc91c72a1e7b8f3339"
            ],
            "layout": "IPY_MODEL_d42b43ac641543c2800f0a2e80a20f8b"
          }
        },
        "01ce6f8265e448748c05a37546e7c23a": {
          "model_module": "@jupyter-widgets/controls",
          "model_name": "HTMLModel",
          "model_module_version": "1.5.0",
          "state": {
            "_dom_classes": [],
            "_model_module": "@jupyter-widgets/controls",
            "_model_module_version": "1.5.0",
            "_model_name": "HTMLModel",
            "_view_count": null,
            "_view_module": "@jupyter-widgets/controls",
            "_view_module_version": "1.5.0",
            "_view_name": "HTMLView",
            "description": "",
            "description_tooltip": null,
            "layout": "IPY_MODEL_da9a100820da4abbab7ce23b913e1955",
            "placeholder": "​",
            "style": "IPY_MODEL_57246571576c4e6c9d3be2bf4df954d0",
            "value": "Downloading: 100%"
          }
        },
        "ea74b30bee2e4245a183ee3679e1cbfc": {
          "model_module": "@jupyter-widgets/controls",
          "model_name": "FloatProgressModel",
          "model_module_version": "1.5.0",
          "state": {
            "_dom_classes": [],
            "_model_module": "@jupyter-widgets/controls",
            "_model_module_version": "1.5.0",
            "_model_name": "FloatProgressModel",
            "_view_count": null,
            "_view_module": "@jupyter-widgets/controls",
            "_view_module_version": "1.5.0",
            "_view_name": "ProgressView",
            "bar_style": "success",
            "description": "",
            "description_tooltip": null,
            "layout": "IPY_MODEL_ed115acfa12b43b29764e15834b17587",
            "max": 456318,
            "min": 0,
            "orientation": "horizontal",
            "style": "IPY_MODEL_35387faf127449acb8ee41de35fd506e",
            "value": 456318
          }
        },
        "32cc38cd10e94afc91c72a1e7b8f3339": {
          "model_module": "@jupyter-widgets/controls",
          "model_name": "HTMLModel",
          "model_module_version": "1.5.0",
          "state": {
            "_dom_classes": [],
            "_model_module": "@jupyter-widgets/controls",
            "_model_module_version": "1.5.0",
            "_model_name": "HTMLModel",
            "_view_count": null,
            "_view_module": "@jupyter-widgets/controls",
            "_view_module_version": "1.5.0",
            "_view_name": "HTMLView",
            "description": "",
            "description_tooltip": null,
            "layout": "IPY_MODEL_9cc1297e63334459aa8cde1b48aaaf6d",
            "placeholder": "​",
            "style": "IPY_MODEL_91488a6faa5b4d36bdba4b2868491170",
            "value": " 446k/446k [00:00&lt;00:00, 908kB/s]"
          }
        },
        "d42b43ac641543c2800f0a2e80a20f8b": {
          "model_module": "@jupyter-widgets/base",
          "model_name": "LayoutModel",
          "model_module_version": "1.2.0",
          "state": {
            "_model_module": "@jupyter-widgets/base",
            "_model_module_version": "1.2.0",
            "_model_name": "LayoutModel",
            "_view_count": null,
            "_view_module": "@jupyter-widgets/base",
            "_view_module_version": "1.2.0",
            "_view_name": "LayoutView",
            "align_content": null,
            "align_items": null,
            "align_self": null,
            "border": null,
            "bottom": null,
            "display": null,
            "flex": null,
            "flex_flow": null,
            "grid_area": null,
            "grid_auto_columns": null,
            "grid_auto_flow": null,
            "grid_auto_rows": null,
            "grid_column": null,
            "grid_gap": null,
            "grid_row": null,
            "grid_template_areas": null,
            "grid_template_columns": null,
            "grid_template_rows": null,
            "height": null,
            "justify_content": null,
            "justify_items": null,
            "left": null,
            "margin": null,
            "max_height": null,
            "max_width": null,
            "min_height": null,
            "min_width": null,
            "object_fit": null,
            "object_position": null,
            "order": null,
            "overflow": null,
            "overflow_x": null,
            "overflow_y": null,
            "padding": null,
            "right": null,
            "top": null,
            "visibility": null,
            "width": null
          }
        },
        "da9a100820da4abbab7ce23b913e1955": {
          "model_module": "@jupyter-widgets/base",
          "model_name": "LayoutModel",
          "model_module_version": "1.2.0",
          "state": {
            "_model_module": "@jupyter-widgets/base",
            "_model_module_version": "1.2.0",
            "_model_name": "LayoutModel",
            "_view_count": null,
            "_view_module": "@jupyter-widgets/base",
            "_view_module_version": "1.2.0",
            "_view_name": "LayoutView",
            "align_content": null,
            "align_items": null,
            "align_self": null,
            "border": null,
            "bottom": null,
            "display": null,
            "flex": null,
            "flex_flow": null,
            "grid_area": null,
            "grid_auto_columns": null,
            "grid_auto_flow": null,
            "grid_auto_rows": null,
            "grid_column": null,
            "grid_gap": null,
            "grid_row": null,
            "grid_template_areas": null,
            "grid_template_columns": null,
            "grid_template_rows": null,
            "height": null,
            "justify_content": null,
            "justify_items": null,
            "left": null,
            "margin": null,
            "max_height": null,
            "max_width": null,
            "min_height": null,
            "min_width": null,
            "object_fit": null,
            "object_position": null,
            "order": null,
            "overflow": null,
            "overflow_x": null,
            "overflow_y": null,
            "padding": null,
            "right": null,
            "top": null,
            "visibility": null,
            "width": null
          }
        },
        "57246571576c4e6c9d3be2bf4df954d0": {
          "model_module": "@jupyter-widgets/controls",
          "model_name": "DescriptionStyleModel",
          "model_module_version": "1.5.0",
          "state": {
            "_model_module": "@jupyter-widgets/controls",
            "_model_module_version": "1.5.0",
            "_model_name": "DescriptionStyleModel",
            "_view_count": null,
            "_view_module": "@jupyter-widgets/base",
            "_view_module_version": "1.2.0",
            "_view_name": "StyleView",
            "description_width": ""
          }
        },
        "ed115acfa12b43b29764e15834b17587": {
          "model_module": "@jupyter-widgets/base",
          "model_name": "LayoutModel",
          "model_module_version": "1.2.0",
          "state": {
            "_model_module": "@jupyter-widgets/base",
            "_model_module_version": "1.2.0",
            "_model_name": "LayoutModel",
            "_view_count": null,
            "_view_module": "@jupyter-widgets/base",
            "_view_module_version": "1.2.0",
            "_view_name": "LayoutView",
            "align_content": null,
            "align_items": null,
            "align_self": null,
            "border": null,
            "bottom": null,
            "display": null,
            "flex": null,
            "flex_flow": null,
            "grid_area": null,
            "grid_auto_columns": null,
            "grid_auto_flow": null,
            "grid_auto_rows": null,
            "grid_column": null,
            "grid_gap": null,
            "grid_row": null,
            "grid_template_areas": null,
            "grid_template_columns": null,
            "grid_template_rows": null,
            "height": null,
            "justify_content": null,
            "justify_items": null,
            "left": null,
            "margin": null,
            "max_height": null,
            "max_width": null,
            "min_height": null,
            "min_width": null,
            "object_fit": null,
            "object_position": null,
            "order": null,
            "overflow": null,
            "overflow_x": null,
            "overflow_y": null,
            "padding": null,
            "right": null,
            "top": null,
            "visibility": null,
            "width": null
          }
        },
        "35387faf127449acb8ee41de35fd506e": {
          "model_module": "@jupyter-widgets/controls",
          "model_name": "ProgressStyleModel",
          "model_module_version": "1.5.0",
          "state": {
            "_model_module": "@jupyter-widgets/controls",
            "_model_module_version": "1.5.0",
            "_model_name": "ProgressStyleModel",
            "_view_count": null,
            "_view_module": "@jupyter-widgets/base",
            "_view_module_version": "1.2.0",
            "_view_name": "StyleView",
            "bar_color": null,
            "description_width": ""
          }
        },
        "9cc1297e63334459aa8cde1b48aaaf6d": {
          "model_module": "@jupyter-widgets/base",
          "model_name": "LayoutModel",
          "model_module_version": "1.2.0",
          "state": {
            "_model_module": "@jupyter-widgets/base",
            "_model_module_version": "1.2.0",
            "_model_name": "LayoutModel",
            "_view_count": null,
            "_view_module": "@jupyter-widgets/base",
            "_view_module_version": "1.2.0",
            "_view_name": "LayoutView",
            "align_content": null,
            "align_items": null,
            "align_self": null,
            "border": null,
            "bottom": null,
            "display": null,
            "flex": null,
            "flex_flow": null,
            "grid_area": null,
            "grid_auto_columns": null,
            "grid_auto_flow": null,
            "grid_auto_rows": null,
            "grid_column": null,
            "grid_gap": null,
            "grid_row": null,
            "grid_template_areas": null,
            "grid_template_columns": null,
            "grid_template_rows": null,
            "height": null,
            "justify_content": null,
            "justify_items": null,
            "left": null,
            "margin": null,
            "max_height": null,
            "max_width": null,
            "min_height": null,
            "min_width": null,
            "object_fit": null,
            "object_position": null,
            "order": null,
            "overflow": null,
            "overflow_x": null,
            "overflow_y": null,
            "padding": null,
            "right": null,
            "top": null,
            "visibility": null,
            "width": null
          }
        },
        "91488a6faa5b4d36bdba4b2868491170": {
          "model_module": "@jupyter-widgets/controls",
          "model_name": "DescriptionStyleModel",
          "model_module_version": "1.5.0",
          "state": {
            "_model_module": "@jupyter-widgets/controls",
            "_model_module_version": "1.5.0",
            "_model_name": "DescriptionStyleModel",
            "_view_count": null,
            "_view_module": "@jupyter-widgets/base",
            "_view_module_version": "1.2.0",
            "_view_name": "StyleView",
            "description_width": ""
          }
        },
        "5fb4b8a55c0a4e17b66d76a777215a7e": {
          "model_module": "@jupyter-widgets/controls",
          "model_name": "HBoxModel",
          "model_module_version": "1.5.0",
          "state": {
            "_dom_classes": [],
            "_model_module": "@jupyter-widgets/controls",
            "_model_module_version": "1.5.0",
            "_model_name": "HBoxModel",
            "_view_count": null,
            "_view_module": "@jupyter-widgets/controls",
            "_view_module_version": "1.5.0",
            "_view_name": "HBoxView",
            "box_style": "",
            "children": [
              "IPY_MODEL_d2790394e252440a92e7703a49c3a45b",
              "IPY_MODEL_b5fbaf97fdcf4ba28813d58075bc452b",
              "IPY_MODEL_b7756b706ebc4ada8f0140bd1f4a74a1"
            ],
            "layout": "IPY_MODEL_6d48955e1c49446585a8c7bf76a30b98"
          }
        },
        "d2790394e252440a92e7703a49c3a45b": {
          "model_module": "@jupyter-widgets/controls",
          "model_name": "HTMLModel",
          "model_module_version": "1.5.0",
          "state": {
            "_dom_classes": [],
            "_model_module": "@jupyter-widgets/controls",
            "_model_module_version": "1.5.0",
            "_model_name": "HTMLModel",
            "_view_count": null,
            "_view_module": "@jupyter-widgets/controls",
            "_view_module_version": "1.5.0",
            "_view_name": "HTMLView",
            "description": "",
            "description_tooltip": null,
            "layout": "IPY_MODEL_d5a674f2ca75467184ca8520d004a894",
            "placeholder": "​",
            "style": "IPY_MODEL_a232147861c5475bbd5fa43da6526650",
            "value": "Downloading: 100%"
          }
        },
        "b5fbaf97fdcf4ba28813d58075bc452b": {
          "model_module": "@jupyter-widgets/controls",
          "model_name": "FloatProgressModel",
          "model_module_version": "1.5.0",
          "state": {
            "_dom_classes": [],
            "_model_module": "@jupyter-widgets/controls",
            "_model_module_version": "1.5.0",
            "_model_name": "FloatProgressModel",
            "_view_count": null,
            "_view_module": "@jupyter-widgets/controls",
            "_view_module_version": "1.5.0",
            "_view_name": "ProgressView",
            "bar_style": "success",
            "description": "",
            "description_tooltip": null,
            "layout": "IPY_MODEL_79f4c88b4105436694041f57f3f5cffe",
            "max": 772,
            "min": 0,
            "orientation": "horizontal",
            "style": "IPY_MODEL_fa3335546eff41c4a11c6de033d955ac",
            "value": 772
          }
        },
        "b7756b706ebc4ada8f0140bd1f4a74a1": {
          "model_module": "@jupyter-widgets/controls",
          "model_name": "HTMLModel",
          "model_module_version": "1.5.0",
          "state": {
            "_dom_classes": [],
            "_model_module": "@jupyter-widgets/controls",
            "_model_module_version": "1.5.0",
            "_model_name": "HTMLModel",
            "_view_count": null,
            "_view_module": "@jupyter-widgets/controls",
            "_view_module_version": "1.5.0",
            "_view_name": "HTMLView",
            "description": "",
            "description_tooltip": null,
            "layout": "IPY_MODEL_13bf32799d8c43b0b3d333bc6bb43b0c",
            "placeholder": "​",
            "style": "IPY_MODEL_b0ffab167bee4c07845201b79972489c",
            "value": " 772/772 [00:00&lt;00:00, 20.0kB/s]"
          }
        },
        "6d48955e1c49446585a8c7bf76a30b98": {
          "model_module": "@jupyter-widgets/base",
          "model_name": "LayoutModel",
          "model_module_version": "1.2.0",
          "state": {
            "_model_module": "@jupyter-widgets/base",
            "_model_module_version": "1.2.0",
            "_model_name": "LayoutModel",
            "_view_count": null,
            "_view_module": "@jupyter-widgets/base",
            "_view_module_version": "1.2.0",
            "_view_name": "LayoutView",
            "align_content": null,
            "align_items": null,
            "align_self": null,
            "border": null,
            "bottom": null,
            "display": null,
            "flex": null,
            "flex_flow": null,
            "grid_area": null,
            "grid_auto_columns": null,
            "grid_auto_flow": null,
            "grid_auto_rows": null,
            "grid_column": null,
            "grid_gap": null,
            "grid_row": null,
            "grid_template_areas": null,
            "grid_template_columns": null,
            "grid_template_rows": null,
            "height": null,
            "justify_content": null,
            "justify_items": null,
            "left": null,
            "margin": null,
            "max_height": null,
            "max_width": null,
            "min_height": null,
            "min_width": null,
            "object_fit": null,
            "object_position": null,
            "order": null,
            "overflow": null,
            "overflow_x": null,
            "overflow_y": null,
            "padding": null,
            "right": null,
            "top": null,
            "visibility": null,
            "width": null
          }
        },
        "d5a674f2ca75467184ca8520d004a894": {
          "model_module": "@jupyter-widgets/base",
          "model_name": "LayoutModel",
          "model_module_version": "1.2.0",
          "state": {
            "_model_module": "@jupyter-widgets/base",
            "_model_module_version": "1.2.0",
            "_model_name": "LayoutModel",
            "_view_count": null,
            "_view_module": "@jupyter-widgets/base",
            "_view_module_version": "1.2.0",
            "_view_name": "LayoutView",
            "align_content": null,
            "align_items": null,
            "align_self": null,
            "border": null,
            "bottom": null,
            "display": null,
            "flex": null,
            "flex_flow": null,
            "grid_area": null,
            "grid_auto_columns": null,
            "grid_auto_flow": null,
            "grid_auto_rows": null,
            "grid_column": null,
            "grid_gap": null,
            "grid_row": null,
            "grid_template_areas": null,
            "grid_template_columns": null,
            "grid_template_rows": null,
            "height": null,
            "justify_content": null,
            "justify_items": null,
            "left": null,
            "margin": null,
            "max_height": null,
            "max_width": null,
            "min_height": null,
            "min_width": null,
            "object_fit": null,
            "object_position": null,
            "order": null,
            "overflow": null,
            "overflow_x": null,
            "overflow_y": null,
            "padding": null,
            "right": null,
            "top": null,
            "visibility": null,
            "width": null
          }
        },
        "a232147861c5475bbd5fa43da6526650": {
          "model_module": "@jupyter-widgets/controls",
          "model_name": "DescriptionStyleModel",
          "model_module_version": "1.5.0",
          "state": {
            "_model_module": "@jupyter-widgets/controls",
            "_model_module_version": "1.5.0",
            "_model_name": "DescriptionStyleModel",
            "_view_count": null,
            "_view_module": "@jupyter-widgets/base",
            "_view_module_version": "1.2.0",
            "_view_name": "StyleView",
            "description_width": ""
          }
        },
        "79f4c88b4105436694041f57f3f5cffe": {
          "model_module": "@jupyter-widgets/base",
          "model_name": "LayoutModel",
          "model_module_version": "1.2.0",
          "state": {
            "_model_module": "@jupyter-widgets/base",
            "_model_module_version": "1.2.0",
            "_model_name": "LayoutModel",
            "_view_count": null,
            "_view_module": "@jupyter-widgets/base",
            "_view_module_version": "1.2.0",
            "_view_name": "LayoutView",
            "align_content": null,
            "align_items": null,
            "align_self": null,
            "border": null,
            "bottom": null,
            "display": null,
            "flex": null,
            "flex_flow": null,
            "grid_area": null,
            "grid_auto_columns": null,
            "grid_auto_flow": null,
            "grid_auto_rows": null,
            "grid_column": null,
            "grid_gap": null,
            "grid_row": null,
            "grid_template_areas": null,
            "grid_template_columns": null,
            "grid_template_rows": null,
            "height": null,
            "justify_content": null,
            "justify_items": null,
            "left": null,
            "margin": null,
            "max_height": null,
            "max_width": null,
            "min_height": null,
            "min_width": null,
            "object_fit": null,
            "object_position": null,
            "order": null,
            "overflow": null,
            "overflow_x": null,
            "overflow_y": null,
            "padding": null,
            "right": null,
            "top": null,
            "visibility": null,
            "width": null
          }
        },
        "fa3335546eff41c4a11c6de033d955ac": {
          "model_module": "@jupyter-widgets/controls",
          "model_name": "ProgressStyleModel",
          "model_module_version": "1.5.0",
          "state": {
            "_model_module": "@jupyter-widgets/controls",
            "_model_module_version": "1.5.0",
            "_model_name": "ProgressStyleModel",
            "_view_count": null,
            "_view_module": "@jupyter-widgets/base",
            "_view_module_version": "1.2.0",
            "_view_name": "StyleView",
            "bar_color": null,
            "description_width": ""
          }
        },
        "13bf32799d8c43b0b3d333bc6bb43b0c": {
          "model_module": "@jupyter-widgets/base",
          "model_name": "LayoutModel",
          "model_module_version": "1.2.0",
          "state": {
            "_model_module": "@jupyter-widgets/base",
            "_model_module_version": "1.2.0",
            "_model_name": "LayoutModel",
            "_view_count": null,
            "_view_module": "@jupyter-widgets/base",
            "_view_module_version": "1.2.0",
            "_view_name": "LayoutView",
            "align_content": null,
            "align_items": null,
            "align_self": null,
            "border": null,
            "bottom": null,
            "display": null,
            "flex": null,
            "flex_flow": null,
            "grid_area": null,
            "grid_auto_columns": null,
            "grid_auto_flow": null,
            "grid_auto_rows": null,
            "grid_column": null,
            "grid_gap": null,
            "grid_row": null,
            "grid_template_areas": null,
            "grid_template_columns": null,
            "grid_template_rows": null,
            "height": null,
            "justify_content": null,
            "justify_items": null,
            "left": null,
            "margin": null,
            "max_height": null,
            "max_width": null,
            "min_height": null,
            "min_width": null,
            "object_fit": null,
            "object_position": null,
            "order": null,
            "overflow": null,
            "overflow_x": null,
            "overflow_y": null,
            "padding": null,
            "right": null,
            "top": null,
            "visibility": null,
            "width": null
          }
        },
        "b0ffab167bee4c07845201b79972489c": {
          "model_module": "@jupyter-widgets/controls",
          "model_name": "DescriptionStyleModel",
          "model_module_version": "1.5.0",
          "state": {
            "_model_module": "@jupyter-widgets/controls",
            "_model_module_version": "1.5.0",
            "_model_name": "DescriptionStyleModel",
            "_view_count": null,
            "_view_module": "@jupyter-widgets/base",
            "_view_module_version": "1.2.0",
            "_view_name": "StyleView",
            "description_width": ""
          }
        }
      }
    }
  },
  "cells": [
    {
      "cell_type": "markdown",
      "source": [
        "Characters:\n",
        "person: name, persona, location\n",
        "\n",
        "Locations:\n",
        "location: name, connection, description\n",
        "\n",
        "Items:\n",
        "item: name, description, location"
      ],
      "metadata": {
        "id": "8ijDZK-I_XiF"
      }
    },
    {
      "cell_type": "markdown",
      "source": [
        "Input Story Source:\n",
        "\n",
        " - Harry Potter original copy（https://raw.githubusercontent.com/khushmeeet/potter-nlp/master/final_data/book1.txt ）\n",
        "\n",
        "- Harry Potter Story Abstract ( https://en.wikipedia.org/wiki/Harry_Potter_and_the_Philosopher%27s_Stone )"
      ],
      "metadata": {
        "id": "meRmhUyvcUwY"
      }
    },
    {
      "cell_type": "markdown",
      "source": [
        "\n",
        "\n",
        "---\n",
        "\n",
        "From **Generating Interactive Worlds with Text**:\n",
        "(\n",
        "https://arxiv.org/pdf/1911.09194.pdf )\n",
        "\n",
        "\n",
        "\n",
        "How do we use our proposed models collectively to make\n",
        "a new game world? \n",
        "- First, an empty map grid is initialized\n",
        "to represent the number of possible locations. A percentage of grid positions are marked inaccessible to make exploration more interesting. The central location is populated\n",
        "randomly. We use the best performing model to iteratively\n",
        "fill in neighboring locations until the entire grid is populated. \n",
        "- Then, for each placed location, the model is used to\n",
        "predict which characters and objects should populate that location. \n",
        "- Finally, the model is used to predict if objects should\n",
        "be placed inside existing objects. Figure 1 displays an example generated world, with model predictions shown for\n",
        "missing elements. \n",
        "\n",
        "In an interactive setting where players are able to design\n",
        "their own worlds, we use models to provide suggestions for\n",
        "which elements to place. If players enter names of game elements not present in the dataset, our generative models are\n",
        "used to write descriptions, personas, and affordances."
      ],
      "metadata": {
        "id": "GX079P5HtnDg"
      }
    },
    {
      "cell_type": "markdown",
      "source": [
        "\n",
        "\n",
        "---\n",
        "\n",
        "From **Bringing Stories Alive: Generating Interactive Fiction Worlds**: ( https://arxiv.org/pdf/2001.10161.pdf )\n",
        "\n",
        "- The first step is to extract the set of entities—graph\n",
        "vertices—from the story. We are looking to extract information specifically regarding characters, locations, and objects.\n",
        "This is done by using asking the QA model questions such as\n",
        "“Who is a character in the story?”. Ribeiro et al. [2019] have\n",
        "shown that the phrasing of questions given to a QA model is\n",
        "important and this forms the basis of how we formulate our\n",
        "questions—questions are asked so that they are more likely\n",
        "to return a single answer, e.g. asking “Where is a location\n",
        "in the story?” as opposed to “Where are the locations in the\n",
        "story?”. In particular, we notice that pronoun choice can be\n",
        "crucial; “Where is a location in the story?” yielded more consistent extraction than “What is a location in the story?”. ALBERT QA is trained to also output a special <no-answer>\n",
        "token when it cannot find an answer to the question within\n",
        "the story. Our method makes use of this by iteratively asking\n",
        "QA model a question and masking out the most likely answer\n",
        "outputted on the previous step. This process continues until\n",
        "the <no-answer> token becomes the most likely answer.\n",
        "\n",
        "- The next step is graph construction. Typical interactive fiction worlds are usually structured as trees, i.e. no cycles except between locations. Using this fact, we use an approach\n",
        "that builds a graph from the vertex set by one relation—or\n",
        "edge—at a time. Once again using the entire story plot as\n",
        "context, we query the ALBERT-QA model picking a random starting location x from the set of vertices previously\n",
        "extracted.and asking the questions “What location can I visit\n",
        "from x?” and “Who/What is in x?”. The methodology for\n",
        "phrasing these questions follows that described for the vertex\n",
        "extraction. The answer given by the QA model is matched to\n",
        "the vertex set by picking the vertex u that contains the best\n",
        "word-token overlap with the answer. Relations between vertices are added by computing a relation probability on the\n",
        "basis of the output probabilities of the answer given by the\n",
        "QA model. The probability that vertices x, u are related:\n",
        "P(x, u) = p(x, u) + p(u, x)\n",
        "2\n",
        "(1)\n",
        "where\n",
        "p(x, u) = X\n",
        "o∈QA outputs\n",
        "p(o)1{u = argmax\n",
        "v\n",
        "(v ∩ o)} (2)\n",
        "is the sum of the individual token probabilities of all the overlapping tokens in the answer from the QA model and u."
      ],
      "metadata": {
        "id": "41veykDWuYhi"
      }
    },
    {
      "cell_type": "markdown",
      "source": [
        "### Installation"
      ],
      "metadata": {
        "id": "5HokfCtki_jD"
      }
    },
    {
      "cell_type": "code",
      "source": [
        "!pip install stanza"
      ],
      "metadata": {
        "colab": {
          "base_uri": "https://localhost:8080/"
        },
        "id": "RGrlmH__ilGW",
        "outputId": "20367dda-e9e0-4966-8310-47b148901635"
      },
      "execution_count": null,
      "outputs": [
        {
          "output_type": "stream",
          "name": "stdout",
          "text": [
            "Collecting stanza\n",
            "  Downloading stanza-1.3.0-py3-none-any.whl (432 kB)\n",
            "\u001b[K     |████████████████████████████████| 432 kB 9.4 MB/s \n",
            "\u001b[?25hRequirement already satisfied: tqdm in /usr/local/lib/python3.7/dist-packages (from stanza) (4.64.0)\n",
            "Requirement already satisfied: six in /usr/local/lib/python3.7/dist-packages (from stanza) (1.15.0)\n",
            "Requirement already satisfied: torch>=1.3.0 in /usr/local/lib/python3.7/dist-packages (from stanza) (1.10.0+cu111)\n",
            "Requirement already satisfied: requests in /usr/local/lib/python3.7/dist-packages (from stanza) (2.23.0)\n",
            "Collecting emoji\n",
            "  Downloading emoji-1.7.0.tar.gz (175 kB)\n",
            "\u001b[K     |████████████████████████████████| 175 kB 44.9 MB/s \n",
            "\u001b[?25hRequirement already satisfied: numpy in /usr/local/lib/python3.7/dist-packages (from stanza) (1.21.6)\n",
            "Requirement already satisfied: protobuf in /usr/local/lib/python3.7/dist-packages (from stanza) (3.17.3)\n",
            "Requirement already satisfied: typing-extensions in /usr/local/lib/python3.7/dist-packages (from torch>=1.3.0->stanza) (4.1.1)\n",
            "Requirement already satisfied: certifi>=2017.4.17 in /usr/local/lib/python3.7/dist-packages (from requests->stanza) (2021.10.8)\n",
            "Requirement already satisfied: idna<3,>=2.5 in /usr/local/lib/python3.7/dist-packages (from requests->stanza) (2.10)\n",
            "Requirement already satisfied: chardet<4,>=3.0.2 in /usr/local/lib/python3.7/dist-packages (from requests->stanza) (3.0.4)\n",
            "Requirement already satisfied: urllib3!=1.25.0,!=1.25.1,<1.26,>=1.21.1 in /usr/local/lib/python3.7/dist-packages (from requests->stanza) (1.24.3)\n",
            "Building wheels for collected packages: emoji\n",
            "  Building wheel for emoji (setup.py) ... \u001b[?25l\u001b[?25hdone\n",
            "  Created wheel for emoji: filename=emoji-1.7.0-py3-none-any.whl size=171046 sha256=f765e0e37967df701af143f950b5b17a7721f27441792dded19609008399b95a\n",
            "  Stored in directory: /root/.cache/pip/wheels/8a/4e/b6/57b01db010d17ef6ea9b40300af725ef3e210cb1acfb7ac8b6\n",
            "Successfully built emoji\n",
            "Installing collected packages: emoji, stanza\n",
            "Successfully installed emoji-1.7.0 stanza-1.3.0\n"
          ]
        }
      ]
    },
    {
      "cell_type": "code",
      "source": [
        "!pip install graphviz"
      ],
      "metadata": {
        "colab": {
          "base_uri": "https://localhost:8080/"
        },
        "id": "kmtL85ezF0gs",
        "outputId": "53d96c5b-001f-45ee-8cc4-50934a7079e2"
      },
      "execution_count": null,
      "outputs": [
        {
          "output_type": "stream",
          "name": "stdout",
          "text": [
            "Requirement already satisfied: graphviz in /usr/local/lib/python3.7/dist-packages (0.10.1)\n"
          ]
        }
      ]
    },
    {
      "cell_type": "code",
      "source": [
        "!pip install openai"
      ],
      "metadata": {
        "colab": {
          "base_uri": "https://localhost:8080/"
        },
        "id": "aAbdWmESxrw8",
        "outputId": "1814b796-0c68-4f45-a430-fe381dc2ef33"
      },
      "execution_count": null,
      "outputs": [
        {
          "output_type": "stream",
          "name": "stdout",
          "text": [
            "Collecting openai\n",
            "  Downloading openai-0.18.1.tar.gz (42 kB)\n",
            "\u001b[?25l\r\u001b[K     |███████▊                        | 10 kB 17.7 MB/s eta 0:00:01\r\u001b[K     |███████████████▍                | 20 kB 24.4 MB/s eta 0:00:01\r\u001b[K     |███████████████████████▏        | 30 kB 28.9 MB/s eta 0:00:01\r\u001b[K     |██████████████████████████████▉ | 40 kB 19.6 MB/s eta 0:00:01\r\u001b[K     |████████████████████████████████| 42 kB 831 kB/s \n",
            "\u001b[?25h  Installing build dependencies ... \u001b[?25l\u001b[?25hdone\n",
            "  Getting requirements to build wheel ... \u001b[?25l\u001b[?25hdone\n",
            "    Preparing wheel metadata ... \u001b[?25l\u001b[?25hdone\n",
            "Requirement already satisfied: openpyxl>=3.0.7 in /usr/local/lib/python3.7/dist-packages (from openai) (3.0.9)\n",
            "Collecting pandas-stubs>=1.1.0.11\n",
            "  Downloading pandas_stubs-1.2.0.58-py3-none-any.whl (162 kB)\n",
            "\u001b[K     |████████████████████████████████| 162 kB 12.5 MB/s \n",
            "\u001b[?25hRequirement already satisfied: pandas>=1.2.3 in /usr/local/lib/python3.7/dist-packages (from openai) (1.3.5)\n",
            "Requirement already satisfied: tqdm in /usr/local/lib/python3.7/dist-packages (from openai) (4.64.0)\n",
            "Requirement already satisfied: requests>=2.20 in /usr/local/lib/python3.7/dist-packages (from openai) (2.23.0)\n",
            "Requirement already satisfied: et-xmlfile in /usr/local/lib/python3.7/dist-packages (from openpyxl>=3.0.7->openai) (1.1.0)\n",
            "Requirement already satisfied: python-dateutil>=2.7.3 in /usr/local/lib/python3.7/dist-packages (from pandas>=1.2.3->openai) (2.8.2)\n",
            "Requirement already satisfied: pytz>=2017.3 in /usr/local/lib/python3.7/dist-packages (from pandas>=1.2.3->openai) (2022.1)\n",
            "Requirement already satisfied: numpy>=1.17.3 in /usr/local/lib/python3.7/dist-packages (from pandas>=1.2.3->openai) (1.21.6)\n",
            "Requirement already satisfied: typing-extensions>=3.7.4.3 in /usr/local/lib/python3.7/dist-packages (from pandas-stubs>=1.1.0.11->openai) (4.1.1)\n",
            "Requirement already satisfied: six>=1.5 in /usr/local/lib/python3.7/dist-packages (from python-dateutil>=2.7.3->pandas>=1.2.3->openai) (1.15.0)\n",
            "Requirement already satisfied: chardet<4,>=3.0.2 in /usr/local/lib/python3.7/dist-packages (from requests>=2.20->openai) (3.0.4)\n",
            "Requirement already satisfied: certifi>=2017.4.17 in /usr/local/lib/python3.7/dist-packages (from requests>=2.20->openai) (2021.10.8)\n",
            "Requirement already satisfied: idna<3,>=2.5 in /usr/local/lib/python3.7/dist-packages (from requests>=2.20->openai) (2.10)\n",
            "Requirement already satisfied: urllib3!=1.25.0,!=1.25.1,<1.26,>=1.21.1 in /usr/local/lib/python3.7/dist-packages (from requests>=2.20->openai) (1.24.3)\n",
            "Building wheels for collected packages: openai\n",
            "  Building wheel for openai (PEP 517) ... \u001b[?25l\u001b[?25hdone\n",
            "  Created wheel for openai: filename=openai-0.18.1-py3-none-any.whl size=53168 sha256=3fce817baef160240bed50c05adb4d7f5b0b41a26256c88fae13403b3f6057bd\n",
            "  Stored in directory: /root/.cache/pip/wheels/5a/bf/24/fcdc9d2b81f9c7e565bb2036ec9f7cc930056b829895b3bf48\n",
            "Successfully built openai\n",
            "Installing collected packages: pandas-stubs, openai\n",
            "Successfully installed openai-0.18.1 pandas-stubs-1.2.0.58\n"
          ]
        }
      ]
    },
    {
      "cell_type": "code",
      "source": [
        "# story = \"Vox Machina have just entered the dwarven city of Kraghammer for the first time on their quest to find Lady Kima of Vord. They know that she was headed for the mithral mine owned by Nostoc Greyspine, but they decide to find somewhere to sleep first. The party notices a group of armored dwarves awkwardly watching them. Tiberius—the only one besides Pike who can speak Dwarvish—asks them where they can find suitable lodgings. One of the dwarves, Jepsen, tells them in Common to go to 'The Pig Pits'. Vex'ahlia guesses that the Pig Pits are actual pits for pigs. Thompson weakly denies this. Scanlan asks for directions to the Pig Pits and the dwarf points to a distant slop of mud where livestock are kept. Vex'ahlia gives a piece of gold to Thompson to show them to actual lodgings.\""
      ],
      "metadata": {
        "id": "Zw5lsdo793Cd"
      },
      "execution_count": null,
      "outputs": []
    },
    {
      "cell_type": "code",
      "source": [
        "#open text file in read mode\n",
        "text_file = open(\"/content/HP1_summary.txt\", \"r\")\n",
        " \n",
        "#read whole file to a string\n",
        "hp_story = text_file.read()\n",
        " \n",
        "#close file\n",
        "text_file.close()\n",
        " \n",
        "hp_story = hp_story.replace(\"\\xa0\", \" \")\n",
        "print(hp_story)"
      ],
      "metadata": {
        "colab": {
          "base_uri": "https://localhost:8080/"
        },
        "id": "TfQX_NYWIdZB",
        "outputId": "32ec555b-87b6-4925-8b9a-adac2772a47e"
      },
      "execution_count": null,
      "outputs": [
        {
          "output_type": "stream",
          "name": "stdout",
          "text": [
            "Harry Potter lives with his abusive aunt and uncle, Vernon and Petunia Dursley and their bullying son, Dudley. On Harry's eleventh birthday, a half-giant named Rubeus Hagrid personally delivers an acceptance letter to Hogwarts School of Witchcraft and Wizardry, revealing that Harry's parents, James and Lily Potter, were wizards. When Harry was one year old, an evil and powerful dark wizard, Lord Voldemort, murdered his parents. Harry survived Voldemort's killing curse that rebounded off his forehead and seemingly destroyed the Dark Lord, leaving a lightning bolt-shaped scar on his forehead. Unknown to Harry, he is famous in the wizarding world.\n",
            "Hagrid takes Harry to Diagon Alley, the hidden wizard commerce and retail section in London. Harry's parents have left him a fortune kept in Gringotts Wizarding Bank. Harry buys school supplies and a wand from Ollivander. The cores of Harry and Lord Voldemort's wands have feathers from the same phoenix bird, making them \"brothers\". Hagrid gives Harry an owl that he names Hedwig. A month later, Harry boards the Hogwarts Express at King's Cross railway station's secret Platform 9¾. On the journey to Hogwarts, Harry befriends fellow first-year Ronald Weasley and meets Hermione Granger, who the two boys initially dislike. Harry runs afoul of first-year student, Draco Malfoy.\n",
            "At Hogwarts, a magical Sorting Hat sorts the first-years among four school Houses – Gryffindor, Slytherin, Hufflepuff and Ravenclaw – that best suit their personalities and talents. Draco joins Slytherin, known for dark wizards, while Harry, Ron, and Hermione are sorted into Gryffindor.\n",
            "Harry's broomstick flying ability earns him a place on the Gryffindor Quidditch team as the Seeker. Harry comes to dislike Potions master Severus Snape, who favours Slytherin while seeking to fail Harry. Malfoy tricks Harry and Ron into risking expulsion by leaving their common room after curfew. Hermione, unable to stop them, tags along. Realising Malfoy's ruse, they hide in a forbidden corridor and discover a gigantic three-headed dog guarding a trapdoor. Ron and Harry later save Hermione from a troll during the school's Halloween celebration, and the three become best friends. Coupled with Snape's recent leg injury and suspicious behaviour, Harry, Hermione, and Ron believe he is attempting to enter the trapdoor.\n",
            "Hermione warns the boys against investigating further, and instead directs Harry's attention to his first Quidditch match. His broomstick's attempts to buck him off and Snape's strange behaviour during the match convinces Hermione he jinxed Harry's broom. Harry receives an anonymous Christmas gift – his father's invisibility cloak. Using it to explore the school, he discovers the Mirror of Erised, which shows what the viewer most desires. Harry sees his parents.\n",
            "The trio read a newspaper report about an attempted robbery at Gringotts Bank and the same vault from which Hagrid retrieved an item for the school's headmaster Albus Dumbledore. They suspect the object beneath the trapdoor is the philosopher's stone, which grants its user immortality and the ability to turn any metal into pure gold. A forest centaur named Firenze warns Harry that Voldemort is plotting to steal the stone to restore his body. When Dumbledore is lured from Hogwarts under false pretences, Harry, Hermione and Ron fear the theft is imminent and descend through the trapdoor.\n",
            "A series of obstacles force Ron and Hermione to remain behind while Harry proceeds. Harry encounters Professor Quirrell, the Defence Against the Dark Arts teacher, who reveals that he jinxed Harry's broom and let the troll into the school; Snape was protecting Harry. Voldemort, whose face is attached to the back of Quirrell's head, is using Quirrell to obtain the philosopher's stone. Harry is forced to stand before the Mirror of Erised. It recognises Harry's lack of greed for the stone and deposits it into his pocket. Quirrell attempts to seize the stone and kill Harry, but his flesh burns upon contact with him. Harry's scar begins hurting and he passes out.\n",
            "Harry awakens in the school's infirmary. Dumbledore explains Harry survived Voldemort because his mother sacrificing her life for him left a magical protective charm. Quirrell's hatred and greed caused him to burn upon contact with Harry; Voldemort abandoned him to die. Dumbledore reveals he sent Harry the invisibility cloak, while the philosopher's stone, that had been keeping the long-lived Nicolas Flamel alive, has been destroyed to prevent it being stolen. During the school's year-end feast, Gryffindor is awarded the House Cup. Harry returns to the Dursleys at Privet Drive until the next school year.\n",
            "\n"
          ]
        }
      ]
    },
    {
      "cell_type": "markdown",
      "source": [
        "###Extract Characters and Locations with stanza"
      ],
      "metadata": {
        "id": "COmA3k9QgK2H"
      }
    },
    {
      "cell_type": "code",
      "source": [
        "import stanza\n",
        "stanza.download('en')   # This downloads the English models for the neural pipeline\n",
        "stanza_nlp = stanza.Pipeline(lang='en', processors='tokenize,ner') # This sets up a default neural pipeline in English"
      ],
      "metadata": {
        "id": "c06dC7fgii6b",
        "colab": {
          "base_uri": "https://localhost:8080/",
          "height": 387,
          "referenced_widgets": [
            "09853173047a4f028b0b5a68b078d58b",
            "a06c48a7abe74b4a9571964284b5ad7f",
            "f980e88151fd4f44a70eef9126632ddf",
            "b769420a22bb4ea19c52f6791c2f9e39",
            "893993210d8e465c9d2f5487afd4a670",
            "030fc8f3a45446f5950c620e25c1914e",
            "b7b81c83f35c4b5a8d6169da4265fe2e",
            "705aa218ff80485b92e7d87fd702b1ed",
            "376f3fc684e84b0db6fd2acb1715f16a",
            "3a0878e8d81f4944bb48b52b69b81079",
            "f43c8506f74042f386ce552a1014d4d1",
            "0bba1bfa8d60463c9abe1c5634cb2ff3",
            "0b2f2b4d39734efb9b67d87cc3a32955",
            "6938899ea69d49258a9c5e8645a7a49a",
            "198c1fcb24994f119b3ea722d4afe7ec",
            "867da12f36e1444b9d8a7c4ac789bf83",
            "5dd0eafae7ac42b7be5b1abafaf428a1",
            "bd301ea6f5a54ef3b4ef6d09f7a4e1f4",
            "522acd54d1394075893b1bf60eea86e8",
            "bdeb9f14564f49ee81343332b98b6e44",
            "d7d64645f2e9468a818b6edbe39f6dc8",
            "686ccf39449d402ab4c3ff69b2a67957"
          ]
        },
        "outputId": "861db9eb-bf2a-4643-c648-63371167a0a0"
      },
      "execution_count": null,
      "outputs": [
        {
          "output_type": "display_data",
          "data": {
            "text/plain": [
              "Downloading https://raw.githubusercontent.com/stanfordnlp/stanza-resources/main/resources_1.3.0.json:   0%|   …"
            ],
            "application/vnd.jupyter.widget-view+json": {
              "version_major": 2,
              "version_minor": 0,
              "model_id": "09853173047a4f028b0b5a68b078d58b"
            }
          },
          "metadata": {}
        },
        {
          "output_type": "stream",
          "name": "stderr",
          "text": [
            "2022-04-19 17:39:32 INFO: Downloading default packages for language: en (English)...\n"
          ]
        },
        {
          "output_type": "display_data",
          "data": {
            "text/plain": [
              "Downloading https://huggingface.co/stanfordnlp/stanza-en/resolve/v1.3.0/models/default.zip:   0%|          | 0…"
            ],
            "application/vnd.jupyter.widget-view+json": {
              "version_major": 2,
              "version_minor": 0,
              "model_id": "0bba1bfa8d60463c9abe1c5634cb2ff3"
            }
          },
          "metadata": {}
        },
        {
          "output_type": "stream",
          "name": "stderr",
          "text": [
            "2022-04-19 17:39:48 INFO: Finished downloading models and saved to /root/stanza_resources.\n",
            "2022-04-19 17:39:48 INFO: Loading these models for language: en (English):\n",
            "=========================\n",
            "| Processor | Package   |\n",
            "-------------------------\n",
            "| tokenize  | combined  |\n",
            "| ner       | ontonotes |\n",
            "=========================\n",
            "\n",
            "2022-04-19 17:39:48 INFO: Use device: cpu\n",
            "2022-04-19 17:39:48 INFO: Loading: tokenize\n",
            "2022-04-19 17:39:48 INFO: Loading: ner\n",
            "2022-04-19 17:39:49 INFO: Done loading processors!\n"
          ]
        }
      ]
    },
    {
      "cell_type": "code",
      "source": [
        "doc = stanza_nlp(hp_story)\n",
        "doc.sentences[0].print_dependencies()"
      ],
      "metadata": {
        "id": "xG8HxcK7m7Px"
      },
      "execution_count": null,
      "outputs": []
    },
    {
      "cell_type": "code",
      "source": [
        "people = set()\n",
        "locations = set()\n",
        "# organization = set()\n",
        "other_entities = set()\n",
        "other_tags = set()\n",
        "all_entities = set()\n",
        "\n",
        "people_split = set()\n",
        "for ent in doc.ents:\n",
        "  all_entities.add(ent.text)\n",
        "  if ent.type == \"PERSON\":\n",
        "    if ent.text not in people_split:\n",
        "      people.add(ent.text)\n",
        "      people_split.update(ent.text.split())\n",
        "  elif ent.type == \"ORG\" or ent.type == \"FAC\":\n",
        "    locations.add(ent.text)\n",
        "  elif ent.type != \"DATE\" and ent.type != \"CARDINAL\":\n",
        "    other_entities.add((ent.text, ent.type))\n",
        "  else:\n",
        "    other_tags.add(ent)\n",
        "\n",
        "print(\"People:\\n\",people)\n",
        "print(\"Location:\\n\", locations)\n",
        "# print(\"Other Entities:\\n\", other_entities)\n",
        "# print(*[f'entity: {ent.text}\\ttype: {ent.type}' for ent in other_tags], sep='\\n')"
      ],
      "metadata": {
        "colab": {
          "base_uri": "https://localhost:8080/"
        },
        "id": "ryEcCQS8o3uz",
        "outputId": "685e8f1e-4f05-4413-8a2e-bf274aa3cbc2"
      },
      "execution_count": null,
      "outputs": [
        {
          "output_type": "stream",
          "name": "stdout",
          "text": [
            "People:\n",
            " {'Nicolas Flamel', 'Albus Dumbledore', 'Firenze', 'Quirrell', 'Diagon Alley', 'Hedwig', 'Voldemort', 'Harry Potter', \"Lord Voldemort's\", 'Petunia Dursley', 'Dudley', 'Draco Malfoy', 'Slytherin', 'Severus Snape', 'Ravenclaw', 'Vernon', 'Lily Potter', 'Gryffindor', 'Hermione Granger', 'Rubeus Hagrid', 'James', 'Ronald Weasley', 'Hufflepuff', 'Ron'}\n",
            "Location:\n",
            " {'Gringotts Bank', 'Sorting Hat', 'Gringotts Wizarding Bank', 'the Hogwarts Express', 'the Mirror of Erised', 'Privet Drive', 'Platform 9¾', \"King's Cross\", 'Slytherin', 'Quidditch', 'Hogwarts School of Witchcraft', 'the Dursleys'}\n"
          ]
        }
      ]
    },
    {
      "cell_type": "code",
      "source": [
        "# manually edit the people and location entities\n",
        "for p in ['Diagon Alley', 'Ron', 'James', \"Lord Voldemort's\", 'Gryffindor','Slytherin', 'Ravenclaw', 'Hufflepuff', 'Petunia Dursley', 'Vernon']:\n",
        "  people.remove(p)\n",
        "for l in ['Gringotts Bank', 'Quidditch', 'Slytherin', 'Hogwarts School of Witchcraft', 'Sorting Hat', \"King's Cross\"]:\n",
        "  locations.remove(l)\n",
        "locations.add('Diagon Alley')\n",
        "locations.add('Hogwarts School of Witchcraft and Wizardry')\n",
        "locations.add(\"King's Cross railway station\")"
      ],
      "metadata": {
        "id": "jJYTJz_VmmDi"
      },
      "execution_count": null,
      "outputs": []
    },
    {
      "cell_type": "code",
      "source": [
        "print(\"Characters:\")\n",
        "for i, p in enumerate(people):\n",
        "  print(i, p)\n",
        "print(\"\\n\")\n",
        "print(\"Locations:\")\n",
        "for j, l in enumerate(locations):\n",
        "  print(j, l)"
      ],
      "metadata": {
        "colab": {
          "base_uri": "https://localhost:8080/"
        },
        "id": "5YZk_P5bmybg",
        "outputId": "a762bac7-36d8-49cd-e464-ca6f07b3298e"
      },
      "execution_count": null,
      "outputs": [
        {
          "output_type": "stream",
          "name": "stdout",
          "text": [
            "Characters:\n",
            "0 Nicolas Flamel\n",
            "1 Albus Dumbledore\n",
            "2 Firenze\n",
            "3 Quirrell\n",
            "4 Hedwig\n",
            "5 Voldemort\n",
            "6 Harry Potter\n",
            "7 Dudley\n",
            "8 Draco Malfoy\n",
            "9 Severus Snape\n",
            "10 Lily Potter\n",
            "11 Hermione Granger\n",
            "12 Rubeus Hagrid\n",
            "13 Ronald Weasley\n",
            "\n",
            "\n",
            "Locations:\n",
            "0 Diagon Alley\n",
            "1 Gringotts Wizarding Bank\n",
            "2 the Hogwarts Express\n",
            "3 the Mirror of Erised\n",
            "4 Privet Drive\n",
            "5 Hogwarts School of Witchcraft and Wizardry\n",
            "6 Platform 9¾\n",
            "7 King's Cross railway station\n",
            "8 the Dursleys\n"
          ]
        }
      ]
    },
    {
      "cell_type": "markdown",
      "source": [
        "### Extract Entity Relation with openIE \n",
        "through stanza's coreNLP client\n",
        "\n",
        "(Found that NER with openIE is not as good as stanza)"
      ],
      "metadata": {
        "id": "m4TFIQkLxcBh"
      }
    },
    {
      "cell_type": "code",
      "source": [
        "corenlp_dir = './corenlp'\n",
        "stanza.install_corenlp(dir=corenlp_dir)\n",
        "\n",
        "# Set the CORENLP_HOME environment variable to point to the installation location\n",
        "import os\n",
        "os.environ[\"CORENLP_HOME\"] = corenlp_dir"
      ],
      "metadata": {
        "colab": {
          "base_uri": "https://localhost:8080/",
          "height": 132,
          "referenced_widgets": [
            "f41748dc69674ce0b5f59cb20f27f1c7",
            "a702f717c7a44e4c85490f5439e9c185",
            "ad7cf9b3263c4594952ebf7ae45021bf",
            "4a90f5fe522c4ed48d3b72b05d05b672",
            "02ccbee440fe40b7ae2538d4048919c7",
            "7f01c675534b48f9be7e47639c0fc2e0",
            "d9664e0431b94506ac10fcbda39ad2aa",
            "a1f87ec7cda2456d843c67d2fb67b3b2",
            "bf828f4750a14b639a6a3b7b1798eed7",
            "590b7c8f5d544ebb977db45a4b1cff31",
            "dad25328d3c0402099ef4237b5d6d415"
          ]
        },
        "id": "XSeX97tTxaFj",
        "outputId": "e86ded0d-633c-4b1b-cbf3-6610a432e7e7"
      },
      "execution_count": null,
      "outputs": [
        {
          "output_type": "stream",
          "name": "stderr",
          "text": [
            "2022-04-19 17:40:15 INFO: Installing CoreNLP package into ./corenlp...\n"
          ]
        },
        {
          "output_type": "display_data",
          "data": {
            "text/plain": [
              "Downloading https://huggingface.co/stanfordnlp/CoreNLP/resolve/main/stanford-corenlp-latest.zip:   0%|        …"
            ],
            "application/vnd.jupyter.widget-view+json": {
              "version_major": 2,
              "version_minor": 0,
              "model_id": "f41748dc69674ce0b5f59cb20f27f1c7"
            }
          },
          "metadata": {}
        },
        {
          "output_type": "stream",
          "name": "stderr",
          "text": [
            "2022-04-19 17:40:21 WARNING: For customized installation location, please set the `CORENLP_HOME` environment variable to the location of the installation. In Unix, this is done with `export CORENLP_HOME=./corenlp`.\n"
          ]
        }
      ]
    },
    {
      "cell_type": "code",
      "source": [
        "from stanza.server import CoreNLPClient\n",
        "\n",
        "client = CoreNLPClient(timeout=150000000, be_quiet=True, annotators=['openie','ner'], \n",
        "endpoint='http://localhost:9001')\n",
        "client.start()\n",
        "import time\n",
        "time.sleep(10)"
      ],
      "metadata": {
        "colab": {
          "base_uri": "https://localhost:8080/"
        },
        "id": "R8Xr6e9K0Czt",
        "outputId": "c1e3d9c1-a112-482c-b51a-42dd80d740fa"
      },
      "execution_count": null,
      "outputs": [
        {
          "output_type": "stream",
          "name": "stderr",
          "text": [
            "2022-04-19 17:40:23 INFO: Writing properties to tmp file: corenlp_server-644e7e3cef5647da.props\n",
            "2022-04-19 17:40:23 INFO: Starting server with command: java -Xmx5G -cp ./corenlp/* edu.stanford.nlp.pipeline.StanfordCoreNLPServer -port 9001 -timeout 150000000 -threads 5 -maxCharLength 100000 -quiet True -serverProperties corenlp_server-644e7e3cef5647da.props -annotators openie,ner -preload -outputFormat serialized\n"
          ]
        }
      ]
    },
    {
      "cell_type": "code",
      "source": [
        "# Annotate some text\n",
        "properties = {\n",
        "    'openie.affinity_probability_cap': 2 / 3,\n",
        "    'openie.ignore_affinity':True,\n",
        "}\n",
        "text = hp_story\n",
        "document = client.annotate(text, properties=properties )"
      ],
      "metadata": {
        "id": "ghmpQ1E-0Ekz"
      },
      "execution_count": null,
      "outputs": []
    },
    {
      "cell_type": "code",
      "source": [
        "import nltk\n",
        "nltk.download('stopwords')\n",
        "stop = set(nltk.corpus.stopwords.words('english'))"
      ],
      "metadata": {
        "colab": {
          "base_uri": "https://localhost:8080/"
        },
        "id": "mPe7R5ZpjZkI",
        "outputId": "07072fbb-d5df-4909-cc75-f08e42b48fd2"
      },
      "execution_count": null,
      "outputs": [
        {
          "output_type": "stream",
          "name": "stdout",
          "text": [
            "[nltk_data] Downloading package stopwords to /root/nltk_data...\n",
            "[nltk_data]   Package stopwords is already up-to-date!\n"
          ]
        }
      ]
    },
    {
      "cell_type": "code",
      "source": [
        "people_openie = set()\n",
        "locations_openie = set()\n",
        "other_entities_openie = set()\n",
        "other_tags_openie = set()\n",
        "all_entities_openie = set()\n",
        "for ent in document.mentions:\n",
        "  if ent.entityMentionText in stop:\n",
        "    continue\n",
        "  all_entities_openie.add(ent.entityMentionText)\n",
        "  if ent.entityType == \"PERSON\":\n",
        "    people_openie.add(ent.entityMentionText)\n",
        "  elif ent.entityType == \"ORGANIZATION\" or ent.entityType == \"LOCATION\":\n",
        "    locations_openie.add(ent.entityMentionText)\n",
        "  else:\n",
        "    other_tags_openie.add((ent.entityMentionText, ent.entityType))\n",
        "\n",
        "print(\"People Stanza:\\n\",people)\n",
        "print(\"People openie:\\n\",people_openie)\n",
        "print(\"-------------------\")\n",
        "print(\"Location Stanza:\\n\", locations)\n",
        "print(\"Location openie:\\n\", locations_openie)\n",
        "print(\"-------------------\")\n",
        "print(\"Other Entities stanza:\\n\", other_entities)\n",
        "print(\"Other Entities openie:\\n\", list(other_tags_openie))"
      ],
      "metadata": {
        "id": "sK9DhFIZkVby",
        "colab": {
          "base_uri": "https://localhost:8080/"
        },
        "outputId": "3ee78f24-19af-481d-9198-4597b38da59f"
      },
      "execution_count": null,
      "outputs": [
        {
          "output_type": "stream",
          "name": "stdout",
          "text": [
            "People Stanza:\n",
            " {'Nicolas Flamel', 'Albus Dumbledore', 'Firenze', 'Quirrell', 'Hedwig', 'Voldemort', 'Harry Potter', 'Petunia Dursley', 'Dudley', 'Draco Malfoy', 'Severus Snape', 'Vernon', 'Lily Potter', 'Hermione Granger', 'Rubeus Hagrid', 'James', 'Ronald Weasley'}\n",
            "People openie:\n",
            " {'Malfoy', 'Nicolas Flamel', 'Albus Dumbledore', 'Hermione', 'Firenze', 'Realising Malfoy', 'Quirrell', 'Snape', 'Draco', 'Hagrid', 'Voldemort', 'Harry Potter', 'Petunia Dursley', 'Dudley', 'His', 'Ollivander', 'Draco Malfoy', 'Harry', 'Severus Snape', 'Ravenclaw', 'Vernon', 'Dumbledore', 'Lily Potter', 'Hermione Granger', 'Rubeus Hagrid', 'James', 'Ronald Weasley', 'Hufflepuff', 'Ron'}\n",
            "-------------------\n",
            "Location Stanza:\n",
            " {'Diagon Alley', 'Sorting Hat', 'Gringotts Wizarding Bank', 'the Hogwarts Express', 'the Mirror of Erised', 'Privet Drive', 'Platform 9¾', \"King's Cross\", 'Hogwarts School of Witchcraft', 'the Dursleys'}\n",
            "Location openie:\n",
            " {'Diagon Alley', 'Gringotts Bank', 'Dursleys', 'Gringotts Wizarding Bank', 'King', 'Privet Drive', 'Hogwarts School of Witchcraft and Wizardry', 'Hogwarts', 'Slytherin', 'Mirror of Erised', 'Hogwarts Express'}\n",
            "-------------------\n",
            "Other Entities stanza:\n",
            " {('Hogwarts', 'EVENT'), ('Quirrell', 'PRODUCT'), ('the House Cup', 'WORK_OF_ART'), ('Wizardry', 'WORK_OF_ART'), ('London', 'GPE'), ('first', 'ORDINAL'), ('Seeker', 'PRODUCT'), ('the Mirror of Erised', 'WORK_OF_ART'), ('eleventh', 'ORDINAL')}\n",
            "Other Entities openie:\n",
            " [('Halloween', 'DATE'), ('A month later', 'DATE'), ('student', 'TITLE'), ('two', 'NUMBER'), ('headmaster', 'TITLE'), ('one year old', 'DURATION'), ('9', 'NUMBER'), ('Christmas', 'DATE'), ('teacher', 'TITLE'), ('year', 'DURATION'), ('eleventh birthday', 'DATE'), ('lightning', 'CAUSE_OF_DEATH'), ('four', 'NUMBER'), ('Professor', 'TITLE'), ('¾', 'NUMBER'), ('London', 'CITY'), ('robbery', 'CRIMINAL_CHARGE'), ('three', 'NUMBER'), ('three-headed', 'NUMBER'), ('philosopher', 'TITLE'), ('House Cup', 'MISC'), ('first', 'ORDINAL'), ('theft', 'CRIMINAL_CHARGE')]\n"
          ]
        }
      ]
    },
    {
      "cell_type": "code",
      "source": [
        "triples = []\n",
        "for sentence in document.sentence:\n",
        "  existing_subjects = set()\n",
        "  for triple in sentence.openieTriple:    \n",
        "    if triple.subject not in existing_subjects:\n",
        "      if triple.subject in all_entities and triple.object in all_entities:\n",
        "        if triple.subject not in stop and triple.object not in stop:\n",
        "          print(\"--------------------\")\n",
        "          dic = {}\n",
        "          dic['subject'] = triple.subject\n",
        "          dic['object'] = triple.object\n",
        "          dic['relation'] = triple.relation\n",
        "          triples.append(dic)\n",
        "          existing_subjects.add(triple.subject)\n",
        "          print(triple.subject)\n",
        "          print(triple.relation)\n",
        "          print(triple.object)"
      ],
      "metadata": {
        "id": "SUnAL0g3wWi6"
      },
      "execution_count": null,
      "outputs": []
    },
    {
      "cell_type": "code",
      "source": [
        "import graphviz\n",
        "from graphviz import Source\n",
        "def generate_graphviz_graph(entity_relations):\n",
        "    dot = graphviz.Digraph('entity-relations', comment='Entity Relations')\n",
        "    for er in entity_relations:\n",
        "        dot.body.append('\"{}\" -> \"{}\" [ label=\"{}\" ];'.format(er['subject'], er['object'], er['relation']))\n",
        "    return dot"
      ],
      "metadata": {
        "id": "YNq6lT1BFxCi"
      },
      "execution_count": null,
      "outputs": []
    },
    {
      "cell_type": "code",
      "source": [
        "graph = generate_graphviz_graph(triples)\n",
        "graph"
      ],
      "metadata": {
        "colab": {
          "base_uri": "https://localhost:8080/",
          "height": 447
        },
        "id": "hYU3LP3LF4SM",
        "outputId": "566cc9ad-e78f-47da-f629-6d6de96e1072"
      },
      "execution_count": null,
      "outputs": [
        {
          "output_type": "execute_result",
          "data": {
            "text/plain": [
              "<graphviz.dot.Digraph at 0x7f5703ef3e50>"
            ],
            "image/svg+xml": "<?xml version=\"1.0\" encoding=\"UTF-8\" standalone=\"no\"?>\n<!DOCTYPE svg PUBLIC \"-//W3C//DTD SVG 1.1//EN\"\n \"http://www.w3.org/Graphics/SVG/1.1/DTD/svg11.dtd\">\n<!-- Generated by graphviz version 2.40.1 (20161225.0304)\n -->\n<!-- Title: entity&#45;relations Pages: 1 -->\n<svg width=\"738pt\" height=\"305pt\"\n viewBox=\"0.00 0.00 737.94 305.00\" xmlns=\"http://www.w3.org/2000/svg\" xmlns:xlink=\"http://www.w3.org/1999/xlink\">\n<g id=\"graph0\" class=\"graph\" transform=\"scale(1 1) rotate(0) translate(4 301)\">\n<title>entity&#45;relations</title>\n<polygon fill=\"#ffffff\" stroke=\"transparent\" points=\"-4,4 -4,-301 733.9418,-301 733.9418,4 -4,4\"/>\n<!-- Harry -->\n<g id=\"node1\" class=\"node\">\n<title>Harry</title>\n<ellipse fill=\"none\" stroke=\"#000000\" cx=\"222.0957\" cy=\"-192\" rx=\"32.4942\" ry=\"18\"/>\n<text text-anchor=\"middle\" x=\"222.0957\" y=\"-188.3\" font-family=\"Times,serif\" font-size=\"14.00\" fill=\"#000000\">Harry</text>\n</g>\n<!-- James -->\n<g id=\"node2\" class=\"node\">\n<title>James</title>\n<ellipse fill=\"none\" stroke=\"#000000\" cx=\"153.0957\" cy=\"-105\" rx=\"32.4942\" ry=\"18\"/>\n<text text-anchor=\"middle\" x=\"153.0957\" y=\"-101.3\" font-family=\"Times,serif\" font-size=\"14.00\" fill=\"#000000\">James</text>\n</g>\n<!-- Harry&#45;&gt;James -->\n<g id=\"edge1\" class=\"edge\">\n<title>Harry&#45;&gt;James</title>\n<path fill=\"none\" stroke=\"#000000\" d=\"M202.8346,-177.4715C195.4888,-171.3499 187.3794,-163.8317 181.0957,-156 175.2803,-148.7519 170.0284,-140.1266 165.6862,-132.0502\"/>\n<polygon fill=\"#000000\" stroke=\"#000000\" points=\"168.6956,-130.2476 161.0274,-122.9367 162.4628,-133.4339 168.6956,-130.2476\"/>\n<text text-anchor=\"middle\" x=\"213.5957\" y=\"-144.8\" font-family=\"Times,serif\" font-size=\"14.00\" fill=\"#000000\">&#39;s parents is</text>\n</g>\n<!-- Hermione Granger -->\n<g id=\"node4\" class=\"node\">\n<title>Hermione Granger</title>\n<ellipse fill=\"none\" stroke=\"#000000\" cx=\"284.0957\" cy=\"-105\" rx=\"80.6858\" ry=\"18\"/>\n<text text-anchor=\"middle\" x=\"284.0957\" y=\"-101.3\" font-family=\"Times,serif\" font-size=\"14.00\" fill=\"#000000\">Hermione Granger</text>\n</g>\n<!-- Harry&#45;&gt;Hermione Granger -->\n<g id=\"edge4\" class=\"edge\">\n<title>Harry&#45;&gt;Hermione Granger</title>\n<path fill=\"none\" stroke=\"#000000\" d=\"M234.05,-175.2255C242.9086,-162.7948 255.1552,-145.6101 265.3162,-131.3519\"/>\n<polygon fill=\"#000000\" stroke=\"#000000\" points=\"268.3712,-133.0959 271.3245,-122.921 262.6706,-129.0334 268.3712,-133.0959\"/>\n<text text-anchor=\"middle\" x=\"273.5957\" y=\"-144.8\" font-family=\"Times,serif\" font-size=\"14.00\" fill=\"#000000\">meets</text>\n</g>\n<!-- Hermione -->\n<g id=\"node9\" class=\"node\">\n<title>Hermione</title>\n<ellipse fill=\"none\" stroke=\"#000000\" cx=\"48.0957\" cy=\"-105\" rx=\"48.1917\" ry=\"18\"/>\n<text text-anchor=\"middle\" x=\"48.0957\" y=\"-101.3\" font-family=\"Times,serif\" font-size=\"14.00\" fill=\"#000000\">Hermione</text>\n</g>\n<!-- Harry&#45;&gt;Hermione -->\n<g id=\"edge7\" class=\"edge\">\n<title>Harry&#45;&gt;Hermione</title>\n<path fill=\"none\" stroke=\"#000000\" d=\"M196.2802,-180.7452C180.7494,-173.8485 160.6517,-164.701 143.0957,-156 123.2426,-146.1605 101.4387,-134.5168 83.7323,-124.841\"/>\n<polygon fill=\"#000000\" stroke=\"#000000\" points=\"85.3289,-121.7247 74.8786,-119.9805 81.9602,-127.8609 85.3289,-121.7247\"/>\n<text text-anchor=\"middle\" x=\"155.5957\" y=\"-144.8\" font-family=\"Times,serif\" font-size=\"14.00\" fill=\"#000000\">save</text>\n</g>\n<!-- Voldemort -->\n<g id=\"node14\" class=\"node\">\n<title>Voldemort</title>\n<ellipse fill=\"none\" stroke=\"#000000\" cx=\"433.0957\" cy=\"-105\" rx=\"50.0912\" ry=\"18\"/>\n<text text-anchor=\"middle\" x=\"433.0957\" y=\"-101.3\" font-family=\"Times,serif\" font-size=\"14.00\" fill=\"#000000\">Voldemort</text>\n</g>\n<!-- Harry&#45;&gt;Voldemort -->\n<g id=\"edge13\" class=\"edge\">\n<title>Harry&#45;&gt;Voldemort</title>\n<path fill=\"none\" stroke=\"#000000\" d=\"M248.3924,-181.1573C284.0312,-166.4626 348.087,-140.051 390.601,-122.5215\"/>\n<polygon fill=\"#000000\" stroke=\"#000000\" points=\"391.945,-125.7533 399.8558,-118.7056 389.2767,-119.2818 391.945,-125.7533\"/>\n<text text-anchor=\"middle\" x=\"366.0957\" y=\"-144.8\" font-family=\"Times,serif\" font-size=\"14.00\" fill=\"#000000\">survived</text>\n</g>\n<!-- Hagrid -->\n<g id=\"node3\" class=\"node\">\n<title>Hagrid</title>\n<ellipse fill=\"none\" stroke=\"#000000\" cx=\"150.0957\" cy=\"-279\" rx=\"36.2938\" ry=\"18\"/>\n<text text-anchor=\"middle\" x=\"150.0957\" y=\"-275.3\" font-family=\"Times,serif\" font-size=\"14.00\" fill=\"#000000\">Hagrid</text>\n</g>\n<!-- Hagrid&#45;&gt;Harry -->\n<g id=\"edge2\" class=\"edge\">\n<title>Hagrid&#45;&gt;Harry</title>\n<path fill=\"none\" stroke=\"#000000\" d=\"M142.6265,-261.1925C139.4942,-250.7615 137.8494,-237.7625 144.0957,-228 152.5207,-214.8325 167.1219,-206.4126 181.4297,-201.0599\"/>\n<polygon fill=\"#000000\" stroke=\"#000000\" points=\"182.8147,-204.2883 191.2086,-197.8236 180.6153,-197.6428 182.8147,-204.2883\"/>\n<text text-anchor=\"middle\" x=\"158.5957\" y=\"-231.8\" font-family=\"Times,serif\" font-size=\"14.00\" fill=\"#000000\">takes</text>\n</g>\n<!-- Hagrid&#45;&gt;Harry -->\n<g id=\"edge3\" class=\"edge\">\n<title>Hagrid&#45;&gt;Harry</title>\n<path fill=\"none\" stroke=\"#000000\" d=\"M163.9781,-262.2255C174.8045,-249.1436 189.9881,-230.7967 202.1208,-216.1364\"/>\n<polygon fill=\"#000000\" stroke=\"#000000\" points=\"204.8209,-218.3634 208.5002,-208.4279 199.4281,-213.9004 204.8209,-218.3634\"/>\n<text text-anchor=\"middle\" x=\"206.5957\" y=\"-231.8\" font-family=\"Times,serif\" font-size=\"14.00\" fill=\"#000000\">gives</text>\n</g>\n<!-- Sorting Hat -->\n<g id=\"node5\" class=\"node\">\n<title>Sorting Hat</title>\n<ellipse fill=\"none\" stroke=\"#000000\" cx=\"446.0957\" cy=\"-279\" rx=\"53.8905\" ry=\"18\"/>\n<text text-anchor=\"middle\" x=\"446.0957\" y=\"-275.3\" font-family=\"Times,serif\" font-size=\"14.00\" fill=\"#000000\">Sorting Hat</text>\n</g>\n<!-- Hogwarts -->\n<g id=\"node6\" class=\"node\">\n<title>Hogwarts</title>\n<ellipse fill=\"none\" stroke=\"#000000\" cx=\"510.0957\" cy=\"-192\" rx=\"46.5926\" ry=\"18\"/>\n<text text-anchor=\"middle\" x=\"510.0957\" y=\"-188.3\" font-family=\"Times,serif\" font-size=\"14.00\" fill=\"#000000\">Hogwarts</text>\n</g>\n<!-- Sorting Hat&#45;&gt;Hogwarts -->\n<g id=\"edge5\" class=\"edge\">\n<title>Sorting Hat&#45;&gt;Hogwarts</title>\n<path fill=\"none\" stroke=\"#000000\" d=\"M455.8945,-260.9791C461.6244,-250.9579 469.2566,-238.4401 477.0957,-228 479.9975,-224.1354 483.2431,-220.207 486.5356,-216.4349\"/>\n<polygon fill=\"#000000\" stroke=\"#000000\" points=\"489.161,-218.7498 493.2644,-208.9819 483.9652,-214.0589 489.161,-218.7498\"/>\n<text text-anchor=\"middle\" x=\"515.5957\" y=\"-231.8\" font-family=\"Times,serif\" font-size=\"14.00\" fill=\"#000000\">sorts years At</text>\n</g>\n<!-- Draco -->\n<g id=\"node7\" class=\"node\">\n<title>Draco</title>\n<ellipse fill=\"none\" stroke=\"#000000\" cx=\"685.0957\" cy=\"-279\" rx=\"33.2948\" ry=\"18\"/>\n<text text-anchor=\"middle\" x=\"685.0957\" y=\"-275.3\" font-family=\"Times,serif\" font-size=\"14.00\" fill=\"#000000\">Draco</text>\n</g>\n<!-- Slytherin -->\n<g id=\"node8\" class=\"node\">\n<title>Slytherin</title>\n<ellipse fill=\"none\" stroke=\"#000000\" cx=\"685.0957\" cy=\"-192\" rx=\"44.6926\" ry=\"18\"/>\n<text text-anchor=\"middle\" x=\"685.0957\" y=\"-188.3\" font-family=\"Times,serif\" font-size=\"14.00\" fill=\"#000000\">Slytherin</text>\n</g>\n<!-- Draco&#45;&gt;Slytherin -->\n<g id=\"edge6\" class=\"edge\">\n<title>Draco&#45;&gt;Slytherin</title>\n<path fill=\"none\" stroke=\"#000000\" d=\"M685.0957,-260.9735C685.0957,-249.1918 685.0957,-233.5607 685.0957,-220.1581\"/>\n<polygon fill=\"#000000\" stroke=\"#000000\" points=\"688.5958,-220.0033 685.0957,-210.0034 681.5958,-220.0034 688.5958,-220.0033\"/>\n<text text-anchor=\"middle\" x=\"699.0957\" y=\"-231.8\" font-family=\"Times,serif\" font-size=\"14.00\" fill=\"#000000\">joins</text>\n</g>\n<!-- Ron -->\n<g id=\"node10\" class=\"node\">\n<title>Ron</title>\n<ellipse fill=\"none\" stroke=\"#000000\" cx=\"36.0957\" cy=\"-192\" rx=\"27\" ry=\"18\"/>\n<text text-anchor=\"middle\" x=\"36.0957\" y=\"-188.3\" font-family=\"Times,serif\" font-size=\"14.00\" fill=\"#000000\">Ron</text>\n</g>\n<!-- Ron&#45;&gt;Hermione -->\n<g id=\"edge8\" class=\"edge\">\n<title>Ron&#45;&gt;Hermione</title>\n<path fill=\"none\" stroke=\"#000000\" d=\"M35.2404,-173.9546C35.0784,-164.1488 35.3671,-151.8444 37.0957,-141 37.5246,-138.3096 38.1055,-135.5408 38.7775,-132.7904\"/>\n<polygon fill=\"#000000\" stroke=\"#000000\" points=\"42.1694,-133.6571 41.5019,-123.0833 35.4298,-131.7655 42.1694,-133.6571\"/>\n<text text-anchor=\"middle\" x=\"63.5957\" y=\"-144.8\" font-family=\"Times,serif\" font-size=\"14.00\" fill=\"#000000\">later save</text>\n</g>\n<!-- Firenze -->\n<g id=\"node11\" class=\"node\">\n<title>Firenze</title>\n<ellipse fill=\"none\" stroke=\"#000000\" cx=\"249.0957\" cy=\"-279\" rx=\"38.1938\" ry=\"18\"/>\n<text text-anchor=\"middle\" x=\"249.0957\" y=\"-275.3\" font-family=\"Times,serif\" font-size=\"14.00\" fill=\"#000000\">Firenze</text>\n</g>\n<!-- Firenze&#45;&gt;Harry -->\n<g id=\"edge9\" class=\"edge\">\n<title>Firenze&#45;&gt;Harry</title>\n<path fill=\"none\" stroke=\"#000000\" d=\"M243.5013,-260.9735C239.8087,-249.0751 234.8977,-233.2508 230.7111,-219.7606\"/>\n<polygon fill=\"#000000\" stroke=\"#000000\" points=\"233.9898,-218.5166 227.683,-210.0034 227.3043,-220.5914 233.9898,-218.5166\"/>\n<text text-anchor=\"middle\" x=\"255.0957\" y=\"-231.8\" font-family=\"Times,serif\" font-size=\"14.00\" fill=\"#000000\">warns</text>\n</g>\n<!-- Dumbledore -->\n<g id=\"node12\" class=\"node\">\n<title>Dumbledore</title>\n<ellipse fill=\"none\" stroke=\"#000000\" cx=\"576.0957\" cy=\"-279\" rx=\"57.6901\" ry=\"18\"/>\n<text text-anchor=\"middle\" x=\"576.0957\" y=\"-275.3\" font-family=\"Times,serif\" font-size=\"14.00\" fill=\"#000000\">Dumbledore</text>\n</g>\n<!-- Dumbledore&#45;&gt;Hogwarts -->\n<g id=\"edge10\" class=\"edge\">\n<title>Dumbledore&#45;&gt;Hogwarts</title>\n<path fill=\"none\" stroke=\"#000000\" d=\"M570.6697,-260.8909C567.0277,-250.6045 561.5277,-237.8545 554.0957,-228 550.4408,-223.1537 546.0026,-218.5583 541.3684,-214.3728\"/>\n<polygon fill=\"#000000\" stroke=\"#000000\" points=\"543.3938,-211.5029 533.4881,-207.7442 538.8878,-216.8598 543.3938,-211.5029\"/>\n<text text-anchor=\"middle\" x=\"600.0957\" y=\"-231.8\" font-family=\"Times,serif\" font-size=\"14.00\" fill=\"#000000\">is lured from</text>\n</g>\n<!-- Snape -->\n<g id=\"node13\" class=\"node\">\n<title>Snape</title>\n<ellipse fill=\"none\" stroke=\"#000000\" cx=\"339.0957\" cy=\"-279\" rx=\"33.5952\" ry=\"18\"/>\n<text text-anchor=\"middle\" x=\"339.0957\" y=\"-275.3\" font-family=\"Times,serif\" font-size=\"14.00\" fill=\"#000000\">Snape</text>\n</g>\n<!-- Snape&#45;&gt;Harry -->\n<g id=\"edge11\" class=\"edge\">\n<title>Snape&#45;&gt;Harry</title>\n<path fill=\"none\" stroke=\"#000000\" d=\"M320.9792,-263.5907C308.5758,-253.227 291.625,-239.4243 276.0957,-228 268.5123,-222.4212 260.1267,-216.6491 252.2703,-211.4041\"/>\n<polygon fill=\"#000000\" stroke=\"#000000\" points=\"253.9701,-208.3324 243.6961,-205.7448 250.114,-214.1746 253.9701,-208.3324\"/>\n<text text-anchor=\"middle\" x=\"338.0957\" y=\"-231.8\" font-family=\"Times,serif\" font-size=\"14.00\" fill=\"#000000\">was protecting</text>\n</g>\n<!-- Quirrell -->\n<g id=\"node15\" class=\"node\">\n<title>Quirrell</title>\n<ellipse fill=\"none\" stroke=\"#000000\" cx=\"433.0957\" cy=\"-18\" rx=\"39.7935\" ry=\"18\"/>\n<text text-anchor=\"middle\" x=\"433.0957\" y=\"-14.3\" font-family=\"Times,serif\" font-size=\"14.00\" fill=\"#000000\">Quirrell</text>\n</g>\n<!-- Voldemort&#45;&gt;Quirrell -->\n<g id=\"edge12\" class=\"edge\">\n<title>Voldemort&#45;&gt;Quirrell</title>\n<path fill=\"none\" stroke=\"#000000\" d=\"M433.0957,-86.9735C433.0957,-75.1918 433.0957,-59.5607 433.0957,-46.1581\"/>\n<polygon fill=\"#000000\" stroke=\"#000000\" points=\"436.5958,-46.0033 433.0957,-36.0034 429.5958,-46.0034 436.5958,-46.0033\"/>\n<text text-anchor=\"middle\" x=\"455.5957\" y=\"-57.8\" font-family=\"Times,serif\" font-size=\"14.00\" fill=\"#000000\">is using</text>\n</g>\n</g>\n</svg>\n"
          },
          "metadata": {},
          "execution_count": 40
        }
      ]
    },
    {
      "cell_type": "code",
      "source": [
        "graph.render(directory='graphviz-output', view=True)"
      ],
      "metadata": {
        "colab": {
          "base_uri": "https://localhost:8080/",
          "height": 35
        },
        "id": "-qUHUrB0goqo",
        "outputId": "da887f18-fb81-40f2-f7aa-40a91c1ad742"
      },
      "execution_count": null,
      "outputs": [
        {
          "output_type": "execute_result",
          "data": {
            "text/plain": [
              "'graphviz-output/entity-relations.gv.pdf'"
            ],
            "application/vnd.google.colaboratory.intrinsic+json": {
              "type": "string"
            }
          },
          "metadata": {},
          "execution_count": 36
        }
      ]
    },
    {
      "cell_type": "markdown",
      "source": [
        "### Question answering with BERT"
      ],
      "metadata": {
        "id": "I3fqv2hOcZ9T"
      }
    },
    {
      "cell_type": "code",
      "source": [
        "!pip install transformers"
      ],
      "metadata": {
        "colab": {
          "base_uri": "https://localhost:8080/"
        },
        "id": "7H6jVePd0k01",
        "outputId": "ff79c404-65c9-4f8e-d888-ea0d375fd3b2"
      },
      "execution_count": null,
      "outputs": [
        {
          "output_type": "stream",
          "name": "stdout",
          "text": [
            "Collecting transformers\n",
            "  Downloading transformers-4.18.0-py3-none-any.whl (4.0 MB)\n",
            "\u001b[K     |████████████████████████████████| 4.0 MB 8.1 MB/s \n",
            "\u001b[?25hRequirement already satisfied: regex!=2019.12.17 in /usr/local/lib/python3.7/dist-packages (from transformers) (2019.12.20)\n",
            "Collecting tokenizers!=0.11.3,<0.13,>=0.11.1\n",
            "  Downloading tokenizers-0.12.1-cp37-cp37m-manylinux_2_12_x86_64.manylinux2010_x86_64.whl (6.6 MB)\n",
            "\u001b[K     |████████████████████████████████| 6.6 MB 41.4 MB/s \n",
            "\u001b[?25hCollecting huggingface-hub<1.0,>=0.1.0\n",
            "  Downloading huggingface_hub-0.5.1-py3-none-any.whl (77 kB)\n",
            "\u001b[K     |████████████████████████████████| 77 kB 5.4 MB/s \n",
            "\u001b[?25hRequirement already satisfied: numpy>=1.17 in /usr/local/lib/python3.7/dist-packages (from transformers) (1.21.6)\n",
            "Requirement already satisfied: tqdm>=4.27 in /usr/local/lib/python3.7/dist-packages (from transformers) (4.64.0)\n",
            "Requirement already satisfied: filelock in /usr/local/lib/python3.7/dist-packages (from transformers) (3.6.0)\n",
            "Requirement already satisfied: requests in /usr/local/lib/python3.7/dist-packages (from transformers) (2.23.0)\n",
            "Collecting sacremoses\n",
            "  Downloading sacremoses-0.0.49-py3-none-any.whl (895 kB)\n",
            "\u001b[K     |████████████████████████████████| 895 kB 42.9 MB/s \n",
            "\u001b[?25hCollecting pyyaml>=5.1\n",
            "  Downloading PyYAML-6.0-cp37-cp37m-manylinux_2_5_x86_64.manylinux1_x86_64.manylinux_2_12_x86_64.manylinux2010_x86_64.whl (596 kB)\n",
            "\u001b[K     |████████████████████████████████| 596 kB 42.2 MB/s \n",
            "\u001b[?25hRequirement already satisfied: importlib-metadata in /usr/local/lib/python3.7/dist-packages (from transformers) (4.11.3)\n",
            "Requirement already satisfied: packaging>=20.0 in /usr/local/lib/python3.7/dist-packages (from transformers) (21.3)\n",
            "Requirement already satisfied: typing-extensions>=3.7.4.3 in /usr/local/lib/python3.7/dist-packages (from huggingface-hub<1.0,>=0.1.0->transformers) (4.1.1)\n",
            "Requirement already satisfied: pyparsing!=3.0.5,>=2.0.2 in /usr/local/lib/python3.7/dist-packages (from packaging>=20.0->transformers) (3.0.8)\n",
            "Requirement already satisfied: zipp>=0.5 in /usr/local/lib/python3.7/dist-packages (from importlib-metadata->transformers) (3.8.0)\n",
            "Requirement already satisfied: urllib3!=1.25.0,!=1.25.1,<1.26,>=1.21.1 in /usr/local/lib/python3.7/dist-packages (from requests->transformers) (1.24.3)\n",
            "Requirement already satisfied: chardet<4,>=3.0.2 in /usr/local/lib/python3.7/dist-packages (from requests->transformers) (3.0.4)\n",
            "Requirement already satisfied: certifi>=2017.4.17 in /usr/local/lib/python3.7/dist-packages (from requests->transformers) (2021.10.8)\n",
            "Requirement already satisfied: idna<3,>=2.5 in /usr/local/lib/python3.7/dist-packages (from requests->transformers) (2.10)\n",
            "Requirement already satisfied: click in /usr/local/lib/python3.7/dist-packages (from sacremoses->transformers) (7.1.2)\n",
            "Requirement already satisfied: joblib in /usr/local/lib/python3.7/dist-packages (from sacremoses->transformers) (1.1.0)\n",
            "Requirement already satisfied: six in /usr/local/lib/python3.7/dist-packages (from sacremoses->transformers) (1.15.0)\n",
            "Installing collected packages: pyyaml, tokenizers, sacremoses, huggingface-hub, transformers\n",
            "  Attempting uninstall: pyyaml\n",
            "    Found existing installation: PyYAML 3.13\n",
            "    Uninstalling PyYAML-3.13:\n",
            "      Successfully uninstalled PyYAML-3.13\n",
            "Successfully installed huggingface-hub-0.5.1 pyyaml-6.0 sacremoses-0.0.49 tokenizers-0.12.1 transformers-4.18.0\n"
          ]
        }
      ]
    },
    {
      "cell_type": "code",
      "execution_count": null,
      "metadata": {
        "colab": {
          "base_uri": "https://localhost:8080/",
          "height": 209,
          "referenced_widgets": [
            "f2f84bcbaafd49d3a4f099f40c954939",
            "bf737bc480414716a2002ff820b0f40d",
            "b04aa7d53e484302a3ed888be0550d4b",
            "c6c2f14022b94a50bc8f25cb6fb3a96f",
            "7d912924af384325863a3056ab7abd60",
            "32a178a764b2449698bac30bdd6fe214",
            "1a79ff442c5143fd9acce5e8675e3017",
            "3f4fe8b61913421aa41434ba8713203f",
            "48354e6942dc4fb08a719ec1fac39170",
            "0b8c93acae2a47e0a1f578b95cba5e9e",
            "f33785e9e204408f9ab227d23d3d0eb7",
            "c94916a0e44e41968d8a57aa833543eb",
            "e99138576ce1497eb3b14d79afcec05d",
            "3a20de0df404472b82f023e6c83698db",
            "24544eadd91c4881b6e8ccdf92b1ec9a",
            "a70b6c9c622740868619d22ac0a7a777",
            "48b984bc11664c568012c4fe6a8c9332",
            "9c3821b6cf734d0bbec5fef5dbd834ac",
            "86b66cb285874a9ea5c7a9f85b0fce26",
            "9dc06e57985f4d9ba76e483273b6d0b6",
            "bd997f572e3345d495cbb1151ae2e8bc",
            "ee594cfaf61740b199e212d1d426ab88",
            "92d33c9bd9744a6faff0b5d885374cdd",
            "86fbad7c2fbd43d8b774b5787aea2c5f",
            "c20397a8103646fc86edb5a5f29aa59e",
            "39a240ebc608404daf2d10816bc71ffa",
            "b6c27f53543c48b1adbda746c8775fe6",
            "7184c7a0d93f4678a9651a99c3c907a5",
            "1df180f90de849e0a85c427bd7139d25",
            "59ef1dc7b686458392a048fce010f306",
            "92f2e2b17ffc42b89dbc782e2432810d",
            "0e860dbb82cb46439dd687177e11ef10",
            "a081e2eb667f46a7801540c505d4175e",
            "b6651d5f31b64e6ea1f8260375ad22d0",
            "973c8535c02043d7a0b2e70648611f2a",
            "45e7b7389b5f46ba8e3c69af0dc994db",
            "a67c281e42b84c669941f730ff105208",
            "01582cf2975c45f5a41521966be3dabd",
            "7c6f94f4da834c33b4146889d7934fd9",
            "df0f4aa887254e87888d9d0b52e21ee8",
            "10a10e4f1bad424996e8205b9a51e069",
            "2faf9fff9bbe466383c4bf2466340454",
            "7c874f63ea284e169db93028c63f956f",
            "7b28a7ea27724cd39f7ce837093a291d",
            "93c8ea8ef7384ff4b90fec05e075ee06",
            "01ce6f8265e448748c05a37546e7c23a",
            "ea74b30bee2e4245a183ee3679e1cbfc",
            "32cc38cd10e94afc91c72a1e7b8f3339",
            "d42b43ac641543c2800f0a2e80a20f8b",
            "da9a100820da4abbab7ce23b913e1955",
            "57246571576c4e6c9d3be2bf4df954d0",
            "ed115acfa12b43b29764e15834b17587",
            "35387faf127449acb8ee41de35fd506e",
            "9cc1297e63334459aa8cde1b48aaaf6d",
            "91488a6faa5b4d36bdba4b2868491170",
            "5fb4b8a55c0a4e17b66d76a777215a7e",
            "d2790394e252440a92e7703a49c3a45b",
            "b5fbaf97fdcf4ba28813d58075bc452b",
            "b7756b706ebc4ada8f0140bd1f4a74a1",
            "6d48955e1c49446585a8c7bf76a30b98",
            "d5a674f2ca75467184ca8520d004a894",
            "a232147861c5475bbd5fa43da6526650",
            "79f4c88b4105436694041f57f3f5cffe",
            "fa3335546eff41c4a11c6de033d955ac",
            "13bf32799d8c43b0b3d333bc6bb43b0c",
            "b0ffab167bee4c07845201b79972489c"
          ]
        },
        "id": "dXCtH_D-cKea",
        "outputId": "aef9d0ed-6982-407c-8aa0-afde6731fa77"
      },
      "outputs": [
        {
          "output_type": "display_data",
          "data": {
            "text/plain": [
              "Downloading:   0%|          | 0.00/571 [00:00<?, ?B/s]"
            ],
            "application/vnd.jupyter.widget-view+json": {
              "version_major": 2,
              "version_minor": 0,
              "model_id": "f2f84bcbaafd49d3a4f099f40c954939"
            }
          },
          "metadata": {}
        },
        {
          "output_type": "display_data",
          "data": {
            "text/plain": [
              "Downloading:   0%|          | 0.00/473M [00:00<?, ?B/s]"
            ],
            "application/vnd.jupyter.widget-view+json": {
              "version_major": 2,
              "version_minor": 0,
              "model_id": "c94916a0e44e41968d8a57aa833543eb"
            }
          },
          "metadata": {}
        },
        {
          "output_type": "display_data",
          "data": {
            "text/plain": [
              "Downloading:   0%|          | 0.00/79.0 [00:00<?, ?B/s]"
            ],
            "application/vnd.jupyter.widget-view+json": {
              "version_major": 2,
              "version_minor": 0,
              "model_id": "92d33c9bd9744a6faff0b5d885374cdd"
            }
          },
          "metadata": {}
        },
        {
          "output_type": "display_data",
          "data": {
            "text/plain": [
              "Downloading:   0%|          | 0.00/878k [00:00<?, ?B/s]"
            ],
            "application/vnd.jupyter.widget-view+json": {
              "version_major": 2,
              "version_minor": 0,
              "model_id": "b6651d5f31b64e6ea1f8260375ad22d0"
            }
          },
          "metadata": {}
        },
        {
          "output_type": "display_data",
          "data": {
            "text/plain": [
              "Downloading:   0%|          | 0.00/446k [00:00<?, ?B/s]"
            ],
            "application/vnd.jupyter.widget-view+json": {
              "version_major": 2,
              "version_minor": 0,
              "model_id": "93c8ea8ef7384ff4b90fec05e075ee06"
            }
          },
          "metadata": {}
        },
        {
          "output_type": "display_data",
          "data": {
            "text/plain": [
              "Downloading:   0%|          | 0.00/772 [00:00<?, ?B/s]"
            ],
            "application/vnd.jupyter.widget-view+json": {
              "version_major": 2,
              "version_minor": 0,
              "model_id": "5fb4b8a55c0a4e17b66d76a777215a7e"
            }
          },
          "metadata": {}
        }
      ],
      "source": [
        "from transformers import AutoModelForQuestionAnswering, AutoTokenizer, pipeline\n",
        "\n",
        "model_name = \"deepset/roberta-base-squad2\"\n",
        "nlp = pipeline('question-answering', model=model_name, tokenizer=model_name)"
      ]
    },
    {
      "cell_type": "code",
      "source": [
        "def get_answer_list(question, context, model, mask = \"*\", topk = 10):\n",
        "  # print(question)\n",
        "  ans_list = []\n",
        "  answer = \"*\"\n",
        "  for i in range(topk):\n",
        "    # print(answer)\n",
        "    if answer != \"*\": \n",
        "      context = context.replace(answer, mask)\n",
        "    QA_input = {\n",
        "      'question': question, \n",
        "      'context': context\n",
        "    }\n",
        "    res = model(QA_input)\n",
        "    answer = res['answer']\n",
        "    score = round(res['score'], 3)\n",
        "    ans_list.append((answer, score))\n",
        "  return ans_list\n"
      ],
      "metadata": {
        "id": "YMUDfD5jyD9E"
      },
      "execution_count": null,
      "outputs": []
    },
    {
      "cell_type": "code",
      "source": [
        "def get_location_connections(story, locations, model):\n",
        "  loc_to_connections = {}\n",
        "  for loc in locations:\n",
        "    # print(question)\n",
        "    question = \"Where can I visit from {}?\".format(loc)\n",
        "    # print(loc)\n",
        "    connections = set()\n",
        "    ans_list = get_answer_list(question, story, model, topk = 5)\n",
        "    print(ans_list)\n",
        "    for ans, score in ans_list:\n",
        "      if \"*\" not in ans:\n",
        "        if ans == \"Hogwarts\":\n",
        "          ans = \"Hogwarts School of Witchcraft and Wizardry\"   \n",
        "        # elif ans == \"Gringotts Bank\":\n",
        "        #   ans = \"Gringotts Wizarding Bank\"    \n",
        "        for l in locations:\n",
        "          if (ans in l or l in ans) and l != loc:\n",
        "            connections.add(l)\n",
        "\n",
        "    loc_to_connections[loc] = connections\n",
        "    print(loc)\n",
        "    print(connections)\n",
        "  return loc_to_connections\n"
      ],
      "metadata": {
        "id": "QFJ76W9S4AxC"
      },
      "execution_count": null,
      "outputs": []
    },
    {
      "cell_type": "code",
      "source": [
        "map = get_location_connections(hp_story, locations, nlp)"
      ],
      "metadata": {
        "colab": {
          "base_uri": "https://localhost:8080/"
        },
        "id": "sp89j5_c-bS5",
        "outputId": "b76b2de9-262f-437e-ddaa-307db89f4205"
      },
      "execution_count": null,
      "outputs": [
        {
          "output_type": "stream",
          "name": "stderr",
          "text": [
            "/usr/local/lib/python3.7/dist-packages/transformers/tokenization_utils_base.py:703: VisibleDeprecationWarning: Creating an ndarray from ragged nested sequences (which is a list-or-tuple of lists-or-tuples-or ndarrays with different lengths or shapes) is deprecated. If you meant to do this, you must specify 'dtype=object' when creating the ndarray.\n",
            "  tensor = as_tensor(value)\n",
            "/usr/local/lib/python3.7/dist-packages/transformers/pipelines/question_answering.py:300: VisibleDeprecationWarning: Creating an ndarray from ragged nested sequences (which is a list-or-tuple of lists-or-tuples-or ndarrays with different lengths or shapes) is deprecated. If you meant to do this, you must specify 'dtype=object' when creating the ndarray.\n",
            "  for span_id in range(num_spans)\n"
          ]
        },
        {
          "output_type": "stream",
          "name": "stdout",
          "text": [
            "[('London', 0.719), ('Hogwarts', 0.542), ('*,', 0.467), ('the hidden wizard commerce and retail section in *.', 0.131), ('Gringotts Wizarding Bank', 0.146)]\n",
            "Diagon Alley\n",
            "{'Hogwarts School of Witchcraft and Wizardry', 'Gringotts Wizarding Bank'}\n",
            "[('Diagon Alley', 0.712), ('Hogwarts', 0.213), ('*,', 0.196), ('hidden wizard commerce and retail section in London', 0.101), ('* the *.', 0.058)]\n",
            "Gringotts Wizarding Bank\n",
            "{'Diagon Alley', 'Hogwarts School of Witchcraft and Wizardry'}\n",
            "[('Hogwarts', 0.622), ('*,', 0.662), (\"King's Cross railway station's secret Platform 9¾\", 0.532), ('*.', 0.329), ('the school', 0.189)]\n",
            "the Hogwarts Express\n",
            "{'Hogwarts School of Witchcraft and Wizardry', 'Platform 9¾', \"King's Cross railway station\"}\n",
            "[('the school', 0.417), ('his parents', 0.178), ('Professor Quirrell', 0.152), ('Diagon Alley', 0.133), ('*,', 0.182)]\n",
            "the Mirror of Erised\n",
            "{'Diagon Alley'}\n",
            "[('Hogwarts', 0.519), ('*,', 0.464), ('Diagon Alley', 0.273), ('the school', 0.161), ('Dursleys', 0.224)]\n",
            "Privet Drive\n",
            "{'Hogwarts School of Witchcraft and Wizardry', 'Diagon Alley', 'the Dursleys'}\n",
            "[('Diagon Alley', 0.423), ('Hogwarts', 0.098), ('Gringotts Bank', 0.083), ('*, the hidden wizard commerce and retail section in London', 0.073), ('*,', 0.167)]\n",
            "Hogwarts School of Witchcraft and Wizardry\n",
            "{'Diagon Alley'}\n",
            "[(\"King's Cross railway station\", 0.812), ('Hogwarts', 0.502), ('*,', 0.359), ('the school', 0.104), ('*', 0.183)]\n",
            "Platform 9¾\n",
            "{'Hogwarts School of Witchcraft and Wizardry', \"King's Cross railway station\"}\n",
            "[('Hogwarts', 0.415), ('*,', 0.338), ('Platform 9¾', 0.338), ('the school', 0.086), ('*', 0.206)]\n",
            "King's Cross railway station\n",
            "{'Hogwarts School of Witchcraft and Wizardry', 'Platform 9¾'}\n",
            "[('Hogwarts', 0.536), ('*,', 0.458), ('Privet Drive', 0.416), ('Diagon Alley', 0.275), ('Gringotts Bank', 0.159)]\n",
            "the Dursleys\n",
            "{'Hogwarts School of Witchcraft and Wizardry', 'Diagon Alley', 'Privet Drive'}\n"
          ]
        }
      ]
    },
    {
      "cell_type": "code",
      "source": [
        "print(map)"
      ],
      "metadata": {
        "id": "JdIvtco6MlyE"
      },
      "execution_count": null,
      "outputs": []
    },
    {
      "cell_type": "code",
      "source": [
        "def copy_map(map):\n",
        "  map_copy = {}\n",
        "  for key, item in map.items():\n",
        "    map_copy[key] = item.copy()\n",
        "  return map_copy"
      ],
      "metadata": {
        "id": "_W9Ao_lXM3TB"
      },
      "execution_count": null,
      "outputs": []
    },
    {
      "cell_type": "code",
      "source": [
        "map_copy = copy_map(map)\n",
        "map_copy"
      ],
      "metadata": {
        "colab": {
          "base_uri": "https://localhost:8080/"
        },
        "id": "aBDKJtDyXATi",
        "outputId": "1088f5b1-174f-434a-ebb5-f1a300730dd1"
      },
      "execution_count": null,
      "outputs": [
        {
          "output_type": "execute_result",
          "data": {
            "text/plain": [
              "{'Diagon Alley': {'Gringotts Wizarding Bank',\n",
              "  'Hogwarts School of Witchcraft and Wizardry'},\n",
              " 'Gringotts Wizarding Bank': {'Diagon Alley',\n",
              "  'Hogwarts School of Witchcraft and Wizardry'},\n",
              " 'Hogwarts School of Witchcraft and Wizardry': {'Diagon Alley',\n",
              "  'Gringotts Wizarding Bank'},\n",
              " \"King's Cross\": {'Diagon Alley',\n",
              "  'Hogwarts School of Witchcraft and Wizardry',\n",
              "  'Platform 9¾'},\n",
              " 'Platform 9¾': {'Hogwarts School of Witchcraft and Wizardry', \"King's Cross\"},\n",
              " 'Privet Drive': {'Diagon Alley',\n",
              "  'Hogwarts School of Witchcraft and Wizardry',\n",
              "  'the Dursleys'},\n",
              " 'Sorting Hat': {'Gringotts Wizarding Bank',\n",
              "  'Hogwarts School of Witchcraft and Wizardry'},\n",
              " 'the Dursleys': {'Diagon Alley',\n",
              "  'Gringotts Wizarding Bank',\n",
              "  'Hogwarts School of Witchcraft and Wizardry',\n",
              "  'Privet Drive'},\n",
              " 'the Hogwarts Express': {'Hogwarts School of Witchcraft and Wizardry',\n",
              "  \"King's Cross\",\n",
              "  'Platform 9¾'},\n",
              " 'the Mirror of Erised': {'Diagon Alley'}}"
            ]
          },
          "metadata": {},
          "execution_count": 163
        }
      ]
    },
    {
      "cell_type": "code",
      "source": [
        "def enhance_map(story_map):\n",
        "  new_story_map = copy_map(story_map)\n",
        "  for loc, connections in story_map.items():\n",
        "    for conn in connections:\n",
        "     new_story_map[conn].add(loc)\n",
        "  return new_story_map"
      ],
      "metadata": {
        "id": "zksRo6EaSvKq"
      },
      "execution_count": null,
      "outputs": []
    },
    {
      "cell_type": "code",
      "source": [
        "enhanced_map = enhance_map(map)\n",
        "print(enhanced_map)"
      ],
      "metadata": {
        "colab": {
          "base_uri": "https://localhost:8080/"
        },
        "id": "-5eSnQJNTKo7",
        "outputId": "2e656dc3-7532-4c01-d7e2-79da836a3c69"
      },
      "execution_count": null,
      "outputs": [
        {
          "output_type": "stream",
          "name": "stdout",
          "text": [
            "{'Diagon Alley': {'Gringotts Wizarding Bank', 'the Mirror of Erised', 'Privet Drive', 'Hogwarts School of Witchcraft and Wizardry', \"King's Cross\", 'the Dursleys'}, 'Sorting Hat': {'Hogwarts School of Witchcraft and Wizardry', 'Gringotts Wizarding Bank'}, 'Gringotts Wizarding Bank': {'Diagon Alley', 'Sorting Hat', 'the Dursleys', 'Hogwarts School of Witchcraft and Wizardry'}, 'the Hogwarts Express': {'Hogwarts School of Witchcraft and Wizardry', 'Platform 9¾', \"King's Cross\"}, 'the Mirror of Erised': {'Diagon Alley'}, 'Privet Drive': {'Hogwarts School of Witchcraft and Wizardry', 'Diagon Alley', 'the Dursleys'}, 'Hogwarts School of Witchcraft and Wizardry': {'Diagon Alley', 'Sorting Hat', 'Gringotts Wizarding Bank', 'the Hogwarts Express', 'Privet Drive', 'Platform 9¾', \"King's Cross\", 'the Dursleys'}, 'Platform 9¾': {'Hogwarts School of Witchcraft and Wizardry', 'the Hogwarts Express', \"King's Cross\"}, \"King's Cross\": {'Hogwarts School of Witchcraft and Wizardry', 'the Hogwarts Express', 'Platform 9¾', 'Diagon Alley'}, 'the Dursleys': {'Hogwarts School of Witchcraft and Wizardry', 'Diagon Alley', 'Gringotts Wizarding Bank', 'Privet Drive'}}\n"
          ]
        }
      ]
    },
    {
      "cell_type": "code",
      "source": [
        "print(map)"
      ],
      "metadata": {
        "colab": {
          "base_uri": "https://localhost:8080/"
        },
        "id": "FZDmX4aaUB1V",
        "outputId": "352d4878-208b-4a34-8d08-404bacd771aa"
      },
      "execution_count": null,
      "outputs": [
        {
          "output_type": "stream",
          "name": "stdout",
          "text": [
            "{'Diagon Alley': {'Hogwarts School of Witchcraft and Wizardry', 'Gringotts Wizarding Bank'}, 'Sorting Hat': {'Hogwarts School of Witchcraft and Wizardry', 'Gringotts Wizarding Bank'}, 'Gringotts Wizarding Bank': {'Diagon Alley', 'Hogwarts School of Witchcraft and Wizardry'}, 'the Hogwarts Express': {'Hogwarts School of Witchcraft and Wizardry', 'Platform 9¾', \"King's Cross\"}, 'the Mirror of Erised': {'Diagon Alley'}, 'Privet Drive': {'Hogwarts School of Witchcraft and Wizardry', 'Diagon Alley', 'the Dursleys'}, 'Hogwarts School of Witchcraft and Wizardry': {'Diagon Alley', 'Gringotts Wizarding Bank'}, 'Platform 9¾': {'Hogwarts School of Witchcraft and Wizardry', \"King's Cross\"}, \"King's Cross\": {'Hogwarts School of Witchcraft and Wizardry', 'Platform 9¾', 'Diagon Alley'}, 'the Dursleys': {'Hogwarts School of Witchcraft and Wizardry', 'Diagon Alley', 'Gringotts Wizarding Bank', 'Privet Drive'}}\n"
          ]
        }
      ]
    },
    {
      "cell_type": "code",
      "source": [
        "def BFS_SP(graph, start, goal):\n",
        "    explored = []\n",
        "    queue = [[start]]\n",
        "    while queue:\n",
        "        path = queue.pop(0)\n",
        "        node = path[-1]      \n",
        "        if node not in explored:\n",
        "            neighbors = graph[node]\n",
        "            for neighbor in neighbors:\n",
        "                new_path = list(path)\n",
        "                new_path.append(neighbor)\n",
        "                queue.append(new_path)\n",
        "                if neighbor == goal:\n",
        "                    return len(new_path) - 1\n",
        "            explored.append(node)\n",
        "    return -1\n",
        "\n",
        "def reduce_path(story_map):\n",
        "  # if edge A -> B exists and there exis another path from A to B, remove edge A -> B\n",
        "  clean_map = copy_map(story_map)\n",
        "  for loc in dict(sorted(clean_map.items(), key=lambda item: len(item[1]), reverse=True)):\n",
        "    new_connections = set()\n",
        "    # print(\"Loc: \" , loc)\n",
        "    for conn in clean_map[loc].copy():\n",
        "      # print(\"Conn: \", conn)\n",
        "      temp_map = copy_map(clean_map)\n",
        "      temp_map[loc].remove(conn)\n",
        "      distance = BFS_SP(temp_map, loc, conn)\n",
        "      # print(distance)\n",
        "      if distance > 1:\n",
        "        # new_connections.add(conn)\n",
        "        clean_map = copy_map(temp_map)\n",
        "\n",
        "    # clean_map[loc] = new_connections\n",
        "\n",
        "  return clean_map"
      ],
      "metadata": {
        "id": "9icoO04lHtHX"
      },
      "execution_count": null,
      "outputs": []
    },
    {
      "cell_type": "code",
      "source": [
        "def generate_map(story_map):\n",
        "    dot = graphviz.Digraph('entity-relations', comment='Entity Relations')\n",
        "    for loc in story_map:\n",
        "      for connection in story_map[loc]:\n",
        "        dot.body.append('\"{}\" -> \"{}\";'.format(loc, connection))\n",
        "    return dot"
      ],
      "metadata": {
        "id": "vynuA3zOANGw"
      },
      "execution_count": null,
      "outputs": []
    },
    {
      "cell_type": "code",
      "source": [
        "graph = generate_map(map)\n",
        "graph"
      ],
      "metadata": {
        "colab": {
          "base_uri": "https://localhost:8080/",
          "height": 463
        },
        "id": "g6uSDOURAP9N",
        "outputId": "5eb38802-fef2-46d0-f0fa-c6bc2ab85a8e"
      },
      "execution_count": null,
      "outputs": [
        {
          "output_type": "execute_result",
          "data": {
            "text/plain": [
              "<graphviz.dot.Digraph at 0x7f5701a72710>"
            ],
            "image/svg+xml": "<?xml version=\"1.0\" encoding=\"UTF-8\" standalone=\"no\"?>\n<!DOCTYPE svg PUBLIC \"-//W3C//DTD SVG 1.1//EN\"\n \"http://www.w3.org/Graphics/SVG/1.1/DTD/svg11.dtd\">\n<!-- Generated by graphviz version 2.40.1 (20161225.0304)\n -->\n<!-- Title: entity&#45;relations Pages: 1 -->\n<svg width=\"644pt\" height=\"332pt\"\n viewBox=\"0.00 0.00 643.67 332.00\" xmlns=\"http://www.w3.org/2000/svg\" xmlns:xlink=\"http://www.w3.org/1999/xlink\">\n<g id=\"graph0\" class=\"graph\" transform=\"scale(1 1) rotate(0) translate(4 328)\">\n<title>entity&#45;relations</title>\n<polygon fill=\"#ffffff\" stroke=\"transparent\" points=\"-4,4 -4,-328 639.6676,-328 639.6676,4 -4,4\"/>\n<!-- Diagon Alley -->\n<g id=\"node1\" class=\"node\">\n<title>Diagon Alley</title>\n<ellipse fill=\"none\" stroke=\"#000000\" cx=\"489.2918\" cy=\"-162\" rx=\"61.1893\" ry=\"18\"/>\n<text text-anchor=\"middle\" x=\"489.2918\" y=\"-158.3\" font-family=\"Times,serif\" font-size=\"14.00\" fill=\"#000000\">Diagon Alley</text>\n</g>\n<!-- Hogwarts School of Witchcraft and Wizardry -->\n<g id=\"node2\" class=\"node\">\n<title>Hogwarts School of Witchcraft and Wizardry</title>\n<ellipse fill=\"none\" stroke=\"#000000\" cx=\"387.2918\" cy=\"-18\" rx=\"178.9686\" ry=\"18\"/>\n<text text-anchor=\"middle\" x=\"387.2918\" y=\"-14.3\" font-family=\"Times,serif\" font-size=\"14.00\" fill=\"#000000\">Hogwarts School of Witchcraft and Wizardry</text>\n</g>\n<!-- Diagon Alley&#45;&gt;Hogwarts School of Witchcraft and Wizardry -->\n<g id=\"edge1\" class=\"edge\">\n<title>Diagon Alley&#45;&gt;Hogwarts School of Witchcraft and Wizardry</title>\n<path fill=\"none\" stroke=\"#000000\" d=\"M521.6726,-146.7113C537.7888,-138.0866 555.6943,-125.4677 565.2918,-108 572.9965,-93.9772 574.9089,-84.7872 565.2918,-72 554.1514,-57.1874 518.2222,-45.1541 481.502,-36.238\"/>\n<polygon fill=\"#000000\" stroke=\"#000000\" points=\"482.1918,-32.8048 471.6561,-33.9226 480.5893,-39.6189 482.1918,-32.8048\"/>\n</g>\n<!-- Gringotts Wizarding Bank -->\n<g id=\"node3\" class=\"node\">\n<title>Gringotts Wizarding Bank</title>\n<ellipse fill=\"none\" stroke=\"#000000\" cx=\"456.2918\" cy=\"-90\" rx=\"109.381\" ry=\"18\"/>\n<text text-anchor=\"middle\" x=\"456.2918\" y=\"-86.3\" font-family=\"Times,serif\" font-size=\"14.00\" fill=\"#000000\">Gringotts Wizarding Bank</text>\n</g>\n<!-- Diagon Alley&#45;&gt;Gringotts Wizarding Bank -->\n<g id=\"edge2\" class=\"edge\">\n<title>Diagon Alley&#45;&gt;Gringotts Wizarding Bank</title>\n<path fill=\"none\" stroke=\"#000000\" d=\"M475.2188,-144.2022C470.7087,-136.1287 466.0283,-126.3976 462.2835,-117.422\"/>\n<polygon fill=\"#000000\" stroke=\"#000000\" points=\"465.5381,-116.1342 458.6395,-108.0931 459.0179,-118.6812 465.5381,-116.1342\"/>\n</g>\n<!-- Hogwarts School of Witchcraft and Wizardry&#45;&gt;Diagon Alley -->\n<g id=\"edge12\" class=\"edge\">\n<title>Hogwarts School of Witchcraft and Wizardry&#45;&gt;Diagon Alley</title>\n<path fill=\"none\" stroke=\"#000000\" d=\"M484.1546,-33.1324C527.1435,-42.2764 570.8004,-55.3911 583.2918,-72 592.9089,-84.7872 590.9965,-93.9772 583.2918,-108 574.4126,-124.1605 558.4222,-136.1708 542.0579,-144.7075\"/>\n<polygon fill=\"#000000\" stroke=\"#000000\" points=\"540.453,-141.5958 532.971,-149.0971 543.4978,-147.8989 540.453,-141.5958\"/>\n</g>\n<!-- Gringotts Wizarding Bank&#45;&gt;Diagon Alley -->\n<g id=\"edge3\" class=\"edge\">\n<title>Gringotts Wizarding Bank&#45;&gt;Diagon Alley</title>\n<path fill=\"none\" stroke=\"#000000\" d=\"M470.4294,-107.9134C474.8672,-115.8704 479.4648,-125.42 483.1696,-134.2657\"/>\n<polygon fill=\"#000000\" stroke=\"#000000\" points=\"480.0104,-135.797 486.9169,-143.8314 486.5281,-133.2437 480.0104,-135.797\"/>\n</g>\n<!-- Gringotts Wizarding Bank&#45;&gt;Hogwarts School of Witchcraft and Wizardry -->\n<g id=\"edge4\" class=\"edge\">\n<title>Gringotts Wizarding Bank&#45;&gt;Hogwarts School of Witchcraft and Wizardry</title>\n<path fill=\"none\" stroke=\"#000000\" d=\"M439.2356,-72.2022C430.9223,-63.5275 420.7752,-52.9391 411.6626,-43.4304\"/>\n<polygon fill=\"#000000\" stroke=\"#000000\" points=\"414.0771,-40.8913 404.6311,-36.0931 409.0232,-45.7347 414.0771,-40.8913\"/>\n</g>\n<!-- the Hogwarts Express -->\n<g id=\"node4\" class=\"node\">\n<title>the Hogwarts Express</title>\n<ellipse fill=\"none\" stroke=\"#000000\" cx=\"92.2918\" cy=\"-234\" rx=\"92.0841\" ry=\"18\"/>\n<text text-anchor=\"middle\" x=\"92.2918\" y=\"-230.3\" font-family=\"Times,serif\" font-size=\"14.00\" fill=\"#000000\">the Hogwarts Express</text>\n</g>\n<!-- the Hogwarts Express&#45;&gt;Hogwarts School of Witchcraft and Wizardry -->\n<g id=\"edge5\" class=\"edge\">\n<title>the Hogwarts Express&#45;&gt;Hogwarts School of Witchcraft and Wizardry</title>\n<path fill=\"none\" stroke=\"#000000\" d=\"M60.917,-216.9029C47.6418,-207.8452 33.5827,-195.3855 26.2918,-180 5.4532,-136.0255 8.3887,-104.8477 44.2918,-72 70.4691,-48.0504 145.0942,-34.7084 218.078,-27.2825\"/>\n<polygon fill=\"#000000\" stroke=\"#000000\" points=\"218.7499,-30.7335 228.3602,-26.2735 218.0661,-23.767 218.7499,-30.7335\"/>\n</g>\n<!-- Platform 9¾ -->\n<g id=\"node5\" class=\"node\">\n<title>Platform 9¾</title>\n<ellipse fill=\"none\" stroke=\"#000000\" cx=\"92.2918\" cy=\"-162\" rx=\"57.3905\" ry=\"18\"/>\n<text text-anchor=\"middle\" x=\"92.2918\" y=\"-158.3\" font-family=\"Times,serif\" font-size=\"14.00\" fill=\"#000000\">Platform 9¾</text>\n</g>\n<!-- the Hogwarts Express&#45;&gt;Platform 9¾ -->\n<g id=\"edge6\" class=\"edge\">\n<title>the Hogwarts Express&#45;&gt;Platform 9¾</title>\n<path fill=\"none\" stroke=\"#000000\" d=\"M92.2918,-215.8314C92.2918,-208.131 92.2918,-198.9743 92.2918,-190.4166\"/>\n<polygon fill=\"#000000\" stroke=\"#000000\" points=\"95.7919,-190.4132 92.2918,-180.4133 88.7919,-190.4133 95.7919,-190.4132\"/>\n</g>\n<!-- King&#39;s Cross railway station -->\n<g id=\"node6\" class=\"node\">\n<title>King&#39;s Cross railway station</title>\n<ellipse fill=\"none\" stroke=\"#000000\" cx=\"177.2918\" cy=\"-90\" rx=\"114.2798\" ry=\"18\"/>\n<text text-anchor=\"middle\" x=\"177.2918\" y=\"-86.3\" font-family=\"Times,serif\" font-size=\"14.00\" fill=\"#000000\">King&#39;s Cross railway station</text>\n</g>\n<!-- the Hogwarts Express&#45;&gt;King&#39;s Cross railway station -->\n<g id=\"edge7\" class=\"edge\">\n<title>the Hogwarts Express&#45;&gt;King&#39;s Cross railway station</title>\n<path fill=\"none\" stroke=\"#000000\" d=\"M121.2356,-216.8532C134.4799,-207.5637 149.2119,-194.9247 158.2918,-180 169.6542,-161.3236 174.2978,-136.8858 176.1591,-118.1888\"/>\n<polygon fill=\"#000000\" stroke=\"#000000\" points=\"179.6498,-118.443 176.9477,-108.1985 172.6715,-117.8921 179.6498,-118.443\"/>\n</g>\n<!-- Platform 9¾&#45;&gt;Hogwarts School of Witchcraft and Wizardry -->\n<g id=\"edge13\" class=\"edge\">\n<title>Platform 9¾&#45;&gt;Hogwarts School of Witchcraft and Wizardry</title>\n<path fill=\"none\" stroke=\"#000000\" d=\"M75.0511,-144.7518C57.7,-125.2989 35.9363,-93.5718 54.2918,-72 67.4579,-56.5269 164.1807,-41.9629 250.0141,-31.8683\"/>\n<polygon fill=\"#000000\" stroke=\"#000000\" points=\"250.6232,-35.3212 260.1525,-30.6905 249.8154,-28.3679 250.6232,-35.3212\"/>\n</g>\n<!-- Platform 9¾&#45;&gt;King&#39;s Cross railway station -->\n<g id=\"edge14\" class=\"edge\">\n<title>Platform 9¾&#45;&gt;King&#39;s Cross railway station</title>\n<path fill=\"none\" stroke=\"#000000\" d=\"M106.9897,-144.5708C116.9209,-135.353 130.2709,-123.8983 142.7186,-113.8669\"/>\n<polygon fill=\"#000000\" stroke=\"#000000\" points=\"145.0632,-116.4746 150.7232,-107.5182 140.7133,-110.9901 145.0632,-116.4746\"/>\n</g>\n<!-- King&#39;s Cross railway station&#45;&gt;Hogwarts School of Witchcraft and Wizardry -->\n<g id=\"edge15\" class=\"edge\">\n<title>King&#39;s Cross railway station&#45;&gt;Hogwarts School of Witchcraft and Wizardry</title>\n<path fill=\"none\" stroke=\"#000000\" d=\"M225.2068,-73.572C255.3756,-63.2284 294.5777,-49.7877 326.8712,-38.7157\"/>\n<polygon fill=\"#000000\" stroke=\"#000000\" points=\"328.3295,-41.9157 336.6538,-35.3616 326.0592,-35.2941 328.3295,-41.9157\"/>\n</g>\n<!-- King&#39;s Cross railway station&#45;&gt;Platform 9¾ -->\n<g id=\"edge16\" class=\"edge\">\n<title>King&#39;s Cross railway station&#45;&gt;Platform 9¾</title>\n<path fill=\"none\" stroke=\"#000000\" d=\"M161.9318,-108.0423C151.6782,-117.5176 137.9854,-129.2241 125.402,-139.3089\"/>\n<polygon fill=\"#000000\" stroke=\"#000000\" points=\"123.0282,-136.7234 117.3404,-145.6621 127.361,-142.2213 123.0282,-136.7234\"/>\n</g>\n<!-- the Mirror of Erised -->\n<g id=\"node7\" class=\"node\">\n<title>the Mirror of Erised</title>\n<ellipse fill=\"none\" stroke=\"#000000\" cx=\"489.2918\" cy=\"-234\" rx=\"85.2851\" ry=\"18\"/>\n<text text-anchor=\"middle\" x=\"489.2918\" y=\"-230.3\" font-family=\"Times,serif\" font-size=\"14.00\" fill=\"#000000\">the Mirror of Erised</text>\n</g>\n<!-- the Mirror of Erised&#45;&gt;Diagon Alley -->\n<g id=\"edge8\" class=\"edge\">\n<title>the Mirror of Erised&#45;&gt;Diagon Alley</title>\n<path fill=\"none\" stroke=\"#000000\" d=\"M489.2918,-215.8314C489.2918,-208.131 489.2918,-198.9743 489.2918,-190.4166\"/>\n<polygon fill=\"#000000\" stroke=\"#000000\" points=\"492.7919,-190.4132 489.2918,-180.4133 485.7919,-190.4133 492.7919,-190.4132\"/>\n</g>\n<!-- Privet Drive -->\n<g id=\"node8\" class=\"node\">\n<title>Privet Drive</title>\n<ellipse fill=\"none\" stroke=\"#000000\" cx=\"465.2918\" cy=\"-306\" rx=\"55.7903\" ry=\"18\"/>\n<text text-anchor=\"middle\" x=\"465.2918\" y=\"-302.3\" font-family=\"Times,serif\" font-size=\"14.00\" fill=\"#000000\">Privet Drive</text>\n</g>\n<!-- Privet Drive&#45;&gt;Diagon Alley -->\n<g id=\"edge10\" class=\"edge\">\n<title>Privet Drive&#45;&gt;Diagon Alley</title>\n<path fill=\"none\" stroke=\"#000000\" d=\"M513.8088,-296.8464C539.129,-289.3413 567.954,-275.8866 583.2918,-252 591.9368,-238.5366 591.3068,-229.8477 583.2918,-216 573.8256,-199.6449 557.3248,-187.8123 540.7638,-179.4706\"/>\n<polygon fill=\"#000000\" stroke=\"#000000\" points=\"542.1428,-176.2517 531.6014,-175.1888 539.1792,-182.5934 542.1428,-176.2517\"/>\n</g>\n<!-- Privet Drive&#45;&gt;Hogwarts School of Witchcraft and Wizardry -->\n<g id=\"edge9\" class=\"edge\">\n<title>Privet Drive&#45;&gt;Hogwarts School of Witchcraft and Wizardry</title>\n<path fill=\"none\" stroke=\"#000000\" d=\"M517.4991,-299.4582C547.103,-292.778 581.8235,-279.2782 600.2918,-252 645.1421,-185.7546 649.4203,-135.1379 600.2918,-72 587.3869,-55.4152 546.1421,-43.1041 503.3393,-34.4599\"/>\n<polygon fill=\"#000000\" stroke=\"#000000\" points=\"503.8063,-30.9851 493.3212,-32.5063 502.4664,-37.8557 503.8063,-30.9851\"/>\n</g>\n<!-- the Dursleys -->\n<g id=\"node9\" class=\"node\">\n<title>the Dursleys</title>\n<ellipse fill=\"none\" stroke=\"#000000\" cx=\"329.2918\" cy=\"-234\" rx=\"57.3905\" ry=\"18\"/>\n<text text-anchor=\"middle\" x=\"329.2918\" y=\"-230.3\" font-family=\"Times,serif\" font-size=\"14.00\" fill=\"#000000\">the Dursleys</text>\n</g>\n<!-- Privet Drive&#45;&gt;the Dursleys -->\n<g id=\"edge11\" class=\"edge\">\n<title>Privet Drive&#45;&gt;the Dursleys</title>\n<path fill=\"none\" stroke=\"#000000\" d=\"M432.2215,-291.4297C411.2825,-281.0494 384.3913,-266.9318 363.2873,-255.2917\"/>\n<polygon fill=\"#000000\" stroke=\"#000000\" points=\"364.776,-252.1146 354.3365,-250.307 361.3702,-258.2302 364.776,-252.1146\"/>\n</g>\n<!-- the Dursleys&#45;&gt;Diagon Alley -->\n<g id=\"edge18\" class=\"edge\">\n<title>the Dursleys&#45;&gt;Diagon Alley</title>\n<path fill=\"none\" stroke=\"#000000\" d=\"M362.4439,-219.0816C386.7374,-208.1495 419.93,-193.2128 446.2677,-181.3609\"/>\n<polygon fill=\"#000000\" stroke=\"#000000\" points=\"447.9488,-184.4425 455.6317,-177.147 445.0762,-178.059 447.9488,-184.4425\"/>\n</g>\n<!-- the Dursleys&#45;&gt;Hogwarts School of Witchcraft and Wizardry -->\n<g id=\"edge17\" class=\"edge\">\n<title>the Dursleys&#45;&gt;Hogwarts School of Witchcraft and Wizardry</title>\n<path fill=\"none\" stroke=\"#000000\" d=\"M326.5021,-215.8763C322.5562,-184.9787 317.9096,-120.7244 338.2918,-72 342.7429,-61.3596 350.2321,-51.4532 358.0332,-43.1061\"/>\n<polygon fill=\"#000000\" stroke=\"#000000\" points=\"360.6307,-45.458 365.207,-35.9024 355.6706,-40.5185 360.6307,-45.458\"/>\n</g>\n<!-- the Dursleys&#45;&gt;Privet Drive -->\n<g id=\"edge19\" class=\"edge\">\n<title>the Dursleys&#45;&gt;Privet Drive</title>\n<path fill=\"none\" stroke=\"#000000\" d=\"M362.9814,-248.8775C383.9406,-259.2832 410.6835,-273.3317 431.6303,-284.8927\"/>\n<polygon fill=\"#000000\" stroke=\"#000000\" points=\"430.0723,-288.0311 440.5113,-289.8418 433.4799,-281.9165 430.0723,-288.0311\"/>\n</g>\n</g>\n</svg>\n"
          },
          "metadata": {},
          "execution_count": 240
        }
      ]
    },
    {
      "cell_type": "code",
      "source": [
        "graph = generate_map(enhanced_map)\n",
        "graph"
      ],
      "metadata": {
        "colab": {
          "base_uri": "https://localhost:8080/",
          "height": 675
        },
        "id": "o-_3Vzw9TW-n",
        "outputId": "50a2eaa3-1660-4878-d35f-c7f1aca11c47"
      },
      "execution_count": null,
      "outputs": [
        {
          "output_type": "execute_result",
          "data": {
            "text/plain": [
              "<graphviz.dot.Digraph at 0x7f5701a63750>"
            ],
            "image/svg+xml": "<?xml version=\"1.0\" encoding=\"UTF-8\" standalone=\"no\"?>\n<!DOCTYPE svg PUBLIC \"-//W3C//DTD SVG 1.1//EN\"\n \"http://www.w3.org/Graphics/SVG/1.1/DTD/svg11.dtd\">\n<!-- Generated by graphviz version 2.40.1 (20161225.0304)\n -->\n<!-- Title: entity&#45;relations Pages: 1 -->\n<svg width=\"836pt\" height=\"476pt\"\n viewBox=\"0.00 0.00 836.14 476.00\" xmlns=\"http://www.w3.org/2000/svg\" xmlns:xlink=\"http://www.w3.org/1999/xlink\">\n<g id=\"graph0\" class=\"graph\" transform=\"scale(1 1) rotate(0) translate(4 472)\">\n<title>entity&#45;relations</title>\n<polygon fill=\"#ffffff\" stroke=\"transparent\" points=\"-4,4 -4,-472 832.1424,-472 832.1424,4 -4,4\"/>\n<!-- Diagon Alley -->\n<g id=\"node1\" class=\"node\">\n<title>Diagon Alley</title>\n<ellipse fill=\"none\" stroke=\"#000000\" cx=\"370\" cy=\"-450\" rx=\"61.1893\" ry=\"18\"/>\n<text text-anchor=\"middle\" x=\"370\" y=\"-446.3\" font-family=\"Times,serif\" font-size=\"14.00\" fill=\"#000000\">Diagon Alley</text>\n</g>\n<!-- Gringotts Wizarding Bank -->\n<g id=\"node2\" class=\"node\">\n<title>Gringotts Wizarding Bank</title>\n<ellipse fill=\"none\" stroke=\"#000000\" cx=\"297\" cy=\"-378\" rx=\"109.381\" ry=\"18\"/>\n<text text-anchor=\"middle\" x=\"297\" y=\"-374.3\" font-family=\"Times,serif\" font-size=\"14.00\" fill=\"#000000\">Gringotts Wizarding Bank</text>\n</g>\n<!-- Diagon Alley&#45;&gt;Gringotts Wizarding Bank -->\n<g id=\"edge1\" class=\"edge\">\n<title>Diagon Alley&#45;&gt;Gringotts Wizarding Bank</title>\n<path fill=\"none\" stroke=\"#000000\" d=\"M346.8601,-432.937C337.011,-424.1431 325.7427,-413.2418 316.341,-403.4739\"/>\n<polygon fill=\"#000000\" stroke=\"#000000\" points=\"318.6634,-400.8344 309.2641,-395.9453 313.563,-405.6288 318.6634,-400.8344\"/>\n</g>\n<!-- the Mirror of Erised -->\n<g id=\"node3\" class=\"node\">\n<title>the Mirror of Erised</title>\n<ellipse fill=\"none\" stroke=\"#000000\" cx=\"743\" cy=\"-378\" rx=\"85.2851\" ry=\"18\"/>\n<text text-anchor=\"middle\" x=\"743\" y=\"-374.3\" font-family=\"Times,serif\" font-size=\"14.00\" fill=\"#000000\">the Mirror of Erised</text>\n</g>\n<!-- Diagon Alley&#45;&gt;the Mirror of Erised -->\n<g id=\"edge2\" class=\"edge\">\n<title>Diagon Alley&#45;&gt;the Mirror of Erised</title>\n<path fill=\"none\" stroke=\"#000000\" d=\"M419.6951,-439.4535C483.2558,-426.751 593.7505,-405.3925 667.665,-391.4985\"/>\n<polygon fill=\"#000000\" stroke=\"#000000\" points=\"668.66,-394.873 677.8432,-389.5892 667.3693,-387.993 668.66,-394.873\"/>\n</g>\n<!-- Privet Drive -->\n<g id=\"node4\" class=\"node\">\n<title>Privet Drive</title>\n<ellipse fill=\"none\" stroke=\"#000000\" cx=\"102\" cy=\"-162\" rx=\"55.7903\" ry=\"18\"/>\n<text text-anchor=\"middle\" x=\"102\" y=\"-158.3\" font-family=\"Times,serif\" font-size=\"14.00\" fill=\"#000000\">Privet Drive</text>\n</g>\n<!-- Diagon Alley&#45;&gt;Privet Drive -->\n<g id=\"edge3\" class=\"edge\">\n<title>Diagon Alley&#45;&gt;Privet Drive</title>\n<path fill=\"none\" stroke=\"#000000\" d=\"M315.4713,-441.7523C263.492,-432.3168 190.4615,-415.6125 170,-396 111.7301,-340.148 97.5267,-239.4706 97.6916,-190.4142\"/>\n<polygon fill=\"#000000\" stroke=\"#000000\" points=\"101.1958,-190.3007 97.9628,-180.2112 94.1982,-190.1147 101.1958,-190.3007\"/>\n</g>\n<!-- Hogwarts School of Witchcraft and Wizardry -->\n<g id=\"node5\" class=\"node\">\n<title>Hogwarts School of Witchcraft and Wizardry</title>\n<ellipse fill=\"none\" stroke=\"#000000\" cx=\"401\" cy=\"-234\" rx=\"178.9686\" ry=\"18\"/>\n<text text-anchor=\"middle\" x=\"401\" y=\"-230.3\" font-family=\"Times,serif\" font-size=\"14.00\" fill=\"#000000\">Hogwarts School of Witchcraft and Wizardry</text>\n</g>\n<!-- Diagon Alley&#45;&gt;Hogwarts School of Witchcraft and Wizardry -->\n<g id=\"edge4\" class=\"edge\">\n<title>Diagon Alley&#45;&gt;Hogwarts School of Witchcraft and Wizardry</title>\n<path fill=\"none\" stroke=\"#000000\" d=\"M380.805,-432.1572C389.0934,-422.3431 399.6128,-409.4486 406,-396 419.9853,-366.553 416.8745,-356.4491 420,-324 421.534,-308.0737 423.7904,-303.5445 420,-288 417.7703,-278.856 413.6994,-269.5338 409.7193,-261.2658\"/>\n<polygon fill=\"#000000\" stroke=\"#000000\" points=\"412.7688,-259.5363 405.2045,-252.118 406.4917,-262.6344 412.7688,-259.5363\"/>\n</g>\n<!-- King&#39;s Cross -->\n<g id=\"node6\" class=\"node\">\n<title>King&#39;s Cross</title>\n<ellipse fill=\"none\" stroke=\"#000000\" cx=\"427\" cy=\"-18\" rx=\"57.6901\" ry=\"18\"/>\n<text text-anchor=\"middle\" x=\"427\" y=\"-14.3\" font-family=\"Times,serif\" font-size=\"14.00\" fill=\"#000000\">King&#39;s Cross</text>\n</g>\n<!-- Diagon Alley&#45;&gt;King&#39;s Cross -->\n<g id=\"edge5\" class=\"edge\">\n<title>Diagon Alley&#45;&gt;King&#39;s Cross</title>\n<path fill=\"none\" stroke=\"#000000\" d=\"M424.8944,-441.9895C496.3772,-428.4236 612,-393.2893 612,-306 612,-306 612,-306 612,-162 612,-120.1089 613.43,-101.8117 584,-72 569.132,-56.9392 521.0789,-42.2391 481.9364,-31.9889\"/>\n<polygon fill=\"#000000\" stroke=\"#000000\" points=\"482.7596,-28.5867 472.2025,-29.4812 481.0132,-35.3654 482.7596,-28.5867\"/>\n</g>\n<!-- the Dursleys -->\n<g id=\"node7\" class=\"node\">\n<title>the Dursleys</title>\n<ellipse fill=\"none\" stroke=\"#000000\" cx=\"149\" cy=\"-90\" rx=\"57.3905\" ry=\"18\"/>\n<text text-anchor=\"middle\" x=\"149\" y=\"-86.3\" font-family=\"Times,serif\" font-size=\"14.00\" fill=\"#000000\">the Dursleys</text>\n</g>\n<!-- Diagon Alley&#45;&gt;the Dursleys -->\n<g id=\"edge6\" class=\"edge\">\n<title>Diagon Alley&#45;&gt;the Dursleys</title>\n<path fill=\"none\" stroke=\"#000000\" d=\"M316.4152,-441.1703C213.7764,-421.9093 0,-372.4636 0,-306 0,-306 0,-306 0,-234 0,-192.1089 .6439,-175.7255 28,-144 44.4666,-124.9033 69.2252,-111.9909 92.1351,-103.5952\"/>\n<polygon fill=\"#000000\" stroke=\"#000000\" points=\"93.4921,-106.8298 101.8109,-100.2687 91.2162,-100.2101 93.4921,-106.8298\"/>\n</g>\n<!-- Gringotts Wizarding Bank&#45;&gt;Diagon Alley -->\n<g id=\"edge9\" class=\"edge\">\n<title>Gringotts Wizarding Bank&#45;&gt;Diagon Alley</title>\n<path fill=\"none\" stroke=\"#000000\" d=\"M320.7324,-395.593C330.5237,-404.3684 341.6379,-415.1401 350.9002,-424.7769\"/>\n<polygon fill=\"#000000\" stroke=\"#000000\" points=\"348.4747,-427.3069 357.8708,-432.2022 353.5783,-422.5159 348.4747,-427.3069\"/>\n</g>\n<!-- Gringotts Wizarding Bank&#45;&gt;Hogwarts School of Witchcraft and Wizardry -->\n<g id=\"edge12\" class=\"edge\">\n<title>Gringotts Wizarding Bank&#45;&gt;Hogwarts School of Witchcraft and Wizardry</title>\n<path fill=\"none\" stroke=\"#000000\" d=\"M286.7906,-359.8779C281.6253,-340.5077 280.209,-309.6649 294,-288 302.8114,-274.1578 316.4774,-263.5712 331.1584,-255.5988\"/>\n<polygon fill=\"#000000\" stroke=\"#000000\" points=\"333.0257,-258.5779 340.3962,-250.9669 329.8882,-252.3204 333.0257,-258.5779\"/>\n</g>\n<!-- Gringotts Wizarding Bank&#45;&gt;the Dursleys -->\n<g id=\"edge11\" class=\"edge\">\n<title>Gringotts Wizarding Bank&#45;&gt;the Dursleys</title>\n<path fill=\"none\" stroke=\"#000000\" d=\"M277.0205,-359.9744C256.3938,-336.1741 225.2104,-292.531 204,-252 180.3409,-206.7895 160.0655,-150.7965 151.5694,-117.8772\"/>\n<polygon fill=\"#000000\" stroke=\"#000000\" points=\"154.9501,-116.9643 149.2355,-108.0428 148.1392,-118.5807 154.9501,-116.9643\"/>\n</g>\n<!-- Sorting Hat -->\n<g id=\"node8\" class=\"node\">\n<title>Sorting Hat</title>\n<ellipse fill=\"none\" stroke=\"#000000\" cx=\"366\" cy=\"-306\" rx=\"53.8905\" ry=\"18\"/>\n<text text-anchor=\"middle\" x=\"366\" y=\"-302.3\" font-family=\"Times,serif\" font-size=\"14.00\" fill=\"#000000\">Sorting Hat</text>\n</g>\n<!-- Gringotts Wizarding Bank&#45;&gt;Sorting Hat -->\n<g id=\"edge10\" class=\"edge\">\n<title>Gringotts Wizarding Bank&#45;&gt;Sorting Hat</title>\n<path fill=\"none\" stroke=\"#000000\" d=\"M308.4592,-359.8314C316.2898,-350.7354 326.8064,-339.6075 336.763,-329.835\"/>\n<polygon fill=\"#000000\" stroke=\"#000000\" points=\"339.4238,-332.1324 344.2139,-322.6822 334.5761,-327.0826 339.4238,-332.1324\"/>\n</g>\n<!-- the Mirror of Erised&#45;&gt;Diagon Alley -->\n<g id=\"edge16\" class=\"edge\">\n<title>the Mirror of Erised&#45;&gt;Diagon Alley</title>\n<path fill=\"none\" stroke=\"#000000\" d=\"M682.2619,-390.7468C613.5047,-404.4087 502.1841,-425.8803 432.6481,-438.8801\"/>\n<polygon fill=\"#000000\" stroke=\"#000000\" points=\"431.8909,-435.4608 422.7019,-440.7347 433.1741,-442.3422 431.8909,-435.4608\"/>\n</g>\n<!-- Privet Drive&#45;&gt;Diagon Alley -->\n<g id=\"edge18\" class=\"edge\">\n<title>Privet Drive&#45;&gt;Diagon Alley</title>\n<path fill=\"none\" stroke=\"#000000\" d=\"M106.9876,-180.2112C113.6303,-223.9857 125.3232,-335.9239 188,-396 205.846,-413.1055 263.6806,-427.9988 309.4917,-437.7868\"/>\n<polygon fill=\"#000000\" stroke=\"#000000\" points=\"308.8555,-441.2295 319.3612,-439.8578 310.2931,-434.3787 308.8555,-441.2295\"/>\n</g>\n<!-- Privet Drive&#45;&gt;Hogwarts School of Witchcraft and Wizardry -->\n<g id=\"edge17\" class=\"edge\">\n<title>Privet Drive&#45;&gt;Hogwarts School of Witchcraft and Wizardry</title>\n<path fill=\"none\" stroke=\"#000000\" d=\"M148.8514,-172.1108C196.5852,-183.119 271.1712,-200.9836 326.8949,-214.6965\"/>\n<polygon fill=\"#000000\" stroke=\"#000000\" points=\"326.171,-218.1227 336.7182,-217.1192 327.8473,-211.3264 326.171,-218.1227\"/>\n</g>\n<!-- Privet Drive&#45;&gt;the Dursleys -->\n<g id=\"edge19\" class=\"edge\">\n<title>Privet Drive&#45;&gt;the Dursleys</title>\n<path fill=\"none\" stroke=\"#000000\" d=\"M107.9077,-143.8314C112.6546,-135.2835 119.2253,-124.9412 125.7848,-115.6156\"/>\n<polygon fill=\"#000000\" stroke=\"#000000\" points=\"128.6969,-117.5622 131.7531,-107.4177 123.0377,-113.4422 128.6969,-117.5622\"/>\n</g>\n<!-- Hogwarts School of Witchcraft and Wizardry&#45;&gt;Diagon Alley -->\n<g id=\"edge20\" class=\"edge\">\n<title>Hogwarts School of Witchcraft and Wizardry&#45;&gt;Diagon Alley</title>\n<path fill=\"none\" stroke=\"#000000\" d=\"M421.1589,-252.118C428.2315,-262.2109 434.8978,-275.2779 438,-288 441.7904,-303.5445 439.534,-308.0737 438,-324 434.8745,-356.4491 437.9853,-366.553 424,-396 418.817,-406.9132 410.9129,-417.4615 402.6469,-426.2951\"/>\n<polygon fill=\"#000000\" stroke=\"#000000\" points=\"399.9521,-424.0398 395.349,-433.5825 404.8983,-428.9931 399.9521,-424.0398\"/>\n</g>\n<!-- Hogwarts School of Witchcraft and Wizardry&#45;&gt;Gringotts Wizarding Bank -->\n<g id=\"edge22\" class=\"edge\">\n<title>Hogwarts School of Witchcraft and Wizardry&#45;&gt;Gringotts Wizarding Bank</title>\n<path fill=\"none\" stroke=\"#000000\" d=\"M356.2628,-251.4623C339.6671,-259.7881 322.4315,-271.6126 312,-288 300.4177,-306.1951 299.5617,-330.8638 299.841,-349.7731\"/>\n<polygon fill=\"#000000\" stroke=\"#000000\" points=\"296.3441,-349.9554 300.0582,-359.8779 303.3424,-349.805 296.3441,-349.9554\"/>\n</g>\n<!-- Hogwarts School of Witchcraft and Wizardry&#45;&gt;Privet Drive -->\n<g id=\"edge24\" class=\"edge\">\n<title>Hogwarts School of Witchcraft and Wizardry&#45;&gt;Privet Drive</title>\n<path fill=\"none\" stroke=\"#000000\" d=\"M327.0073,-217.572C273.639,-205.0564 202.9286,-188.0064 155.086,-176.1047\"/>\n<polygon fill=\"#000000\" stroke=\"#000000\" points=\"155.7884,-172.6727 145.2384,-173.6467 154.0931,-179.4644 155.7884,-172.6727\"/>\n</g>\n<!-- Hogwarts School of Witchcraft and Wizardry&#45;&gt;King&#39;s Cross -->\n<g id=\"edge26\" class=\"edge\">\n<title>Hogwarts School of Witchcraft and Wizardry&#45;&gt;King&#39;s Cross</title>\n<path fill=\"none\" stroke=\"#000000\" d=\"M360.706,-216.4272C346.863,-207.4109 333.1641,-195.1179 326,-180 319.1483,-165.5413 321.2904,-159.2911 326,-144 338.572,-103.1817 370.5623,-64.8425 395.3822,-41.4154\"/>\n<polygon fill=\"#000000\" stroke=\"#000000\" points=\"397.7881,-43.9583 402.8253,-34.6375 393.075,-38.7827 397.7881,-43.9583\"/>\n</g>\n<!-- Hogwarts School of Witchcraft and Wizardry&#45;&gt;the Dursleys -->\n<g id=\"edge27\" class=\"edge\">\n<title>Hogwarts School of Witchcraft and Wizardry&#45;&gt;the Dursleys</title>\n<path fill=\"none\" stroke=\"#000000\" d=\"M351.376,-216.6599C327.6423,-206.7458 299.3054,-193.602 275,-180 238.5606,-159.6075 199.0546,-132.6533 174.0001,-113.5749\"/>\n<polygon fill=\"#000000\" stroke=\"#000000\" points=\"176.1278,-110.7958 166.0826,-107.4276 171.8349,-116.3249 176.1278,-110.7958\"/>\n</g>\n<!-- Hogwarts School of Witchcraft and Wizardry&#45;&gt;Sorting Hat -->\n<g id=\"edge21\" class=\"edge\">\n<title>Hogwarts School of Witchcraft and Wizardry&#45;&gt;Sorting Hat</title>\n<path fill=\"none\" stroke=\"#000000\" d=\"M398.1779,-252.0206C394.9276,-260.4077 390.1945,-270.5465 385.279,-279.7621\"/>\n<polygon fill=\"#000000\" stroke=\"#000000\" points=\"382.1788,-278.1349 380.3508,-288.5708 388.2878,-281.5526 382.1788,-278.1349\"/>\n</g>\n<!-- the Hogwarts Express -->\n<g id=\"node9\" class=\"node\">\n<title>the Hogwarts Express</title>\n<ellipse fill=\"none\" stroke=\"#000000\" cx=\"492\" cy=\"-90\" rx=\"92.0841\" ry=\"18\"/>\n<text text-anchor=\"middle\" x=\"492\" y=\"-86.3\" font-family=\"Times,serif\" font-size=\"14.00\" fill=\"#000000\">the Hogwarts Express</text>\n</g>\n<!-- Hogwarts School of Witchcraft and Wizardry&#45;&gt;the Hogwarts Express -->\n<g id=\"edge23\" class=\"edge\">\n<title>Hogwarts School of Witchcraft and Wizardry&#45;&gt;the Hogwarts Express</title>\n<path fill=\"none\" stroke=\"#000000\" d=\"M422.0458,-216.1197C434.1862,-206.8197 448.6171,-194.3838 458,-180 470.1853,-161.3201 476.4934,-136.7355 481.1177,-117.9819\"/>\n<polygon fill=\"#000000\" stroke=\"#000000\" points=\"484.5241,-118.7867 483.5402,-108.2377 477.7309,-117.0978 484.5241,-118.7867\"/>\n</g>\n<!-- Platform 9¾ -->\n<g id=\"node10\" class=\"node\">\n<title>Platform 9¾</title>\n<ellipse fill=\"none\" stroke=\"#000000\" cx=\"401\" cy=\"-162\" rx=\"57.3905\" ry=\"18\"/>\n<text text-anchor=\"middle\" x=\"401\" y=\"-158.3\" font-family=\"Times,serif\" font-size=\"14.00\" fill=\"#000000\">Platform 9¾</text>\n</g>\n<!-- Hogwarts School of Witchcraft and Wizardry&#45;&gt;Platform 9¾ -->\n<g id=\"edge25\" class=\"edge\">\n<title>Hogwarts School of Witchcraft and Wizardry&#45;&gt;Platform 9¾</title>\n<path fill=\"none\" stroke=\"#000000\" d=\"M395.0476,-215.8314C394.2856,-208.0125 394.0696,-198.6923 394.3995,-190.0221\"/>\n<polygon fill=\"#000000\" stroke=\"#000000\" points=\"397.9004,-190.1239 395.0727,-179.9134 390.9159,-189.6587 397.9004,-190.1239\"/>\n</g>\n<!-- King&#39;s Cross&#45;&gt;Diagon Alley -->\n<g id=\"edge34\" class=\"edge\">\n<title>King&#39;s Cross&#45;&gt;Diagon Alley</title>\n<path fill=\"none\" stroke=\"#000000\" d=\"M477.0312,-27.3357C522.4777,-37.4417 584.701,-54.4767 602,-72 631.43,-101.8117 630,-120.1089 630,-162 630,-306 630,-306 630,-306 630,-393.1446 514.7603,-428.3069 437.6506,-441.9219\"/>\n<polygon fill=\"#000000\" stroke=\"#000000\" points=\"436.7895,-438.5175 427.5089,-443.6282 437.951,-445.4204 436.7895,-438.5175\"/>\n</g>\n<!-- King&#39;s Cross&#45;&gt;Hogwarts School of Witchcraft and Wizardry -->\n<g id=\"edge31\" class=\"edge\">\n<title>King&#39;s Cross&#45;&gt;Hogwarts School of Witchcraft and Wizardry</title>\n<path fill=\"none\" stroke=\"#000000\" d=\"M414.1344,-35.8084C394.1022,-58.3867 357.6333,-99.7357 344,-144 339.2904,-159.2911 337.1483,-165.5413 344,-180 349.4979,-191.6018 358.8444,-201.54 368.4514,-209.6102\"/>\n<polygon fill=\"#000000\" stroke=\"#000000\" points=\"366.4804,-212.5129 376.5038,-215.9454 370.8087,-207.0114 366.4804,-212.5129\"/>\n</g>\n<!-- King&#39;s Cross&#45;&gt;the Hogwarts Express -->\n<g id=\"edge32\" class=\"edge\">\n<title>King&#39;s Cross&#45;&gt;the Hogwarts Express</title>\n<path fill=\"none\" stroke=\"#000000\" d=\"M448.106,-34.9263C456.8562,-43.5899 466.7772,-54.3256 475.0503,-64.0111\"/>\n<polygon fill=\"#000000\" stroke=\"#000000\" points=\"472.4665,-66.3781 481.5501,-71.8314 477.8498,-61.9037 472.4665,-66.3781\"/>\n</g>\n<!-- King&#39;s Cross&#45;&gt;Platform 9¾ -->\n<g id=\"edge33\" class=\"edge\">\n<title>King&#39;s Cross&#45;&gt;Platform 9¾</title>\n<path fill=\"none\" stroke=\"#000000\" d=\"M419.0354,-36.0831C412.3462,-45.9629 403.9834,-58.8437 400,-72 393.9067,-92.1248 396.9101,-115.7877 399.8845,-133.7982\"/>\n<polygon fill=\"#000000\" stroke=\"#000000\" points=\"396.4378,-134.4075 401.5635,-143.6799 403.3389,-133.2349 396.4378,-134.4075\"/>\n</g>\n<!-- the Dursleys&#45;&gt;Diagon Alley -->\n<g id=\"edge36\" class=\"edge\">\n<title>the Dursleys&#45;&gt;Diagon Alley</title>\n<path fill=\"none\" stroke=\"#000000\" d=\"M109.6122,-103.1283C88.1554,-111.5095 62.775,-124.5457 46,-144 18.6439,-175.7255 18,-192.1089 18,-234 18,-306 18,-306 18,-306 18,-368.7891 208.7916,-416.3898 309.5112,-437.7011\"/>\n<polygon fill=\"#000000\" stroke=\"#000000\" points=\"309.0534,-441.181 319.5583,-439.8033 310.4871,-434.3294 309.0534,-441.181\"/>\n</g>\n<!-- the Dursleys&#45;&gt;Gringotts Wizarding Bank -->\n<g id=\"edge37\" class=\"edge\">\n<title>the Dursleys&#45;&gt;Gringotts Wizarding Bank</title>\n<path fill=\"none\" stroke=\"#000000\" d=\"M160.2197,-108.0428C173.7165,-138.5504 195.7803,-201.8966 222,-252 240.8905,-288.098 267.6917,-326.6644 283.9075,-351.4828\"/>\n<polygon fill=\"#000000\" stroke=\"#000000\" points=\"281.0156,-353.4568 289.3685,-359.9744 286.9032,-349.6704 281.0156,-353.4568\"/>\n</g>\n<!-- the Dursleys&#45;&gt;Privet Drive -->\n<g id=\"edge38\" class=\"edge\">\n<title>the Dursleys&#45;&gt;Privet Drive</title>\n<path fill=\"none\" stroke=\"#000000\" d=\"M143.1744,-108.0206C138.4294,-116.5824 131.835,-126.9697 125.2487,-136.3368\"/>\n<polygon fill=\"#000000\" stroke=\"#000000\" points=\"122.3106,-134.426 119.2556,-144.5708 127.9702,-138.5453 122.3106,-134.426\"/>\n</g>\n<!-- the Dursleys&#45;&gt;Hogwarts School of Witchcraft and Wizardry -->\n<g id=\"edge35\" class=\"edge\">\n<title>the Dursleys&#45;&gt;Hogwarts School of Witchcraft and Wizardry</title>\n<path fill=\"none\" stroke=\"#000000\" d=\"M176.9401,-105.8958C205.6613,-124.788 251.3353,-156.6832 293,-180 313.7296,-191.6009 337.3917,-202.8684 357.3451,-212.0833\"/>\n<polygon fill=\"#000000\" stroke=\"#000000\" points=\"355.9718,-215.3041 366.5197,-216.3001 358.8951,-208.9437 355.9718,-215.3041\"/>\n</g>\n<!-- Sorting Hat&#45;&gt;Gringotts Wizarding Bank -->\n<g id=\"edge8\" class=\"edge\">\n<title>Sorting Hat&#45;&gt;Gringotts Wizarding Bank</title>\n<path fill=\"none\" stroke=\"#000000\" d=\"M354.8211,-323.8425C347.2383,-332.6763 337.0574,-343.486 327.3004,-353.1182\"/>\n<polygon fill=\"#000000\" stroke=\"#000000\" points=\"324.7293,-350.7356 319.9719,-360.2022 329.5945,-355.7686 324.7293,-350.7356\"/>\n</g>\n<!-- Sorting Hat&#45;&gt;Hogwarts School of Witchcraft and Wizardry -->\n<g id=\"edge7\" class=\"edge\">\n<title>Sorting Hat&#45;&gt;Hogwarts School of Witchcraft and Wizardry</title>\n<path fill=\"none\" stroke=\"#000000\" d=\"M368.8796,-287.8314C372.004,-279.7925 376.4769,-270.1666 381.1618,-261.2918\"/>\n<polygon fill=\"#000000\" stroke=\"#000000\" points=\"384.2953,-262.8579 386.0731,-252.4133 378.17,-259.4696 384.2953,-262.8579\"/>\n</g>\n<!-- the Hogwarts Express&#45;&gt;Hogwarts School of Witchcraft and Wizardry -->\n<g id=\"edge13\" class=\"edge\">\n<title>the Hogwarts Express&#45;&gt;Hogwarts School of Witchcraft and Wizardry</title>\n<path fill=\"none\" stroke=\"#000000\" d=\"M496.8938,-108.2377C496.6282,-127.4276 490.4419,-157.8609 476,-180 468.3846,-191.6743 457.4439,-202.0654 446.2061,-210.5381\"/>\n<polygon fill=\"#000000\" stroke=\"#000000\" points=\"444.1381,-207.7139 438.014,-216.3595 448.1929,-213.4199 444.1381,-207.7139\"/>\n</g>\n<!-- the Hogwarts Express&#45;&gt;King&#39;s Cross -->\n<g id=\"edge15\" class=\"edge\">\n<title>the Hogwarts Express&#45;&gt;King&#39;s Cross</title>\n<path fill=\"none\" stroke=\"#000000\" d=\"M470.0169,-72.2022C461.4232,-63.6348 451.8082,-53.2009 443.7747,-43.7839\"/>\n<polygon fill=\"#000000\" stroke=\"#000000\" points=\"446.2658,-41.3049 437.1876,-35.8425 440.8781,-45.7739 446.2658,-41.3049\"/>\n</g>\n<!-- the Hogwarts Express&#45;&gt;Platform 9¾ -->\n<g id=\"edge14\" class=\"edge\">\n<title>the Hogwarts Express&#45;&gt;Platform 9¾</title>\n<path fill=\"none\" stroke=\"#000000\" d=\"M475.4348,-107.7862C464.2707,-117.3813 449.3119,-129.3201 435.6803,-139.5498\"/>\n<polygon fill=\"#000000\" stroke=\"#000000\" points=\"433.3718,-136.9037 427.4101,-145.6621 437.5324,-142.5331 433.3718,-136.9037\"/>\n</g>\n<!-- Platform 9¾&#45;&gt;Hogwarts School of Witchcraft and Wizardry -->\n<g id=\"edge28\" class=\"edge\">\n<title>Platform 9¾&#45;&gt;Hogwarts School of Witchcraft and Wizardry</title>\n<path fill=\"none\" stroke=\"#000000\" d=\"M406.9273,-179.9134C407.7012,-187.6993 407.9291,-197.01 407.6111,-205.6941\"/>\n<polygon fill=\"#000000\" stroke=\"#000000\" points=\"404.1082,-205.6254 406.9524,-215.8314 411.0935,-206.0794 404.1082,-205.6254\"/>\n</g>\n<!-- Platform 9¾&#45;&gt;King&#39;s Cross -->\n<g id=\"edge30\" class=\"edge\">\n<title>Platform 9¾&#45;&gt;King&#39;s Cross</title>\n<path fill=\"none\" stroke=\"#000000\" d=\"M388.2408,-144.3674C380.5846,-125.9414 374.6197,-96.3755 382,-72 385.1671,-61.5396 391.1027,-51.2535 397.7436,-42.5113\"/>\n<polygon fill=\"#000000\" stroke=\"#000000\" points=\"400.5743,-44.5808 404.2595,-34.6475 395.1842,-40.1146 400.5743,-44.5808\"/>\n</g>\n<!-- Platform 9¾&#45;&gt;the Hogwarts Express -->\n<g id=\"edge29\" class=\"edge\">\n<title>Platform 9¾&#45;&gt;the Hogwarts Express</title>\n<path fill=\"none\" stroke=\"#000000\" d=\"M417.1503,-144.5708C428.0315,-135.1963 442.6416,-123.5081 456.1145,-113.3565\"/>\n<polygon fill=\"#000000\" stroke=\"#000000\" points=\"458.3708,-116.0405 464.3127,-107.2687 454.1975,-110.4205 458.3708,-116.0405\"/>\n</g>\n</g>\n</svg>\n"
          },
          "metadata": {},
          "execution_count": 241
        }
      ]
    },
    {
      "cell_type": "code",
      "source": [
        "clean_map = reduce_path(map)\n",
        "graph_clean = generate_map(clean_map)\n",
        "graph_clean"
      ],
      "metadata": {
        "colab": {
          "base_uri": "https://localhost:8080/",
          "height": 387
        },
        "id": "8nxbvO8eJjm-",
        "outputId": "92e17584-2fac-4f9d-f2b5-07682dfe27cd"
      },
      "execution_count": null,
      "outputs": [
        {
          "output_type": "execute_result",
          "data": {
            "text/plain": [
              "<graphviz.dot.Digraph at 0x7f5701a63090>"
            ],
            "image/svg+xml": "<?xml version=\"1.0\" encoding=\"UTF-8\" standalone=\"no\"?>\n<!DOCTYPE svg PUBLIC \"-//W3C//DTD SVG 1.1//EN\"\n \"http://www.w3.org/Graphics/SVG/1.1/DTD/svg11.dtd\">\n<!-- Generated by graphviz version 2.40.1 (20161225.0304)\n -->\n<!-- Title: entity&#45;relations Pages: 1 -->\n<svg width=\"664pt\" height=\"260pt\"\n viewBox=\"0.00 0.00 663.93 260.00\" xmlns=\"http://www.w3.org/2000/svg\" xmlns:xlink=\"http://www.w3.org/1999/xlink\">\n<g id=\"graph0\" class=\"graph\" transform=\"scale(1 1) rotate(0) translate(4 256)\">\n<title>entity&#45;relations</title>\n<polygon fill=\"#ffffff\" stroke=\"transparent\" points=\"-4,4 -4,-256 659.9291,-256 659.9291,4 -4,4\"/>\n<!-- Diagon Alley -->\n<g id=\"node1\" class=\"node\">\n<title>Diagon Alley</title>\n<ellipse fill=\"none\" stroke=\"#000000\" cx=\"261.7341\" cy=\"-162\" rx=\"61.1893\" ry=\"18\"/>\n<text text-anchor=\"middle\" x=\"261.7341\" y=\"-158.3\" font-family=\"Times,serif\" font-size=\"14.00\" fill=\"#000000\">Diagon Alley</text>\n</g>\n<!-- Gringotts Wizarding Bank -->\n<g id=\"node2\" class=\"node\">\n<title>Gringotts Wizarding Bank</title>\n<ellipse fill=\"none\" stroke=\"#000000\" cx=\"139.7341\" cy=\"-90\" rx=\"109.381\" ry=\"18\"/>\n<text text-anchor=\"middle\" x=\"139.7341\" y=\"-86.3\" font-family=\"Times,serif\" font-size=\"14.00\" fill=\"#000000\">Gringotts Wizarding Bank</text>\n</g>\n<!-- Diagon Alley&#45;&gt;Gringotts Wizarding Bank -->\n<g id=\"edge1\" class=\"edge\">\n<title>Diagon Alley&#45;&gt;Gringotts Wizarding Bank</title>\n<path fill=\"none\" stroke=\"#000000\" d=\"M234.355,-145.8418C217.6918,-136.0078 196.161,-123.3011 177.8485,-112.4937\"/>\n<polygon fill=\"#000000\" stroke=\"#000000\" points=\"179.5437,-109.4301 169.1527,-107.3618 175.9859,-115.4586 179.5437,-109.4301\"/>\n</g>\n<!-- Hogwarts School of Witchcraft and Wizardry -->\n<g id=\"node3\" class=\"node\">\n<title>Hogwarts School of Witchcraft and Wizardry</title>\n<ellipse fill=\"none\" stroke=\"#000000\" cx=\"178.7341\" cy=\"-18\" rx=\"178.9686\" ry=\"18\"/>\n<text text-anchor=\"middle\" x=\"178.7341\" y=\"-14.3\" font-family=\"Times,serif\" font-size=\"14.00\" fill=\"#000000\">Hogwarts School of Witchcraft and Wizardry</text>\n</g>\n<!-- Gringotts Wizarding Bank&#45;&gt;Hogwarts School of Witchcraft and Wizardry -->\n<g id=\"edge2\" class=\"edge\">\n<title>Gringotts Wizarding Bank&#45;&gt;Hogwarts School of Witchcraft and Wizardry</title>\n<path fill=\"none\" stroke=\"#000000\" d=\"M149.5755,-71.8314C153.9299,-63.7925 159.1439,-54.1666 163.9511,-45.2918\"/>\n<polygon fill=\"#000000\" stroke=\"#000000\" points=\"167.0749,-46.8732 168.7603,-36.4133 160.9199,-43.5392 167.0749,-46.8732\"/>\n</g>\n<!-- Hogwarts School of Witchcraft and Wizardry&#45;&gt;Diagon Alley -->\n<g id=\"edge6\" class=\"edge\">\n<title>Hogwarts School of Witchcraft and Wizardry&#45;&gt;Diagon Alley</title>\n<path fill=\"none\" stroke=\"#000000\" d=\"M218.6685,-35.5563C233.5859,-44.2612 249.0095,-56.3218 257.7341,-72 268.1455,-90.7091 268.5658,-115.1447 266.7033,-133.8324\"/>\n<polygon fill=\"#000000\" stroke=\"#000000\" points=\"263.2229,-133.4571 265.4421,-143.8169 270.1678,-134.3344 263.2229,-133.4571\"/>\n</g>\n<!-- the Hogwarts Express -->\n<g id=\"node4\" class=\"node\">\n<title>the Hogwarts Express</title>\n<ellipse fill=\"none\" stroke=\"#000000\" cx=\"432.7341\" cy=\"-162\" rx=\"92.0841\" ry=\"18\"/>\n<text text-anchor=\"middle\" x=\"432.7341\" y=\"-158.3\" font-family=\"Times,serif\" font-size=\"14.00\" fill=\"#000000\">the Hogwarts Express</text>\n</g>\n<!-- King&#39;s Cross railway station -->\n<g id=\"node5\" class=\"node\">\n<title>King&#39;s Cross railway station</title>\n<ellipse fill=\"none\" stroke=\"#000000\" cx=\"432.7341\" cy=\"-90\" rx=\"114.2798\" ry=\"18\"/>\n<text text-anchor=\"middle\" x=\"432.7341\" y=\"-86.3\" font-family=\"Times,serif\" font-size=\"14.00\" fill=\"#000000\">King&#39;s Cross railway station</text>\n</g>\n<!-- the Hogwarts Express&#45;&gt;King&#39;s Cross railway station -->\n<g id=\"edge3\" class=\"edge\">\n<title>the Hogwarts Express&#45;&gt;King&#39;s Cross railway station</title>\n<path fill=\"none\" stroke=\"#000000\" d=\"M432.7341,-143.8314C432.7341,-136.131 432.7341,-126.9743 432.7341,-118.4166\"/>\n<polygon fill=\"#000000\" stroke=\"#000000\" points=\"436.2342,-118.4132 432.7341,-108.4133 429.2342,-118.4133 436.2342,-118.4132\"/>\n</g>\n<!-- King&#39;s Cross railway station&#45;&gt;Hogwarts School of Witchcraft and Wizardry -->\n<g id=\"edge8\" class=\"edge\">\n<title>King&#39;s Cross railway station&#45;&gt;Hogwarts School of Witchcraft and Wizardry</title>\n<path fill=\"none\" stroke=\"#000000\" d=\"M376.9928,-74.1993C339.218,-63.4915 289.0076,-49.2586 248.5688,-37.7957\"/>\n<polygon fill=\"#000000\" stroke=\"#000000\" points=\"249.3532,-34.3802 238.7778,-35.0202 247.4442,-41.1148 249.3532,-34.3802\"/>\n</g>\n<!-- Platform 9¾ -->\n<g id=\"node9\" class=\"node\">\n<title>Platform 9¾</title>\n<ellipse fill=\"none\" stroke=\"#000000\" cx=\"432.7341\" cy=\"-18\" rx=\"57.3905\" ry=\"18\"/>\n<text text-anchor=\"middle\" x=\"432.7341\" y=\"-14.3\" font-family=\"Times,serif\" font-size=\"14.00\" fill=\"#000000\">Platform 9¾</text>\n</g>\n<!-- King&#39;s Cross railway station&#45;&gt;Platform 9¾ -->\n<g id=\"edge9\" class=\"edge\">\n<title>King&#39;s Cross railway station&#45;&gt;Platform 9¾</title>\n<path fill=\"none\" stroke=\"#000000\" d=\"M426.7817,-71.8314C426.0198,-64.0125 425.8038,-54.6923 426.1337,-46.0221\"/>\n<polygon fill=\"#000000\" stroke=\"#000000\" points=\"429.6346,-46.1239 426.8069,-35.9134 422.65,-45.6587 429.6346,-46.1239\"/>\n</g>\n<!-- the Mirror of Erised -->\n<g id=\"node6\" class=\"node\">\n<title>the Mirror of Erised</title>\n<ellipse fill=\"none\" stroke=\"#000000\" cx=\"261.7341\" cy=\"-234\" rx=\"85.2851\" ry=\"18\"/>\n<text text-anchor=\"middle\" x=\"261.7341\" y=\"-230.3\" font-family=\"Times,serif\" font-size=\"14.00\" fill=\"#000000\">the Mirror of Erised</text>\n</g>\n<!-- the Mirror of Erised&#45;&gt;Diagon Alley -->\n<g id=\"edge4\" class=\"edge\">\n<title>the Mirror of Erised&#45;&gt;Diagon Alley</title>\n<path fill=\"none\" stroke=\"#000000\" d=\"M261.7341,-215.8314C261.7341,-208.131 261.7341,-198.9743 261.7341,-190.4166\"/>\n<polygon fill=\"#000000\" stroke=\"#000000\" points=\"265.2342,-190.4132 261.7341,-180.4133 258.2342,-190.4133 265.2342,-190.4132\"/>\n</g>\n<!-- Privet Drive -->\n<g id=\"node7\" class=\"node\">\n<title>Privet Drive</title>\n<ellipse fill=\"none\" stroke=\"#000000\" cx=\"598.7341\" cy=\"-162\" rx=\"55.7903\" ry=\"18\"/>\n<text text-anchor=\"middle\" x=\"598.7341\" y=\"-158.3\" font-family=\"Times,serif\" font-size=\"14.00\" fill=\"#000000\">Privet Drive</text>\n</g>\n<!-- the Dursleys -->\n<g id=\"node8\" class=\"node\">\n<title>the Dursleys</title>\n<ellipse fill=\"none\" stroke=\"#000000\" cx=\"598.7341\" cy=\"-234\" rx=\"57.3905\" ry=\"18\"/>\n<text text-anchor=\"middle\" x=\"598.7341\" y=\"-230.3\" font-family=\"Times,serif\" font-size=\"14.00\" fill=\"#000000\">the Dursleys</text>\n</g>\n<!-- Privet Drive&#45;&gt;the Dursleys -->\n<g id=\"edge5\" class=\"edge\">\n<title>Privet Drive&#45;&gt;the Dursleys</title>\n<path fill=\"none\" stroke=\"#000000\" d=\"M604.6614,-179.9134C605.4353,-187.6993 605.6632,-197.01 605.3452,-205.6941\"/>\n<polygon fill=\"#000000\" stroke=\"#000000\" points=\"601.8424,-205.6254 604.6865,-215.8314 608.8276,-206.0794 601.8424,-205.6254\"/>\n</g>\n<!-- the Dursleys&#45;&gt;Diagon Alley -->\n<g id=\"edge10\" class=\"edge\">\n<title>the Dursleys&#45;&gt;Diagon Alley</title>\n<path fill=\"none\" stroke=\"#000000\" d=\"M549.3585,-224.813C495.6444,-214.6328 407.3284,-197.3512 331.7341,-180 327.0141,-178.9166 322.1263,-177.7508 317.2285,-176.552\"/>\n<polygon fill=\"#000000\" stroke=\"#000000\" points=\"317.761,-173.0779 307.2119,-174.0608 316.0716,-179.8709 317.761,-173.0779\"/>\n</g>\n<!-- the Dursleys&#45;&gt;Privet Drive -->\n<g id=\"edge11\" class=\"edge\">\n<title>the Dursleys&#45;&gt;Privet Drive</title>\n<path fill=\"none\" stroke=\"#000000\" d=\"M592.7817,-215.8314C592.0198,-208.0125 591.8038,-198.6923 592.1337,-190.0221\"/>\n<polygon fill=\"#000000\" stroke=\"#000000\" points=\"595.6346,-190.1239 592.8069,-179.9134 588.65,-189.6587 595.6346,-190.1239\"/>\n</g>\n<!-- Platform 9¾&#45;&gt;King&#39;s Cross railway station -->\n<g id=\"edge7\" class=\"edge\">\n<title>Platform 9¾&#45;&gt;King&#39;s Cross railway station</title>\n<path fill=\"none\" stroke=\"#000000\" d=\"M438.6614,-35.9134C439.4353,-43.6993 439.6632,-53.01 439.3452,-61.6941\"/>\n<polygon fill=\"#000000\" stroke=\"#000000\" points=\"435.8424,-61.6254 438.6865,-71.8314 442.8276,-62.0794 435.8424,-61.6254\"/>\n</g>\n</g>\n</svg>\n"
          },
          "metadata": {},
          "execution_count": 244
        }
      ]
    },
    {
      "cell_type": "code",
      "source": [
        "enhanced_clean_map = enhance_map(clean_map)\n",
        "print(enhanced_clean_map)"
      ],
      "metadata": {
        "colab": {
          "base_uri": "https://localhost:8080/"
        },
        "id": "q-Tn6A3UZ4Tp",
        "outputId": "d3b58a14-ed62-4a2e-8f1b-d8f084ba9184"
      },
      "execution_count": null,
      "outputs": [
        {
          "output_type": "stream",
          "name": "stdout",
          "text": [
            "{'Diagon Alley': {'Hogwarts School of Witchcraft and Wizardry', 'the Mirror of Erised', 'Gringotts Wizarding Bank', 'the Dursleys'}, 'Gringotts Wizarding Bank': {'Hogwarts School of Witchcraft and Wizardry', 'Diagon Alley'}, 'the Hogwarts Express': {\"King's Cross railway station\"}, 'the Mirror of Erised': {'Diagon Alley'}, 'Privet Drive': {'the Dursleys'}, 'Hogwarts School of Witchcraft and Wizardry': {'Diagon Alley', \"King's Cross railway station\", 'Gringotts Wizarding Bank'}, 'Platform 9¾': {\"King's Cross railway station\"}, \"King's Cross railway station\": {'Hogwarts School of Witchcraft and Wizardry', 'the Hogwarts Express', 'Platform 9¾'}, 'the Dursleys': {'Diagon Alley', 'Privet Drive'}}\n"
          ]
        }
      ]
    },
    {
      "cell_type": "code",
      "source": [
        "graph = generate_map(enhanced_clean_map)\n",
        "graph"
      ],
      "metadata": {
        "colab": {
          "base_uri": "https://localhost:8080/",
          "height": 387
        },
        "id": "H--xpjkcZ8CY",
        "outputId": "1ad94049-185a-488a-ec5d-44d3a7202031"
      },
      "execution_count": null,
      "outputs": [
        {
          "output_type": "execute_result",
          "data": {
            "text/plain": [
              "<graphviz.dot.Digraph at 0x7f5701ac6b10>"
            ],
            "image/svg+xml": "<?xml version=\"1.0\" encoding=\"UTF-8\" standalone=\"no\"?>\n<!DOCTYPE svg PUBLIC \"-//W3C//DTD SVG 1.1//EN\"\n \"http://www.w3.org/Graphics/SVG/1.1/DTD/svg11.dtd\">\n<!-- Generated by graphviz version 2.40.1 (20161225.0304)\n -->\n<!-- Title: entity&#45;relations Pages: 1 -->\n<svg width=\"742pt\" height=\"260pt\"\n viewBox=\"0.00 0.00 741.93 260.00\" xmlns=\"http://www.w3.org/2000/svg\" xmlns:xlink=\"http://www.w3.org/1999/xlink\">\n<g id=\"graph0\" class=\"graph\" transform=\"scale(1 1) rotate(0) translate(4 256)\">\n<title>entity&#45;relations</title>\n<polygon fill=\"#ffffff\" stroke=\"transparent\" points=\"-4,4 -4,-256 737.9291,-256 737.9291,4 -4,4\"/>\n<!-- Diagon Alley -->\n<g id=\"node1\" class=\"node\">\n<title>Diagon Alley</title>\n<ellipse fill=\"none\" stroke=\"#000000\" cx=\"521.7341\" cy=\"-234\" rx=\"61.1893\" ry=\"18\"/>\n<text text-anchor=\"middle\" x=\"521.7341\" y=\"-230.3\" font-family=\"Times,serif\" font-size=\"14.00\" fill=\"#000000\">Diagon Alley</text>\n</g>\n<!-- Hogwarts School of Witchcraft and Wizardry -->\n<g id=\"node2\" class=\"node\">\n<title>Hogwarts School of Witchcraft and Wizardry</title>\n<ellipse fill=\"none\" stroke=\"#000000\" cx=\"178.7341\" cy=\"-162\" rx=\"178.9686\" ry=\"18\"/>\n<text text-anchor=\"middle\" x=\"178.7341\" y=\"-158.3\" font-family=\"Times,serif\" font-size=\"14.00\" fill=\"#000000\">Hogwarts School of Witchcraft and Wizardry</text>\n</g>\n<!-- Diagon Alley&#45;&gt;Hogwarts School of Witchcraft and Wizardry -->\n<g id=\"edge1\" class=\"edge\">\n<title>Diagon Alley&#45;&gt;Hogwarts School of Witchcraft and Wizardry</title>\n<path fill=\"none\" stroke=\"#000000\" d=\"M470.316,-224.2148C414.9816,-213.0421 326.3081,-194.5115 261.2264,-180.5738\"/>\n<polygon fill=\"#000000\" stroke=\"#000000\" points=\"261.9095,-177.1408 251.3978,-178.4653 260.4412,-183.9851 261.9095,-177.1408\"/>\n</g>\n<!-- the Mirror of Erised -->\n<g id=\"node3\" class=\"node\">\n<title>the Mirror of Erised</title>\n<ellipse fill=\"none\" stroke=\"#000000\" cx=\"460.7341\" cy=\"-162\" rx=\"85.2851\" ry=\"18\"/>\n<text text-anchor=\"middle\" x=\"460.7341\" y=\"-158.3\" font-family=\"Times,serif\" font-size=\"14.00\" fill=\"#000000\">the Mirror of Erised</text>\n</g>\n<!-- Diagon Alley&#45;&gt;the Mirror of Erised -->\n<g id=\"edge2\" class=\"edge\">\n<title>Diagon Alley&#45;&gt;the Mirror of Erised</title>\n<path fill=\"none\" stroke=\"#000000\" d=\"M501.4381,-216.937C493.2207,-208.3173 483.9771,-197.6727 476.2933,-188.0555\"/>\n<polygon fill=\"#000000\" stroke=\"#000000\" points=\"478.8998,-185.7051 470.0073,-179.9453 473.367,-189.9933 478.8998,-185.7051\"/>\n</g>\n<!-- Gringotts Wizarding Bank -->\n<g id=\"node4\" class=\"node\">\n<title>Gringotts Wizarding Bank</title>\n<ellipse fill=\"none\" stroke=\"#000000\" cx=\"457.7341\" cy=\"-90\" rx=\"109.381\" ry=\"18\"/>\n<text text-anchor=\"middle\" x=\"457.7341\" y=\"-86.3\" font-family=\"Times,serif\" font-size=\"14.00\" fill=\"#000000\">Gringotts Wizarding Bank</text>\n</g>\n<!-- Diagon Alley&#45;&gt;Gringotts Wizarding Bank -->\n<g id=\"edge3\" class=\"edge\">\n<title>Diagon Alley&#45;&gt;Gringotts Wizarding Bank</title>\n<path fill=\"none\" stroke=\"#000000\" d=\"M530.6213,-215.9091C542.5524,-197.1093 559.3964,-167.2424 545.7341,-144 537.5618,-130.0971 524.3695,-119.5137 510.6259,-111.5651\"/>\n<polygon fill=\"#000000\" stroke=\"#000000\" points=\"512.0302,-108.347 501.562,-106.7138 508.7269,-114.5186 512.0302,-108.347\"/>\n</g>\n<!-- the Dursleys -->\n<g id=\"node5\" class=\"node\">\n<title>the Dursleys</title>\n<ellipse fill=\"none\" stroke=\"#000000\" cx=\"676.7341\" cy=\"-162\" rx=\"57.3905\" ry=\"18\"/>\n<text text-anchor=\"middle\" x=\"676.7341\" y=\"-158.3\" font-family=\"Times,serif\" font-size=\"14.00\" fill=\"#000000\">the Dursleys</text>\n</g>\n<!-- Diagon Alley&#45;&gt;the Dursleys -->\n<g id=\"edge4\" class=\"edge\">\n<title>Diagon Alley&#45;&gt;the Dursleys</title>\n<path fill=\"none\" stroke=\"#000000\" d=\"M550.4136,-218.0209C573.1935,-206.8408 605.3138,-191.8834 631.5165,-180.2363\"/>\n<polygon fill=\"#000000\" stroke=\"#000000\" points=\"633.1376,-183.3467 640.8741,-176.1081 630.3122,-176.9422 633.1376,-183.3467\"/>\n</g>\n<!-- Hogwarts School of Witchcraft and Wizardry&#45;&gt;Diagon Alley -->\n<g id=\"edge10\" class=\"edge\">\n<title>Hogwarts School of Witchcraft and Wizardry&#45;&gt;Diagon Alley</title>\n<path fill=\"none\" stroke=\"#000000\" d=\"M260.7542,-178.0155C323.2766,-190.8305 407.7737,-208.5913 463.5061,-220.6468\"/>\n<polygon fill=\"#000000\" stroke=\"#000000\" points=\"463.0513,-224.1295 473.566,-222.829 464.5353,-217.2886 463.0513,-224.1295\"/>\n</g>\n<!-- Hogwarts School of Witchcraft and Wizardry&#45;&gt;Gringotts Wizarding Bank -->\n<g id=\"edge12\" class=\"edge\">\n<title>Hogwarts School of Witchcraft and Wizardry&#45;&gt;Gringotts Wizarding Bank</title>\n<path fill=\"none\" stroke=\"#000000\" d=\"M238.6697,-145.0282C281.5795,-133.6407 339.5091,-118.6886 385.0515,-107.2448\"/>\n<polygon fill=\"#000000\" stroke=\"#000000\" points=\"386.0165,-110.6113 394.8656,-104.7852 384.3147,-103.8213 386.0165,-110.6113\"/>\n</g>\n<!-- King&#39;s Cross railway station -->\n<g id=\"node7\" class=\"node\">\n<title>King&#39;s Cross railway station</title>\n<ellipse fill=\"none\" stroke=\"#000000\" cx=\"178.7341\" cy=\"-90\" rx=\"114.2798\" ry=\"18\"/>\n<text text-anchor=\"middle\" x=\"178.7341\" y=\"-86.3\" font-family=\"Times,serif\" font-size=\"14.00\" fill=\"#000000\">King&#39;s Cross railway station</text>\n</g>\n<!-- Hogwarts School of Witchcraft and Wizardry&#45;&gt;King&#39;s Cross railway station -->\n<g id=\"edge11\" class=\"edge\">\n<title>Hogwarts School of Witchcraft and Wizardry&#45;&gt;King&#39;s Cross railway station</title>\n<path fill=\"none\" stroke=\"#000000\" d=\"M172.7817,-143.8314C172.0313,-136.131 171.8104,-126.9743 172.1191,-118.4166\"/>\n<polygon fill=\"#000000\" stroke=\"#000000\" points=\"175.6134,-118.6161 172.7581,-108.4133 168.6276,-118.1697 175.6134,-118.6161\"/>\n</g>\n<!-- the Mirror of Erised&#45;&gt;Diagon Alley -->\n<g id=\"edge8\" class=\"edge\">\n<title>the Mirror of Erised&#45;&gt;Diagon Alley</title>\n<path fill=\"none\" stroke=\"#000000\" d=\"M481.5344,-179.593C489.6982,-188.1947 498.8133,-198.7143 506.3815,-208.2031\"/>\n<polygon fill=\"#000000\" stroke=\"#000000\" points=\"503.6833,-210.4354 512.5712,-216.2022 509.2194,-206.1515 503.6833,-210.4354\"/>\n</g>\n<!-- Gringotts Wizarding Bank&#45;&gt;Diagon Alley -->\n<g id=\"edge6\" class=\"edge\">\n<title>Gringotts Wizarding Bank&#45;&gt;Diagon Alley</title>\n<path fill=\"none\" stroke=\"#000000\" d=\"M515.5204,-105.3995C534.4485,-113.7551 553.2345,-126.1379 563.7341,-144 575.8556,-164.6212 563.9636,-190.4571 549.6089,-209.1518\"/>\n<polygon fill=\"#000000\" stroke=\"#000000\" points=\"546.8368,-207.0115 543.1442,-216.942 552.2236,-211.4817 546.8368,-207.0115\"/>\n</g>\n<!-- Gringotts Wizarding Bank&#45;&gt;Hogwarts School of Witchcraft and Wizardry -->\n<g id=\"edge5\" class=\"edge\">\n<title>Gringotts Wizarding Bank&#45;&gt;Hogwarts School of Witchcraft and Wizardry</title>\n<path fill=\"none\" stroke=\"#000000\" d=\"M402.7278,-105.6618C361.6439,-116.5972 304.9489,-131.259 258.8497,-142.8841\"/>\n<polygon fill=\"#000000\" stroke=\"#000000\" points=\"257.7274,-139.5573 248.8836,-145.3913 259.4353,-146.3458 257.7274,-139.5573\"/>\n</g>\n<!-- the Dursleys&#45;&gt;Diagon Alley -->\n<g id=\"edge17\" class=\"edge\">\n<title>the Dursleys&#45;&gt;Diagon Alley</title>\n<path fill=\"none\" stroke=\"#000000\" d=\"M648.4237,-177.7979C625.9246,-188.8489 594.1506,-203.6556 568.0012,-215.2969\"/>\n<polygon fill=\"#000000\" stroke=\"#000000\" points=\"566.3812,-212.1862 558.6493,-219.4297 569.2108,-218.5888 566.3812,-212.1862\"/>\n</g>\n<!-- Privet Drive -->\n<g id=\"node8\" class=\"node\">\n<title>Privet Drive</title>\n<ellipse fill=\"none\" stroke=\"#000000\" cx=\"676.7341\" cy=\"-90\" rx=\"55.7903\" ry=\"18\"/>\n<text text-anchor=\"middle\" x=\"676.7341\" y=\"-86.3\" font-family=\"Times,serif\" font-size=\"14.00\" fill=\"#000000\">Privet Drive</text>\n</g>\n<!-- the Dursleys&#45;&gt;Privet Drive -->\n<g id=\"edge18\" class=\"edge\">\n<title>the Dursleys&#45;&gt;Privet Drive</title>\n<path fill=\"none\" stroke=\"#000000\" d=\"M670.7817,-143.8314C670.0198,-136.0125 669.8038,-126.6923 670.1337,-118.0221\"/>\n<polygon fill=\"#000000\" stroke=\"#000000\" points=\"673.6346,-118.1239 670.8069,-107.9134 666.65,-117.6587 673.6346,-118.1239\"/>\n</g>\n<!-- the Hogwarts Express -->\n<g id=\"node6\" class=\"node\">\n<title>the Hogwarts Express</title>\n<ellipse fill=\"none\" stroke=\"#000000\" cx=\"95.7341\" cy=\"-18\" rx=\"92.0841\" ry=\"18\"/>\n<text text-anchor=\"middle\" x=\"95.7341\" y=\"-14.3\" font-family=\"Times,serif\" font-size=\"14.00\" fill=\"#000000\">the Hogwarts Express</text>\n</g>\n<!-- the Hogwarts Express&#45;&gt;King&#39;s Cross railway station -->\n<g id=\"edge7\" class=\"edge\">\n<title>the Hogwarts Express&#45;&gt;King&#39;s Cross railway station</title>\n<path fill=\"none\" stroke=\"#000000\" d=\"M121.6899,-35.4177C132.8314,-44.288 145.6425,-55.232 156.361,-64.9859\"/>\n<polygon fill=\"#000000\" stroke=\"#000000\" points=\"154.03,-67.5976 163.7421,-71.8314 158.79,-62.4651 154.03,-67.5976\"/>\n</g>\n<!-- King&#39;s Cross railway station&#45;&gt;Hogwarts School of Witchcraft and Wizardry -->\n<g id=\"edge14\" class=\"edge\">\n<title>King&#39;s Cross railway station&#45;&gt;Hogwarts School of Witchcraft and Wizardry</title>\n<path fill=\"none\" stroke=\"#000000\" d=\"M184.7101,-108.4133C185.4413,-116.0593 185.6544,-125.1084 185.3496,-133.5726\"/>\n<polygon fill=\"#000000\" stroke=\"#000000\" points=\"181.8389,-133.6264 184.6865,-143.8314 188.8243,-134.078 181.8389,-133.6264\"/>\n</g>\n<!-- King&#39;s Cross railway station&#45;&gt;the Hogwarts Express -->\n<g id=\"edge15\" class=\"edge\">\n<title>King&#39;s Cross railway station&#45;&gt;the Hogwarts Express</title>\n<path fill=\"none\" stroke=\"#000000\" d=\"M152.3016,-72.2022C141.2407,-63.3752 128.6004,-52.5669 118.0157,-42.9307\"/>\n<polygon fill=\"#000000\" stroke=\"#000000\" points=\"120.0919,-40.0824 110.3824,-35.8425 115.3287,-45.2119 120.0919,-40.0824\"/>\n</g>\n<!-- Platform 9¾ -->\n<g id=\"node9\" class=\"node\">\n<title>Platform 9¾</title>\n<ellipse fill=\"none\" stroke=\"#000000\" cx=\"262.7341\" cy=\"-18\" rx=\"57.3905\" ry=\"18\"/>\n<text text-anchor=\"middle\" x=\"262.7341\" y=\"-14.3\" font-family=\"Times,serif\" font-size=\"14.00\" fill=\"#000000\">Platform 9¾</text>\n</g>\n<!-- King&#39;s Cross railway station&#45;&gt;Platform 9¾ -->\n<g id=\"edge16\" class=\"edge\">\n<title>King&#39;s Cross railway station&#45;&gt;Platform 9¾</title>\n<path fill=\"none\" stroke=\"#000000\" d=\"M193.9785,-71.8314C204.0632,-62.3995 217.4911,-50.783 229.8564,-40.7582\"/>\n<polygon fill=\"#000000\" stroke=\"#000000\" points=\"232.1452,-43.4096 237.7828,-34.4393 227.7817,-37.936 232.1452,-43.4096\"/>\n</g>\n<!-- Privet Drive&#45;&gt;the Dursleys -->\n<g id=\"edge9\" class=\"edge\">\n<title>Privet Drive&#45;&gt;the Dursleys</title>\n<path fill=\"none\" stroke=\"#000000\" d=\"M682.6614,-107.9134C683.4353,-115.6993 683.6632,-125.01 683.3452,-133.6941\"/>\n<polygon fill=\"#000000\" stroke=\"#000000\" points=\"679.8424,-133.6254 682.6865,-143.8314 686.8276,-134.0794 679.8424,-133.6254\"/>\n</g>\n<!-- Platform 9¾&#45;&gt;King&#39;s Cross railway station -->\n<g id=\"edge13\" class=\"edge\">\n<title>Platform 9¾&#45;&gt;King&#39;s Cross railway station</title>\n<path fill=\"none\" stroke=\"#000000\" d=\"M248.104,-35.593C238.39,-44.716 225.4011,-55.9965 213.2418,-65.9163\"/>\n<polygon fill=\"#000000\" stroke=\"#000000\" points=\"211.0196,-63.2119 205.4139,-72.2022 215.4026,-68.6699 211.0196,-63.2119\"/>\n</g>\n</g>\n</svg>\n"
          },
          "metadata": {},
          "execution_count": 246
        }
      ]
    },
    {
      "cell_type": "code",
      "source": [
        "def get_location_of_person(story, people, locations, model):\n",
        "  p_to_loc = {}\n",
        "  for p in people:\n",
        "      print(p)\n",
        "      found_place = False\n",
        "      question = \"Where is {} ?\".format()\n",
        "      ans_list = get_answer_list(question, story, model, mask = \"*\", topk = 10)\n",
        "      print(ans_list)\n",
        "      for ans, score in ans_list:\n",
        "        print(ans)\n",
        "        if \"*\" not in ans:\n",
        "          if ans == \"Hogwarts\":\n",
        "            ans = \"Hogwarts School of Witchcraft and Wizardry\" \n",
        "          elif ans == \"Gringotts Bank\":\n",
        "            ans = \"Gringotts Wizarding Bank\"         \n",
        "          for l in locations:\n",
        "            if ans in l or l in ans:\n",
        "              p_to_loc[p] = l\n",
        "              found_place = True\n",
        "              break\n",
        "        if found_place:\n",
        "          break\n",
        "      if not found_place:\n",
        "        p_to_loc[p] = \"nowhere\"\n",
        "      \n",
        "      print(p_to_loc[p])\n",
        "  return p_to_loc"
      ],
      "metadata": {
        "id": "k8suGm8i2Ug0"
      },
      "execution_count": null,
      "outputs": []
    },
    {
      "cell_type": "code",
      "source": [
        "person_to_location = get_location_of_person(hp_story, people, locations, nlp)"
      ],
      "metadata": {
        "colab": {
          "base_uri": "https://localhost:8080/"
        },
        "id": "Xf44SW033zm0",
        "outputId": "5079a103-d3bd-4ea1-c9ba-abe92cc042e9"
      },
      "execution_count": null,
      "outputs": [
        {
          "output_type": "stream",
          "name": "stdout",
          "text": [
            "Nicolas Flamel\n"
          ]
        },
        {
          "output_type": "stream",
          "name": "stderr",
          "text": [
            "/usr/local/lib/python3.7/dist-packages/transformers/tokenization_utils_base.py:703: VisibleDeprecationWarning: Creating an ndarray from ragged nested sequences (which is a list-or-tuple of lists-or-tuples-or ndarrays with different lengths or shapes) is deprecated. If you meant to do this, you must specify 'dtype=object' when creating the ndarray.\n",
            "  tensor = as_tensor(value)\n",
            "/usr/local/lib/python3.7/dist-packages/transformers/pipelines/question_answering.py:300: VisibleDeprecationWarning: Creating an ndarray from ragged nested sequences (which is a list-or-tuple of lists-or-tuples-or ndarrays with different lengths or shapes) is deprecated. If you meant to do this, you must specify 'dtype=object' when creating the ndarray.\n",
            "  for span_id in range(num_spans)\n"
          ]
        },
        {
          "output_type": "stream",
          "name": "stdout",
          "text": [
            "[('Professor Quirrell', 0.081), ('Snape', 0.104), ('Hogwarts', 0.109), ('*,', 0.069), ('alive', 0.018)]\n",
            "Professor Quirrell\n",
            "Snape\n",
            "Hogwarts\n",
            "Hogwarts School of Witchcraft and Wizardry\n",
            "Albus Dumbledore\n",
            "[('Hogwarts', 0.275), ('headmaster', 0.289), ('Gringotts Bank and the same vault', 0.073), ('*,', 0.039), ('School of Witchcraft and Wizardry', 0.022)]\n",
            "Hogwarts\n",
            "Hogwarts School of Witchcraft and Wizardry\n",
            "Firenze\n",
            "[('forest centaur', 0.659), ('Hogwarts', 0.137), ('*,', 0.061), ('A *', 0.052), ('*', 0.193)]\n",
            "forest centaur\n",
            "Hogwarts\n",
            "Hogwarts School of Witchcraft and Wizardry\n",
            "Quirrell\n",
            "[('Gryffindor', 0.625), ('Hogwarts', 0.332), ('Professor Quirrell, the Defence Against the Dark Arts teacher', 0.187), ('*,', 0.135), ('Voldemort', 0.107)]\n",
            "Gryffindor\n",
            "Hogwarts\n",
            "Hogwarts School of Witchcraft and Wizardry\n",
            "Hedwig\n",
            "[('Hogwarts', 0.146), (\"King's Cross railway station\", 0.081), ('owl', 0.052), ('Platform 9¾', 0.106), (\"Hagrid retrieved an item for the school's headmaster Albus Dumbledore\", 0.042)]\n",
            "Hogwarts\n",
            "Hogwarts School of Witchcraft and Wizardry\n",
            "Voldemort\n",
            "[(\"Quirrell's head\", 0.196), ('Voldemort, whose face is attached to the back of *,', 0.049), ('Hogwarts', 0.049), ('Gringotts Bank', 0.038), ('Dumbledore', 0.104)]\n",
            "Quirrell's head\n",
            "Voldemort, whose face is attached to the back of *,\n",
            "Hogwarts\n",
            "Hogwarts School of Witchcraft and Wizardry\n",
            "Harry Potter\n",
            "[('Hogwarts', 0.636), ('*,', 0.149), (\"the school's infirmary\", 0.082), ('Privet Drive', 0.261), ('Dursleys', 0.126)]\n",
            "Hogwarts\n",
            "Hogwarts School of Witchcraft and Wizardry\n",
            "Dudley\n",
            "[('Privet Drive', 0.308), ('Gryffindor', 0.046), ('Hogwarts', 0.024), ('bullying son', 0.023), ('*,', 0.063)]\n",
            "Privet Drive\n",
            "Privet Drive\n",
            "Draco Malfoy\n",
            "[('first-year student', 0.161), ('Hogwarts', 0.181), ('Harry runs afoul of *,', 0.046), ('Slytherin', 0.06), ('*,', 0.057)]\n",
            "first-year student\n",
            "Hogwarts\n",
            "Hogwarts School of Witchcraft and Wizardry\n",
            "Severus Snape\n",
            "[('Potions master', 0.669), ('protecting Harry', 0.205), (\"Harry's broom and let the troll into the school\", 0.03), ('Hogwarts', 0.016), ('Gringotts Bank', 0.015)]\n",
            "Potions master\n",
            "protecting Harry\n",
            "Harry's broom and let the troll into the school\n",
            "Hogwarts\n",
            "Hogwarts School of Witchcraft and Wizardry\n",
            "Lily Potter\n",
            "[('Hogwarts School of Witchcraft and Wizardry', 0.477), ('Hogwarts', 0.391), ('Gringotts Bank', 0.016), ('*,', 0.071), ('*', 0.054)]\n",
            "Hogwarts School of Witchcraft and Wizardry\n",
            "Hogwarts School of Witchcraft and Wizardry\n",
            "Hermione Granger\n",
            "[('Hogwarts', 0.573), ('*,', 0.22), ('Privet Drive', 0.057), ('Gryffindor', 0.104), ('Harry befriends fellow first-year Ronald Weasley', 0.033)]\n",
            "Hogwarts\n",
            "Hogwarts School of Witchcraft and Wizardry\n",
            "Rubeus Hagrid\n",
            "[('Hogwarts School of Witchcraft and Wizardry', 0.864), ('Hogwarts', 0.419), ('*,', 0.08), ('Gringotts Bank', 0.351), ('vault', 0.551)]\n",
            "Hogwarts School of Witchcraft and Wizardry\n",
            "Hogwarts School of Witchcraft and Wizardry\n",
            "Ronald Weasley\n",
            "[('Hogwarts', 0.34), ('Snape', 0.132), ('first-year', 0.085), ('Privet Drive', 0.058), ('*,', 0.023)]\n",
            "Hogwarts\n",
            "Hogwarts School of Witchcraft and Wizardry\n"
          ]
        }
      ]
    },
    {
      "cell_type": "code",
      "source": [
        "print(person_to_location)"
      ],
      "metadata": {
        "colab": {
          "base_uri": "https://localhost:8080/"
        },
        "id": "epRAu1-Ujn5-",
        "outputId": "c8b72eb1-9102-4f98-f584-4589e45bd236"
      },
      "execution_count": null,
      "outputs": [
        {
          "output_type": "stream",
          "name": "stdout",
          "text": [
            "{'Nicolas Flamel': 'Hogwarts School of Witchcraft and Wizardry', 'Albus Dumbledore': 'Hogwarts School of Witchcraft and Wizardry', 'Firenze': 'Hogwarts School of Witchcraft and Wizardry', 'Quirrell': 'Hogwarts School of Witchcraft and Wizardry', 'Hedwig': 'Hogwarts School of Witchcraft and Wizardry', 'Voldemort': 'Hogwarts School of Witchcraft and Wizardry', 'Harry Potter': 'Hogwarts School of Witchcraft and Wizardry', 'Dudley': 'Privet Drive', 'Draco Malfoy': 'Hogwarts School of Witchcraft and Wizardry', 'Severus Snape': 'Hogwarts School of Witchcraft and Wizardry', 'Lily Potter': 'Hogwarts School of Witchcraft and Wizardry', 'Hermione Granger': 'Hogwarts School of Witchcraft and Wizardry', 'Rubeus Hagrid': 'Hogwarts School of Witchcraft and Wizardry', 'Ronald Weasley': 'Hogwarts School of Witchcraft and Wizardry'}\n"
          ]
        }
      ]
    },
    {
      "cell_type": "code",
      "source": [
        "from getpass import getpass\n",
        "print('Enter OpenAI API key:')\n",
        "openai_api_key = getpass()"
      ],
      "metadata": {
        "colab": {
          "base_uri": "https://localhost:8080/"
        },
        "id": "o-0TZhQSfZsO",
        "outputId": "a98e9194-27a7-4dd2-f6e3-a8062d06d5c9"
      },
      "execution_count": null,
      "outputs": [
        {
          "name": "stdout",
          "output_type": "stream",
          "text": [
            "Enter OpenAI API key:\n",
            "··········\n"
          ]
        }
      ]
    },
    {
      "cell_type": "code",
      "source": [
        "import openai\n",
        "openai.api_key = openai_api_key\n",
        "\n",
        "def get_gpt3_result(prompt):\n",
        "  response = openai.Completion.create(\n",
        "    engine=\"text-curie-001\",\n",
        "    prompt = prompt,\n",
        "    temperature=0.5,\n",
        "    max_tokens=64,\n",
        "    top_p=1,\n",
        "    frequency_penalty=0,\n",
        "    presence_penalty=0,\n",
        "    stop=[\"###\"]\n",
        "  )\n",
        "  return response['choices'][0]['text']"
      ],
      "metadata": {
        "id": "yW3cG1LkfXQy"
      },
      "execution_count": null,
      "outputs": []
    },
    {
      "cell_type": "markdown",
      "source": [
        "### Generate Location Information:"
      ],
      "metadata": {
        "id": "2wPJoeFFowK1"
      }
    },
    {
      "cell_type": "code",
      "source": [
        "location_info = {}\n",
        "for loc in locations:\n",
        "  # location_info[loc] = {}\n",
        "  location_info[loc][\"connections\"] = list(enhanced_clean_map[loc])\n"
      ],
      "metadata": {
        "id": "edbqR_Wrr-Fy"
      },
      "execution_count": null,
      "outputs": []
    },
    {
      "cell_type": "code",
      "source": [
        "\n",
        "def get_location_description(story, location):\n",
        "    prompt = \"Story:\\n{}\\nWhat is {}?\\n\".format(story, location)\n",
        "  # print(prompt)\n",
        "    result = get_gpt3_result(prompt)\n",
        "    return result.strip()\n",
        "\n",
        "def get_location_appearance(story, location):\n",
        "    prompt = \"Story:\\n{}\\nDescribe the appearance of {}:\\n\".format(story, location)\n",
        "  # print(prompt)\n",
        "    result = get_gpt3_result(prompt)\n",
        "    return result.strip()\n"
      ],
      "metadata": {
        "id": "RHNFZlYJf394"
      },
      "execution_count": null,
      "outputs": []
    },
    {
      "cell_type": "code",
      "source": [
        "for loc in locations:\n",
        "  print(\"------------------------\")\n",
        "  print(loc)\n",
        "  location_info[loc][\"description\"] = get_location_description(hp_story, loc)\n",
        "  location_info[loc][\"appearance\"] = get_location_appearance(hp_story, loc)\n",
        "  print(location_info[loc][\"description\"])\n",
        "  print(location_info[loc][\"appearance\"])"
      ],
      "metadata": {
        "colab": {
          "base_uri": "https://localhost:8080/"
        },
        "id": "xgg-xrRayAxM",
        "outputId": "edf0831f-1daf-43bd-edcb-43e7ae8f8ffb"
      },
      "execution_count": null,
      "outputs": [
        {
          "output_type": "stream",
          "name": "stdout",
          "text": [
            "------------------------\n",
            "Diagon Alley\n",
            "Diagon Alley is a hidden wizard commerce and retail section in London.\n",
            "Diagon Alley is a hidden section of London where wizards can purchase supplies and merchandise. It is also home to Gringotts Wizarding Bank, the only bank allowed to handle magic money. The streets are cobblestone and lined with shops, including Ollivander's Wand Shop, which sells wands\n",
            "------------------------\n",
            "Gringotts Wizarding Bank\n",
            "Gringotts Wizarding Bank is a bank where Harry's parents left him a fortune.\n",
            "Gringotts Wizarding Bank is a large, forbidding building with a roof that is a tiled green and black. There are several large, bronze doors with ornate handles.\n",
            "------------------------\n",
            "the Hogwarts Express\n",
            "The Hogwarts Express is a magical train that takes students to Hogwarts School of Witchcraft and Wizardry.\n",
            "The Hogwarts Express is a long, narrow, steam locomotive with three carriages. The first carriage is for the school's staff and the headmaster. The second carriage is for the students and the third carriage is for luggage.\n",
            "------------------------\n",
            "the Mirror of Erised\n",
            "The Mirror of Erised is a mirror that shows what the viewer most desires. It is featured in the novel \"Harry Potter and the Philosopher's Stone\". The mirror is owned by the headmaster of Hogwarts, Albus Dumbledore.\n",
            "The Mirror of Erised is a large, ornate, antique mirror that displays what the viewer most desires.\n",
            "------------------------\n",
            "Privet Drive\n",
            "Privet Drive is the name of the home of Vernon and Petunia Dursley, Harry's aunt and uncle. Vernon is a mean, abusive man and Petunia is a timid woman who can't stand up to Vernon. Dudley, Harry's son, is a bully and the worst of all is his\n",
            "The house on Privet Drive is a typical suburban home. It is a two-story house with a white exterior and a green door. The front of the house has a small porch and a green door.\n",
            "------------------------\n",
            "Hogwarts School of Witchcraft and Wizardry\n",
            "Hogwarts School of Witchcraft and Wizardry is a magic school where students learn to cast spells and fight against evil.\n",
            "The Hogwarts School of Witchcraft and Wizardry is a grand, magical building with turrets and spires. The roof is covered in a greenish-white magical substance that sparkles in the light. The school's walls are made of a deep blue stone.\n",
            "------------------------\n",
            "Platform 9¾\n",
            "Platform 9¾ is a platform on the Hogwarts Express that only allows students who are sorted into Gryffindor to board.\n",
            "Platform 9¾ is a hidden platform on the London King's Cross railway station that only appears when the conductor is carrying the Hogwarts Express. It is a small, dark, and deserted platform that is only accessible through a trapdoor.\n",
            "------------------------\n",
            "King's Cross railway station\n",
            "King's Cross railway station is a railway station in London that serves the East London line and is the terminus of the Charing Cross branch of the London Underground.\n",
            "King's Cross railway station is a large, imposing building. The platform is hidden behind a curtain of ivy, and is accessible only by a secret door.\n",
            "------------------------\n",
            "the Dursleys\n",
            "The Dursleys are Harry's abusive aunt and uncle, Vernon and Petunia Dursley and their bullying son, Dudley.\n",
            "Vernon and Petunia Dursley are a mean-looking couple and their son, Dudley, is a large and bullying child.\n"
          ]
        }
      ]
    },
    {
      "cell_type": "code",
      "source": [
        "print(location_info)"
      ],
      "metadata": {
        "colab": {
          "base_uri": "https://localhost:8080/"
        },
        "id": "96tyRU_ZtwFS",
        "outputId": "e4c938fb-2db3-48be-80b4-e1cfd4428a0b"
      },
      "execution_count": null,
      "outputs": [
        {
          "output_type": "stream",
          "name": "stdout",
          "text": [
            "{'Diagon Alley': {'connections': ['Hogwarts School of Witchcraft and Wizardry', 'the Mirror of Erised', 'Gringotts Wizarding Bank', 'the Dursleys'], 'description': 'Diagon Alley is a hidden wizard commerce and retail section in London.', 'appearance': \"Diagon Alley is a hidden section of London where wizards can purchase supplies and merchandise. It is also home to Gringotts Wizarding Bank, the only bank allowed to handle magic money. The streets are cobblestone and lined with shops, including Ollivander's Wand Shop, which sells wands\"}, 'Gringotts Wizarding Bank': {'connections': ['Hogwarts School of Witchcraft and Wizardry', 'Diagon Alley'], 'description': \"Gringotts Wizarding Bank is a bank where Harry's parents left him a fortune.\", 'appearance': 'Gringotts Wizarding Bank is a large, forbidding building with a roof that is a tiled green and black. There are several large, bronze doors with ornate handles.'}, 'the Hogwarts Express': {'connections': [\"King's Cross railway station\"], 'description': 'The Hogwarts Express is a magical train that takes students to Hogwarts School of Witchcraft and Wizardry.', 'appearance': \"The Hogwarts Express is a long, narrow, steam locomotive with three carriages. The first carriage is for the school's staff and the headmaster. The second carriage is for the students and the third carriage is for luggage.\"}, 'the Mirror of Erised': {'connections': ['Diagon Alley'], 'description': 'The Mirror of Erised is a mirror that shows what the viewer most desires. It is featured in the novel \"Harry Potter and the Philosopher\\'s Stone\". The mirror is owned by the headmaster of Hogwarts, Albus Dumbledore.', 'appearance': 'The Mirror of Erised is a large, ornate, antique mirror that displays what the viewer most desires.'}, 'Privet Drive': {'connections': ['the Dursleys'], 'description': \"Privet Drive is the name of the home of Vernon and Petunia Dursley, Harry's aunt and uncle. Vernon is a mean, abusive man and Petunia is a timid woman who can't stand up to Vernon. Dudley, Harry's son, is a bully and the worst of all is his\", 'appearance': 'The house on Privet Drive is a typical suburban home. It is a two-story house with a white exterior and a green door. The front of the house has a small porch and a green door.'}, 'Hogwarts School of Witchcraft and Wizardry': {'connections': ['Diagon Alley', \"King's Cross railway station\", 'Gringotts Wizarding Bank'], 'description': 'Hogwarts School of Witchcraft and Wizardry is a magic school where students learn to cast spells and fight against evil.', 'appearance': \"The Hogwarts School of Witchcraft and Wizardry is a grand, magical building with turrets and spires. The roof is covered in a greenish-white magical substance that sparkles in the light. The school's walls are made of a deep blue stone.\"}, 'Platform 9¾': {'connections': [\"King's Cross railway station\"], 'description': 'Platform 9¾ is a platform on the Hogwarts Express that only allows students who are sorted into Gryffindor to board.', 'appearance': \"Platform 9¾ is a hidden platform on the London King's Cross railway station that only appears when the conductor is carrying the Hogwarts Express. It is a small, dark, and deserted platform that is only accessible through a trapdoor.\"}, \"King's Cross railway station\": {'connections': ['Hogwarts School of Witchcraft and Wizardry', 'the Hogwarts Express', 'Platform 9¾'], 'description': \"King's Cross railway station is a railway station in London that serves the East London line and is the terminus of the Charing Cross branch of the London Underground.\", 'appearance': \"King's Cross railway station is a large, imposing building. The platform is hidden behind a curtain of ivy, and is accessible only by a secret door.\"}, 'the Dursleys': {'connections': ['Diagon Alley', 'Privet Drive'], 'description': \"The Dursleys are Harry's abusive aunt and uncle, Vernon and Petunia Dursley and their bullying son, Dudley.\", 'appearance': 'Vernon and Petunia Dursley are a mean-looking couple and their son, Dudley, is a large and bullying child.'}}\n"
          ]
        }
      ]
    },
    {
      "cell_type": "code",
      "source": [
        "import json\n",
        "    \n",
        "with open(\"location.json\", \"w\") as outfile:\n",
        "    json.dump(location_info, outfile)"
      ],
      "metadata": {
        "id": "llazysRHt1Mu"
      },
      "execution_count": null,
      "outputs": []
    },
    {
      "cell_type": "code",
      "source": [
        "import string\n",
        "def get_person_description(story, person):\n",
        "  prompt = \"Story:\\n{}\\nDescribe {} in the story:\\n\".format(story, person)\n",
        "  # print(prompt)\n",
        "  result = get_gpt3_result(prompt)\n",
        "  \n",
        "  return result.strip()\n",
        "\n",
        "def get_person_appearance(story, person):\n",
        "    prompt = \"Story:\\n{}\\nDescribe the appearance of {}:\\n\".format(story, person)\n",
        "  # print(prompt)\n",
        "    result = get_gpt3_result(prompt)\n",
        "    return result.strip()\n"
      ],
      "metadata": {
        "id": "Bj3-_L9jwoyZ"
      },
      "execution_count": null,
      "outputs": []
    },
    {
      "cell_type": "code",
      "source": [
        "character_info = {}"
      ],
      "metadata": {
        "id": "uy8QSGmz26A2"
      },
      "execution_count": null,
      "outputs": []
    },
    {
      "cell_type": "code",
      "source": [
        "for p in people:\n",
        "  print(\"------------------------\")\n",
        "  print(p)\n",
        "  character_info[p] = {}\n",
        "  p_description = get_person_description(hp_story, p)\n",
        "  p_appearance = get_person_appearance(hp_story, p)\n",
        "  # items_wearing = get_person_wearing(hp_story, p, p_persona, p_appearance)\n",
        "  print(p_description)\n",
        "  print(p_appearance)\n",
        "  character_info[p]['description'] = p_description\n",
        "  character_info[p]['appearance'] = p_appearance\n"
      ],
      "metadata": {
        "colab": {
          "base_uri": "https://localhost:8080/"
        },
        "id": "gKFeW5mN5UXo",
        "outputId": "6562f0d6-ce64-4775-aa8f-1e8c953c170b"
      },
      "execution_count": null,
      "outputs": [
        {
          "output_type": "stream",
          "name": "stdout",
          "text": [
            "------------------------\n",
            "Nicolas Flamel\n",
            "Nicolas Flamel is a character in the story who is mentioned several times. He is a French man who has been alive for centuries and is known for having the philosopher's stone, which is a stone that can turn any metal into pure gold.\n",
            "Nicolas Flamel is an old, bald wizard with a long white beard.\n",
            "------------------------\n",
            "Albus Dumbledore\n",
            "Albus Dumbledore is the headmaster of Hogwarts School of Witchcraft and Wizardry and a highly respected member of the wizarding community. He is well-versed in magic and is able to cast powerful spells. Dumbledore is also a noted expert on the Philosopher's Stone, an artefact that is said to\n",
            "Albus Dumbledore is a tall, thin wizard with a long white beard and kind eyes. He wears a long, flowing white robe and a pointed wizard's hat.\n",
            "------------------------\n",
            "Firenze\n",
            "Firenze is a forest centaur who teaches Harry about magic and Voldemort's plot to steal the philosopher's stone.\n",
            "Firenze has a humanoid form, but his body is covered in a half-man, half-horse coat of fur. He has a long, pointed nose, bright green eyes, and short, white hair.\n",
            "------------------------\n",
            "Quirrell\n",
            "Quirrell is a Defence Against the Dark Arts teacher who seems to be under the control of Voldemort.\n",
            "Quirrell's appearance is that of a kindly, elderly wizard.\n",
            "------------------------\n",
            "Hedwig\n",
            "Hedwig is a small, brown owl that Harry purchased from Ollivander. She is very loyal to Harry and follows him everywhere.\n",
            "Hedwig is a large, black owl with a yellow beak and auburn feathers.\n",
            "------------------------\n",
            "Voldemort\n",
            "Voldemort is a dark and powerful wizard who killed Harry's parents. He is obsessed with obtaining the philosopher's stone, which will restore his body and allow him to dominate the wizarding world.\n",
            "Voldemort is a dark, hooded figure with a snake-like face.\n",
            "------------------------\n",
            "Harry Potter\n",
            "Harry Potter is a young, talented wizard who is hated and feared by most of the people in the wizarding world because of Lord Voldemort, a powerful dark wizard who killed Harry's parents. However, Harry is famous in the wizarding world and is the only one who can stop Voldemort. Harry is also the only\n",
            "Harry is a young, thin boy with messy, black hair. He wears round, brown glasses and a pointed wizard's hat.\n",
            "------------------------\n",
            "Dudley\n",
            "Dudley is a bully and Vernon's son. He is always picking on Harry and is always trying to get him into trouble.\n",
            "Dudley appears to be a normal, average-sized boy. He is not particularly muscular or skinny, but he is not particularly bulky either. He has a round face and big, round eyes.\n",
            "------------------------\n",
            "Draco Malfoy\n",
            "Draco Malfoy is a first-year student at Hogwarts and a member of Slytherin, known for its dark wizards. He is cruel to Harry and Ron, and unsuccessfully tries to fool them into risking expulsion.\n",
            "Draco Malfoy is a mean-looking, sneering first-year student who is often a bully to Harry and Ron. He has greasy, oily hair and a hooked nose.\n",
            "------------------------\n",
            "Severus Snape\n",
            "Severus Snape is a Potions master at Hogwarts who favours Slytherin while seeking to fail Harry. He is initially suspicious of Harry, but later becomes his friend.\n",
            "Severus Snape is a tall, thin man with a long, pale face and greasy black hair that hangs in his face. He has a scar on his right cheek and a cold, calculating look in his eyes.\n",
            "------------------------\n",
            "Lily Potter\n",
            "Lily Potter is a kind and loving woman who died to protect her son.\n",
            "Lily Potter is a beautiful woman with long, curly, black hair. She wears glasses and often has a happy, excited expression on her face.\n",
            "------------------------\n",
            "Hermione Granger\n",
            "Hermione is a smart, intuitive young woman who is not afraid to stand up for what she believes in. She is also a very good friend to Harry and Ron.\n",
            "Hermione is a young woman with frizzy brown hair and large brown eyes. She is very intelligent and is one of Harry's best friends at Hogwarts.\n",
            "------------------------\n",
            "Rubeus Hagrid\n",
            "Rubeus Hagrid is a half-giant who takes Harry to Diagon Alley, the hidden wizard commerce and retail section in London, to buy school supplies and a wand. Hagrid is a kind and gentle giant, and Harry comes to like and trust him.\n",
            "Rubeus Hagrid is a half-giant who is very kind and gentle. He has a large, rough head and is always wearing a big smile.\n",
            "------------------------\n",
            "Ronald Weasley\n",
            "Ronald Weasley is a friendly and outgoing first-year student at Hogwarts School of Witchcraft and Wizardry. He befriends Harry Potter and Hermione Granger during their first year at the school, and the three become close friends. Ron is a skilled Quidditch player and enjoys participating in school activities.\n",
            "Ronald Weasley is a young, red-haired boy who is best friends with Harry Potter. He is often described as being clumsy, but is also brave and loyal.\n"
          ]
        }
      ]
    },
    {
      "cell_type": "code",
      "source": [
        "print(character_info)"
      ],
      "metadata": {
        "colab": {
          "base_uri": "https://localhost:8080/"
        },
        "id": "2FeQcbhE8jVP",
        "outputId": "d00cd3ef-d6d9-43f5-ad5a-04f96b15aff3"
      },
      "execution_count": null,
      "outputs": [
        {
          "output_type": "stream",
          "name": "stdout",
          "text": [
            "{'Nicolas Flamel': {'description': \"Nicolas Flamel is a character in the story who is mentioned several times. He is a French man who has been alive for centuries and is known for having the philosopher's stone, which is a stone that can turn any metal into pure gold.\", 'appearance': 'Nicolas Flamel is an old, bald wizard with a long white beard.'}, 'Albus Dumbledore': {'description': \"Albus Dumbledore is the headmaster of Hogwarts School of Witchcraft and Wizardry and a highly respected member of the wizarding community. He is well-versed in magic and is able to cast powerful spells. Dumbledore is also a noted expert on the Philosopher's Stone, an artefact that is said to\", 'appearance': \"Albus Dumbledore is a tall, thin wizard with a long white beard and kind eyes. He wears a long, flowing white robe and a pointed wizard's hat.\"}, 'Firenze': {'description': \"Firenze is a forest centaur who teaches Harry about magic and Voldemort's plot to steal the philosopher's stone.\", 'appearance': 'Firenze has a humanoid form, but his body is covered in a half-man, half-horse coat of fur. He has a long, pointed nose, bright green eyes, and short, white hair.'}, 'Quirrell': {'description': 'Quirrell is a Defence Against the Dark Arts teacher who seems to be under the control of Voldemort.', 'appearance': \"Quirrell's appearance is that of a kindly, elderly wizard.\"}, 'Hedwig': {'description': 'Hedwig is a small, brown owl that Harry purchased from Ollivander. She is very loyal to Harry and follows him everywhere.', 'appearance': 'Hedwig is a large, black owl with a yellow beak and auburn feathers.'}, 'Voldemort': {'description': \"Voldemort is a dark and powerful wizard who killed Harry's parents. He is obsessed with obtaining the philosopher's stone, which will restore his body and allow him to dominate the wizarding world.\", 'appearance': 'Voldemort is a dark, hooded figure with a snake-like face.'}, 'Harry Potter': {'description': \"Harry Potter is a young, talented wizard who is hated and feared by most of the people in the wizarding world because of Lord Voldemort, a powerful dark wizard who killed Harry's parents. However, Harry is famous in the wizarding world and is the only one who can stop Voldemort. Harry is also the only\", 'appearance': \"Harry is a young, thin boy with messy, black hair. He wears round, brown glasses and a pointed wizard's hat.\"}, 'Dudley': {'description': \"Dudley is a bully and Vernon's son. He is always picking on Harry and is always trying to get him into trouble.\", 'appearance': 'Dudley appears to be a normal, average-sized boy. He is not particularly muscular or skinny, but he is not particularly bulky either. He has a round face and big, round eyes.'}, 'Draco Malfoy': {'description': 'Draco Malfoy is a first-year student at Hogwarts and a member of Slytherin, known for its dark wizards. He is cruel to Harry and Ron, and unsuccessfully tries to fool them into risking expulsion.', 'appearance': 'Draco Malfoy is a mean-looking, sneering first-year student who is often a bully to Harry and Ron. He has greasy, oily hair and a hooked nose.'}, 'Severus Snape': {'description': 'Severus Snape is a Potions master at Hogwarts who favours Slytherin while seeking to fail Harry. He is initially suspicious of Harry, but later becomes his friend.', 'appearance': 'Severus Snape is a tall, thin man with a long, pale face and greasy black hair that hangs in his face. He has a scar on his right cheek and a cold, calculating look in his eyes.'}, 'Lily Potter': {'description': 'Lily Potter is a kind and loving woman who died to protect her son.', 'appearance': 'Lily Potter is a beautiful woman with long, curly, black hair. She wears glasses and often has a happy, excited expression on her face.'}, 'Hermione Granger': {'description': 'Hermione is a smart, intuitive young woman who is not afraid to stand up for what she believes in. She is also a very good friend to Harry and Ron.', 'appearance': \"Hermione is a young woman with frizzy brown hair and large brown eyes. She is very intelligent and is one of Harry's best friends at Hogwarts.\"}, 'Rubeus Hagrid': {'description': 'Rubeus Hagrid is a half-giant who takes Harry to Diagon Alley, the hidden wizard commerce and retail section in London, to buy school supplies and a wand. Hagrid is a kind and gentle giant, and Harry comes to like and trust him.', 'appearance': 'Rubeus Hagrid is a half-giant who is very kind and gentle. He has a large, rough head and is always wearing a big smile.'}, 'Ronald Weasley': {'description': 'Ronald Weasley is a friendly and outgoing first-year student at Hogwarts School of Witchcraft and Wizardry. He befriends Harry Potter and Hermione Granger during their first year at the school, and the three become close friends. Ron is a skilled Quidditch player and enjoys participating in school activities.', 'appearance': 'Ronald Weasley is a young, red-haired boy who is best friends with Harry Potter. He is often described as being clumsy, but is also brave and loyal.'}}\n"
          ]
        }
      ]
    },
    {
      "cell_type": "code",
      "source": [
        "for char in character_info:\n",
        "  character_info[char][\"location\"] = person_to_location[char]"
      ],
      "metadata": {
        "id": "AfK9dI1u8mlh"
      },
      "execution_count": null,
      "outputs": []
    },
    {
      "cell_type": "code",
      "source": [
        "print(character_info)"
      ],
      "metadata": {
        "colab": {
          "base_uri": "https://localhost:8080/"
        },
        "id": "Z1xmx4hb8ttq",
        "outputId": "99abdcd0-7ad2-40c6-dd3c-1abb1356f914"
      },
      "execution_count": null,
      "outputs": [
        {
          "output_type": "stream",
          "name": "stdout",
          "text": [
            "{'Nicolas Flamel': {'description': \"Nicolas Flamel is a character in the story who is mentioned several times. He is a French man who has been alive for centuries and is known for having the philosopher's stone, which is a stone that can turn any metal into pure gold.\", 'appearance': 'Nicolas Flamel is an old, bald wizard with a long white beard.', 'location': 'Hogwarts School of Witchcraft and Wizardry'}, 'Albus Dumbledore': {'description': \"Albus Dumbledore is the headmaster of Hogwarts School of Witchcraft and Wizardry and a highly respected member of the wizarding community. He is well-versed in magic and is able to cast powerful spells. Dumbledore is also a noted expert on the Philosopher's Stone, an artefact that is said to\", 'appearance': \"Albus Dumbledore is a tall, thin wizard with a long white beard and kind eyes. He wears a long, flowing white robe and a pointed wizard's hat.\", 'location': 'Hogwarts School of Witchcraft and Wizardry'}, 'Firenze': {'description': \"Firenze is a forest centaur who teaches Harry about magic and Voldemort's plot to steal the philosopher's stone.\", 'appearance': 'Firenze has a humanoid form, but his body is covered in a half-man, half-horse coat of fur. He has a long, pointed nose, bright green eyes, and short, white hair.', 'location': 'Hogwarts School of Witchcraft and Wizardry'}, 'Quirrell': {'description': 'Quirrell is a Defence Against the Dark Arts teacher who seems to be under the control of Voldemort.', 'appearance': \"Quirrell's appearance is that of a kindly, elderly wizard.\", 'location': 'Hogwarts School of Witchcraft and Wizardry'}, 'Hedwig': {'description': 'Hedwig is a small, brown owl that Harry purchased from Ollivander. She is very loyal to Harry and follows him everywhere.', 'appearance': 'Hedwig is a large, black owl with a yellow beak and auburn feathers.', 'location': 'Hogwarts School of Witchcraft and Wizardry'}, 'Voldemort': {'description': \"Voldemort is a dark and powerful wizard who killed Harry's parents. He is obsessed with obtaining the philosopher's stone, which will restore his body and allow him to dominate the wizarding world.\", 'appearance': 'Voldemort is a dark, hooded figure with a snake-like face.', 'location': 'Hogwarts School of Witchcraft and Wizardry'}, 'Harry Potter': {'description': \"Harry Potter is a young, talented wizard who is hated and feared by most of the people in the wizarding world because of Lord Voldemort, a powerful dark wizard who killed Harry's parents. However, Harry is famous in the wizarding world and is the only one who can stop Voldemort. Harry is also the only\", 'appearance': \"Harry is a young, thin boy with messy, black hair. He wears round, brown glasses and a pointed wizard's hat.\", 'location': 'Hogwarts School of Witchcraft and Wizardry'}, 'Dudley': {'description': \"Dudley is a bully and Vernon's son. He is always picking on Harry and is always trying to get him into trouble.\", 'appearance': 'Dudley appears to be a normal, average-sized boy. He is not particularly muscular or skinny, but he is not particularly bulky either. He has a round face and big, round eyes.', 'location': 'Privet Drive'}, 'Draco Malfoy': {'description': 'Draco Malfoy is a first-year student at Hogwarts and a member of Slytherin, known for its dark wizards. He is cruel to Harry and Ron, and unsuccessfully tries to fool them into risking expulsion.', 'appearance': 'Draco Malfoy is a mean-looking, sneering first-year student who is often a bully to Harry and Ron. He has greasy, oily hair and a hooked nose.', 'location': 'Hogwarts School of Witchcraft and Wizardry'}, 'Severus Snape': {'description': 'Severus Snape is a Potions master at Hogwarts who favours Slytherin while seeking to fail Harry. He is initially suspicious of Harry, but later becomes his friend.', 'appearance': 'Severus Snape is a tall, thin man with a long, pale face and greasy black hair that hangs in his face. He has a scar on his right cheek and a cold, calculating look in his eyes.', 'location': 'Hogwarts School of Witchcraft and Wizardry'}, 'Lily Potter': {'description': 'Lily Potter is a kind and loving woman who died to protect her son.', 'appearance': 'Lily Potter is a beautiful woman with long, curly, black hair. She wears glasses and often has a happy, excited expression on her face.', 'location': 'Hogwarts School of Witchcraft and Wizardry'}, 'Hermione Granger': {'description': 'Hermione is a smart, intuitive young woman who is not afraid to stand up for what she believes in. She is also a very good friend to Harry and Ron.', 'appearance': \"Hermione is a young woman with frizzy brown hair and large brown eyes. She is very intelligent and is one of Harry's best friends at Hogwarts.\", 'location': 'Hogwarts School of Witchcraft and Wizardry'}, 'Rubeus Hagrid': {'description': 'Rubeus Hagrid is a half-giant who takes Harry to Diagon Alley, the hidden wizard commerce and retail section in London, to buy school supplies and a wand. Hagrid is a kind and gentle giant, and Harry comes to like and trust him.', 'appearance': 'Rubeus Hagrid is a half-giant who is very kind and gentle. He has a large, rough head and is always wearing a big smile.', 'location': 'Hogwarts School of Witchcraft and Wizardry'}, 'Ronald Weasley': {'description': 'Ronald Weasley is a friendly and outgoing first-year student at Hogwarts School of Witchcraft and Wizardry. He befriends Harry Potter and Hermione Granger during their first year at the school, and the three become close friends. Ron is a skilled Quidditch player and enjoys participating in school activities.', 'appearance': 'Ronald Weasley is a young, red-haired boy who is best friends with Harry Potter. He is often described as being clumsy, but is also brave and loyal.', 'location': 'Hogwarts School of Witchcraft and Wizardry'}}\n"
          ]
        }
      ]
    },
    {
      "cell_type": "code",
      "source": [
        "with open(\"character.json\", \"w\") as outfile:\n",
        "    json.dump(character_info, outfile)"
      ],
      "metadata": {
        "id": "PwDMebzZ83mn"
      },
      "execution_count": null,
      "outputs": []
    },
    {
      "cell_type": "code",
      "source": [
        "def get_person_wearing(story, person, description, appearance):\n",
        "    prompt = \"Story:\\n{}\\nCharacter: {} {}\\nGive a short list of things {} is wearing in the story:\\n\".format(story, description, appearance, person)\n",
        "  # print(prompt)\n",
        "    result = get_gpt3_result(prompt)\n",
        "    item_list = []\n",
        "    for item in result.strip().split(\"\\n\"):\n",
        "      curr = []\n",
        "      for token in item[1:].lower().strip().split():\n",
        "        for punc in string.punctuation:\n",
        "          token = token.replace(punc, '')\n",
        "        for p in person.lower().split():\n",
        "          token = token.replace(p, '')\n",
        "        if token not in stop and token not in string.punctuation and \"wear\" not in token:\n",
        "          curr.append(token)\n",
        "      if len(curr) > 0 and len(curr) < 7:\n",
        "        item_list.append(\" \".join(curr))\n",
        "    return item_list\n",
        "\n",
        "def get_person_wielding(story, person, description, appearance):\n",
        "    prompt = \"Story:\\n{}\\nCharacter: {} {}\\nGive a short list of things {} is wielding in the story:\\n\".format(story, description, appearance, person)\n",
        "  # print(prompt)\n",
        "    result = get_gpt3_result(prompt)\n",
        "    item_list = []\n",
        "    for item in result.strip().split(\"\\n\"):\n",
        "      curr = []\n",
        "      for token in item[1:].lower().strip().split():\n",
        "        for punc in string.punctuation:\n",
        "          token = token.replace(punc, '')\n",
        "        for p in person.lower().split():\n",
        "          token = token.replace(p, '')\n",
        "        if token not in stop and token not in string.punctuation and \"wield\" not in token:\n",
        "          curr.append(token)\n",
        "      if len(curr) > 0 and len(curr) < 7:\n",
        "        item_list.append(\" \".join(curr))\n",
        "    return item_list"
      ],
      "metadata": {
        "id": "5-gHVmK5AmVN"
      },
      "execution_count": null,
      "outputs": []
    },
    {
      "cell_type": "code",
      "source": [
        "for p in people:\n",
        "  print(\"------------------------\")\n",
        "  print(p)\n",
        "  p_description = character_info[p]['description']\n",
        "  p_appearance = character_info[p]['appearance']\n",
        "  items_wearing = get_person_wearing(hp_story, p, p_description, p_appearance)\n",
        "  items_wielding = get_person_wielding(hp_story, p, p_description, p_appearance)\n",
        "  # print(p_description)\n",
        "  # print(p_appearance)\n",
        "  print(\"Wearing:\", items_wearing)\n",
        "  print(\"Wielding:\", items_wielding)\n",
        "  character_info[p]['items_wearing'] = items_wearing\n",
        "  character_info[p]['items_wielding'] = items_wielding\n",
        "  # for item in items_wearing:"
      ],
      "metadata": {
        "colab": {
          "base_uri": "https://localhost:8080/"
        },
        "id": "f9QGnwBtxwJK",
        "outputId": "2265773f-55ab-41fb-994b-6f5f7b9345ea"
      },
      "execution_count": null,
      "outputs": [
        {
          "output_type": "stream",
          "name": "stdout",
          "text": [
            "------------------------\n",
            "Nicolas Flamel\n",
            "Wearing: ['long white beard', 'french accent', 'robe']\n",
            "Wielding: ['philosophers stone', 'invisibility cloak', 'ability turn metal pure gold']\n",
            "------------------------\n",
            "Albus Dumbledore\n",
            "Wearing: ['long white robe', 'pointed wizards hat', 'beard']\n",
            "Wielding: ['wand', 'cloak turn user invisible', 'hat reveal viewers desired thing']\n",
            "------------------------\n",
            "Firenze\n",
            "Wearing: ['halfman halfhorse coat fur']\n",
            "Wielding: ['staff', 'bow arrow', 'shield']\n",
            "------------------------\n",
            "Quirrell\n",
            "Wearing: ['turban', 'purple robe', 'pair gloves', 'strange looking shoes']\n",
            "Wielding: ['sword', 'shield', 'hat', 'ive short list things hagrid harry', 'delivers']\n",
            "------------------------\n",
            "Hedwig\n",
            "Wearing: ['hogwarts acceptance letter', 'letter harrys parents', 'pair gloves', 'coat', 'scarf']\n",
            "Wielding: ['letter hogwarts', 'harrys wand', 'talons']\n",
            "------------------------\n",
            "Voldemort\n",
            "Wearing: ['black cloak', 'pointed wizards hat', 'black robes']\n",
            "Wielding: ['wand', 'cloak renders wearer invisible', 'ring allows speak snakes']\n",
            "------------------------\n",
            "Harry Potter\n",
            "Wearing: ['round brown glasses', 'pointed wizards hat', 'robe', 'long thin wand', 'dirty torn ragged clothes']\n",
            "Wielding: ['wand', 'broomstick', 'letter hogwarts', 'invisibility cloak']\n",
            "------------------------\n",
            "Dudley\n",
            "Wearing: ['red white striped shirt', 'brown jacket', 'jeans']\n",
            "Wielding: ['baseball bat', 'golf club', 'piece wood', 'tory']\n",
            "------------------------\n",
            "Draco Malfoy\n",
            "Wearing: ['dark green robes', 'purple turban', 'black shoes']\n",
            "Wielding: ['wand', 'pocketful rocks', 'school robe', 'diary', 'tory']\n",
            "------------------------\n",
            "Severus Snape\n",
            "Wearing: ['long black robe', 'pointed beard', 'black gloves']\n",
            "Wielding: ['wand', 'cloak', 'jinx harrys broom']\n",
            "------------------------\n",
            "Lily Potter\n",
            "Wearing: ['long curly black hair', 'glasses', 'happy excited expression']\n",
            "Wielding: ['wand', 'letter hogwarts', 'halfgiant named rubeus hagrid']\n",
            "------------------------\n",
            "Hermione Granger\n",
            "Wearing: ['white dress', 'green silver striped scarf', 'pair large black glasses', 'brown leather school bag']\n",
            "Wielding: ['wand', 'intelligence', 'courage', 'loyalty']\n",
            "------------------------\n",
            "Rubeus Hagrid\n",
            "Wearing: ['big smile']\n",
            "Wielding: ['large rough head', 'big smile']\n",
            "------------------------\n",
            "Ronald Weasley\n",
            "Wearing: ['green gold quidditch shirt', 'green gold quidditch shorts', 'green gold quidditch helmet', 'green gold quidditch socks']\n",
            "Wielding: ['wand', 'broomstick', 'quidditch game', 'school year', 'onald wand broomstick school year']\n"
          ]
        }
      ]
    },
    {
      "cell_type": "code",
      "source": [
        "print(character_info)"
      ],
      "metadata": {
        "colab": {
          "base_uri": "https://localhost:8080/"
        },
        "id": "kEUnvB3NCEGu",
        "outputId": "df738288-a52d-4e2e-e762-7862a40c7136"
      },
      "execution_count": null,
      "outputs": [
        {
          "output_type": "stream",
          "name": "stdout",
          "text": [
            "{'Nicolas Flamel': {'description': \"Nicolas Flamel is a character in the story who is mentioned several times. He is a French man who has been alive for centuries and is known for having the philosopher's stone, which is a stone that can turn any metal into pure gold.\", 'appearance': 'Nicolas Flamel is an old, bald wizard with a long white beard.', 'location': 'Hogwarts School of Witchcraft and Wizardry', 'items_wearing': ['long white beard', 'french accent', 'robe'], 'items_wielding': ['philosophers stone', 'invisibility cloak', 'ability turn metal pure gold']}, 'Albus Dumbledore': {'description': \"Albus Dumbledore is the headmaster of Hogwarts School of Witchcraft and Wizardry and a highly respected member of the wizarding community. He is well-versed in magic and is able to cast powerful spells. Dumbledore is also a noted expert on the Philosopher's Stone, an artefact that is said to\", 'appearance': \"Albus Dumbledore is a tall, thin wizard with a long white beard and kind eyes. He wears a long, flowing white robe and a pointed wizard's hat.\", 'location': 'Hogwarts School of Witchcraft and Wizardry', 'items_wearing': ['long white robe', 'pointed wizards hat', 'beard'], 'items_wielding': ['wand', 'cloak turn user invisible', 'hat reveal viewers desired thing']}, 'Firenze': {'description': \"Firenze is a forest centaur who teaches Harry about magic and Voldemort's plot to steal the philosopher's stone.\", 'appearance': 'Firenze has a humanoid form, but his body is covered in a half-man, half-horse coat of fur. He has a long, pointed nose, bright green eyes, and short, white hair.', 'location': 'Hogwarts School of Witchcraft and Wizardry', 'items_wearing': ['halfman halfhorse coat fur'], 'items_wielding': ['staff', 'bow arrow', 'shield']}, 'Quirrell': {'description': 'Quirrell is a Defence Against the Dark Arts teacher who seems to be under the control of Voldemort.', 'appearance': \"Quirrell's appearance is that of a kindly, elderly wizard.\", 'location': 'Hogwarts School of Witchcraft and Wizardry', 'items_wearing': ['turban', 'purple robe', 'pair gloves', 'strange looking shoes'], 'items_wielding': ['sword', 'shield', 'hat', 'ive short list things hagrid harry', 'delivers']}, 'Hedwig': {'description': 'Hedwig is a small, brown owl that Harry purchased from Ollivander. She is very loyal to Harry and follows him everywhere.', 'appearance': 'Hedwig is a large, black owl with a yellow beak and auburn feathers.', 'location': 'Hogwarts School of Witchcraft and Wizardry', 'items_wearing': ['hogwarts acceptance letter', 'letter harrys parents', 'pair gloves', 'coat', 'scarf'], 'items_wielding': ['letter hogwarts', 'harrys wand', 'talons']}, 'Voldemort': {'description': \"Voldemort is a dark and powerful wizard who killed Harry's parents. He is obsessed with obtaining the philosopher's stone, which will restore his body and allow him to dominate the wizarding world.\", 'appearance': 'Voldemort is a dark, hooded figure with a snake-like face.', 'location': 'Hogwarts School of Witchcraft and Wizardry', 'items_wearing': ['black cloak', 'pointed wizards hat', 'black robes'], 'items_wielding': ['wand', 'cloak renders wearer invisible', 'ring allows speak snakes']}, 'Harry Potter': {'description': \"Harry Potter is a young, talented wizard who is hated and feared by most of the people in the wizarding world because of Lord Voldemort, a powerful dark wizard who killed Harry's parents. However, Harry is famous in the wizarding world and is the only one who can stop Voldemort. Harry is also the only\", 'appearance': \"Harry is a young, thin boy with messy, black hair. He wears round, brown glasses and a pointed wizard's hat.\", 'location': 'Hogwarts School of Witchcraft and Wizardry', 'items_wearing': ['round brown glasses', 'pointed wizards hat', 'robe', 'long thin wand', 'dirty torn ragged clothes'], 'items_wielding': ['wand', 'broomstick', 'letter hogwarts', 'invisibility cloak']}, 'Dudley': {'description': \"Dudley is a bully and Vernon's son. He is always picking on Harry and is always trying to get him into trouble.\", 'appearance': 'Dudley appears to be a normal, average-sized boy. He is not particularly muscular or skinny, but he is not particularly bulky either. He has a round face and big, round eyes.', 'location': 'Privet Drive', 'items_wearing': ['red white striped shirt', 'brown jacket', 'jeans'], 'items_wielding': ['baseball bat', 'golf club', 'piece wood', 'tory']}, 'Draco Malfoy': {'description': 'Draco Malfoy is a first-year student at Hogwarts and a member of Slytherin, known for its dark wizards. He is cruel to Harry and Ron, and unsuccessfully tries to fool them into risking expulsion.', 'appearance': 'Draco Malfoy is a mean-looking, sneering first-year student who is often a bully to Harry and Ron. He has greasy, oily hair and a hooked nose.', 'location': 'Hogwarts School of Witchcraft and Wizardry', 'items_wearing': ['dark green robes', 'purple turban', 'black shoes'], 'items_wielding': ['wand', 'pocketful rocks', 'school robe', 'diary', 'tory']}, 'Severus Snape': {'description': 'Severus Snape is a Potions master at Hogwarts who favours Slytherin while seeking to fail Harry. He is initially suspicious of Harry, but later becomes his friend.', 'appearance': 'Severus Snape is a tall, thin man with a long, pale face and greasy black hair that hangs in his face. He has a scar on his right cheek and a cold, calculating look in his eyes.', 'location': 'Hogwarts School of Witchcraft and Wizardry', 'items_wearing': ['long black robe', 'pointed beard', 'black gloves'], 'items_wielding': ['wand', 'cloak', 'jinx harrys broom']}, 'Lily Potter': {'description': 'Lily Potter is a kind and loving woman who died to protect her son.', 'appearance': 'Lily Potter is a beautiful woman with long, curly, black hair. She wears glasses and often has a happy, excited expression on her face.', 'location': 'Hogwarts School of Witchcraft and Wizardry', 'items_wearing': ['long curly black hair', 'glasses', 'happy excited expression'], 'items_wielding': ['wand', 'letter hogwarts', 'halfgiant named rubeus hagrid']}, 'Hermione Granger': {'description': 'Hermione is a smart, intuitive young woman who is not afraid to stand up for what she believes in. She is also a very good friend to Harry and Ron.', 'appearance': \"Hermione is a young woman with frizzy brown hair and large brown eyes. She is very intelligent and is one of Harry's best friends at Hogwarts.\", 'location': 'Hogwarts School of Witchcraft and Wizardry', 'items_wearing': ['white dress', 'green silver striped scarf', 'pair large black glasses', 'brown leather school bag'], 'items_wielding': ['wand', 'intelligence', 'courage', 'loyalty']}, 'Rubeus Hagrid': {'description': 'Rubeus Hagrid is a half-giant who takes Harry to Diagon Alley, the hidden wizard commerce and retail section in London, to buy school supplies and a wand. Hagrid is a kind and gentle giant, and Harry comes to like and trust him.', 'appearance': 'Rubeus Hagrid is a half-giant who is very kind and gentle. He has a large, rough head and is always wearing a big smile.', 'location': 'Hogwarts School of Witchcraft and Wizardry', 'items_wearing': ['big smile'], 'items_wielding': ['large rough head', 'big smile']}, 'Ronald Weasley': {'description': 'Ronald Weasley is a friendly and outgoing first-year student at Hogwarts School of Witchcraft and Wizardry. He befriends Harry Potter and Hermione Granger during their first year at the school, and the three become close friends. Ron is a skilled Quidditch player and enjoys participating in school activities.', 'appearance': 'Ronald Weasley is a young, red-haired boy who is best friends with Harry Potter. He is often described as being clumsy, but is also brave and loyal.', 'location': 'Hogwarts School of Witchcraft and Wizardry', 'items_wearing': ['green gold quidditch shirt', 'green gold quidditch shorts', 'green gold quidditch helmet', 'green gold quidditch socks'], 'items_wielding': ['wand', 'broomstick', 'quidditch game', 'school year', 'onald wand broomstick school year']}}\n"
          ]
        }
      ]
    },
    {
      "cell_type": "code",
      "source": [
        "def get_personal_item_description(story, person, description, appearance, item):\n",
        "    prompt = \"{}\\n{}\\n{}\\nDescribe {} in a short sentence:\\n\".format(story, description, appearance, item)\n",
        "  # print(prompt)\n",
        "    result = get_gpt3_result(prompt)\n",
        "    return result.strip()"
      ],
      "metadata": {
        "id": "jigbG_rHCR9D"
      },
      "execution_count": null,
      "outputs": []
    },
    {
      "cell_type": "code",
      "source": [
        "items_wearing_info = {}\n",
        "items_wielding_info = {}\n",
        "for p in people:\n",
        "  print(\"------------------------\")\n",
        "  print(p)\n",
        "  items_wearing_info[p] = {}\n",
        "  items_wielding_info[p] = {}\n",
        "  p_description = character_info[p]['description']\n",
        "  p_appearance = character_info[p]['appearance']\n",
        "  items_wearing = character_info[p]['items_wearing'] \n",
        "  items_wielding = character_info[p]['items_wielding']\n",
        "  print(\"\\nWearing\")\n",
        "  for item in items_wearing:\n",
        "    item_description = get_personal_item_description(hp_story, p, p_description, p_appearance, item)\n",
        "    # print(item_description)\n",
        "    items_wearing_info[p][item] = item_description\n",
        "    print(\"- \" + item + \": \\n \" + item_description)\n",
        "  character_info[p][\"items_wearing_info\"] = items_wearing_info[p]\n",
        "  \n",
        "  print(\"\\nWielding\")\n",
        "  for item in items_wielding:\n",
        "    # print(item)\n",
        "    item_description = get_personal_item_description(hp_story, p, p_description, p_appearance, item)\n",
        "    # print(item_description)\n",
        "    items_wielding_info[p][item] = item_description\n",
        "    print(\"- \" + item + \": \\n \" + item_description)\n",
        "  character_info[p][\"items_wielding_info\"] = items_wielding_info[p]\n",
        "\n",
        "  # for item in items_wearing:"
      ],
      "metadata": {
        "colab": {
          "base_uri": "https://localhost:8080/"
        },
        "id": "7gvS2XgTDAWt",
        "outputId": "403755e9-d54c-451d-eea6-1994a19488f0"
      },
      "execution_count": null,
      "outputs": [
        {
          "output_type": "stream",
          "name": "stdout",
          "text": [
            "------------------------\n",
            "Nicolas Flamel\n",
            "\n",
            "Wearing\n",
            "- long white beard: \n",
            " The long white beard of Nicolas Flamel is what stands out the most about him.\n",
            "- french accent: \n",
            " Some french accents are harder to understand than others, but Nicolas Flamel's accent is generally easy to understand.\n",
            "- robe: \n",
            " The robe that Nicolas Flamel is wearing is a long, white robe.\n",
            "\n",
            "Wielding\n",
            "- philosophers stone: \n",
            " The philosopher's stone is a key item in the story that is mentioned several times. It is a stone that can turn any metal into pure gold, and it is sought by the evil Voldemort.\n",
            "- invisibility cloak: \n",
            " The invisibility cloak is a magical item that allows its owner to remain undetected.\n",
            "- ability turn metal pure gold: \n",
            " The stone allows the user to turn any metal into pure gold.\n",
            "------------------------\n",
            "Albus Dumbledore\n",
            "\n",
            "Wearing\n",
            "- long white robe: \n",
            " The robe is long and flowing, covering the entire wizard's body.\n",
            "- pointed wizards hat: \n",
            " The pointed wizards hat is a tall, pointed hat that is worn by wizards. It is typically white, but can be coloured in accordance with the wizard's clothing.\n",
            "- beard: \n",
            " Dumbledore's beard is long and white.\n",
            "\n",
            "Wielding\n",
            "- wand: \n",
            " A wand is a magical object used by wizards to cast spells.\n",
            "- cloak turn user invisible: \n",
            " The invisibility cloak turns its wearer invisible.\n",
            "- hat reveal viewers desired thing: \n",
            " The pointed wizard's hat reveals that the viewer's desired thing is underneath it.\n",
            "------------------------\n",
            "Firenze\n",
            "\n",
            "Wearing\n",
            "- halfman halfhorse coat fur: \n",
            " The fur is long and pointed, like a horse's mane.\n",
            "\n",
            "Wielding\n",
            "- staff: \n",
            " Dumbledore is the headmaster of Hogwarts School of Witchcraft and Wizardry. He is also Harry's mentor.\n",
            "- bow arrow: \n",
            " The bow and arrow is a projectile weapon that is fired from the hand.\n",
            "- shield: \n",
            " Dumbledore uses the shield to defend Harry and himself from Voldemort.\n",
            "------------------------\n",
            "Quirrell\n",
            "\n",
            "Wearing\n",
            "- turban: \n",
            " A turban is a type of headwear that is typically worn by men and women of Islamic faith. It is a cloth cap that is worn either flat on the head or folded up like a turban.\n",
            "- purple robe: \n",
            " The purple robe worn by Quirrell is unusual because it is made from a heavy fabric that covers the entire body.\n",
            "- pair gloves: \n",
            " Families in the wizarding world often dress up in costume on special occasions, such as Halloween. On Halloween, some people dress up as characters from books, movies, or TV shows.\n",
            "- strange looking shoes: \n",
            " The shoes are strange-looking and seem to be made out of metal.\n",
            "\n",
            "Wielding\n",
            "- sword: \n",
            " The sword is a long, thin blade.\n",
            "- shield: \n",
            " A shield is a device used to protect the body from physical harm.\n",
            "- hat: \n",
            " The Sorting Hat is a magical headpiece that sorts the first-years among four Hogwarts Houses – Gryffindor, Slytherin, Hufflepuff, and Ravenclaw.\n",
            "- ive short list things hagrid harry: \n",
            " Hagrid is a half-giant who takes Harry to Diagon Alley to buy school supplies and a wand. Harry befriends Ron Weasley and Hermione Granger while at Hogwarts. Harry's scar begins hurting and he passes out when he goes down the trapdoor to investigate the Philosopher's Stone. He wakes up in\n",
            "- delivers: \n",
            " Rubeus Hagrid takes Harry to Diagon Alley, the hidden wizard commerce and retail section in London and buys supplies for Harry's first year at Hogwarts.\n",
            "------------------------\n",
            "Hedwig\n",
            "\n",
            "Wearing\n",
            "- hogwarts acceptance letter: \n",
            " The letter announces that Harry Potter is a wizard and that he will be attending Hogwarts School of Witchcraft and Wizardry.\n",
            "- letter harrys parents: \n",
            " When Harry's acceptance letter arrives, it is revealed that his parents were also wizards. James and Lily Potter left Harry a fortune in Gringotts Wizarding Bank. Harry buys school supplies and a wand from Ollivander and befriends Ron and Hermione during his first year at Hogwarts.\n",
            "- pair gloves: \n",
            " The pair of gloves had the fingers cut off so that the wearer could not feel the contact of their hands with anything.\n",
            "- coat: \n",
            " The coat of the owl is black with a yellow beak.\n",
            "- scarf: \n",
            " A black and silver striped scarf is worn by Ron and Hermione.\n",
            "\n",
            "Wielding\n",
            "- letter hogwarts: \n",
            " The letter \"H\" is written in bright green ink and is emblazoned on a white background on the front of the letter.\n",
            "- harrys wand: \n",
            " Harry's wand is made of ash, oak, and holly.\n",
            "- talons: \n",
            " The talons of a bird are the sharp, curved nails that it uses to grasp and hold onto objects.\n",
            "------------------------\n",
            "Voldemort\n",
            "\n",
            "Wearing\n",
            "- black cloak: \n",
            " The black cloak is a magical item that helps protect the wearer from injury.\n",
            "- pointed wizards hat: \n",
            " The pointed wizard hat is a type of wizard hat that is most often associated with the wizarding world. It is specifically designed to protect the user's head from the sun and rain.\n",
            "- black robes: \n",
            " Black robes are worn by dark wizards.\n",
            "\n",
            "Wielding\n",
            "- wand: \n",
            " A wand is a wooden stick with a pointed end at one end, used by wizards to cast spells.\n",
            "- cloak renders wearer invisible: \n",
            " The invisibility cloak renders the wearer invisible.\n",
            "- ring allows speak snakes: \n",
            " The Ring allows its wearer to speak to snakes.\n",
            "------------------------\n",
            "Harry Potter\n",
            "\n",
            "Wearing\n",
            "- round brown glasses: \n",
            " They are round, brown glasses that help Harry see better.\n",
            "- pointed wizards hat: \n",
            " The pointed wizards hat is a special hat that helps Harry see in the dark.\n",
            "- robe: \n",
            " The robe Harry is wearing is blue with a silver trim and has the Gryffindor house crest on the left shoulder.\n",
            "- long thin wand: \n",
            " The wand has a long thin shaft and a round, bulbous end.\n",
            "- dirty torn ragged clothes: \n",
            " The clothes Harry is wearing are dirty and torn.\n",
            "\n",
            "Wielding\n",
            "- wand: \n",
            " A wand is a magic tool used by witches and wizards to cast spells.\n",
            "- broomstick: \n",
            " Broomsticks are used to fly on.\n",
            "- letter hogwarts: \n",
            " The letter Harry receives from Hogwarts School of Witchcraft and Wizardry reveals that his parents, James and Lily Potter, were wizards.\n",
            "- invisibility cloak: \n",
            " The invisibility cloak is a magical item that allows the user to become invisible.\n",
            "------------------------\n",
            "Dudley\n",
            "\n",
            "Wearing\n",
            "- red white striped shirt: \n",
            " The red, white, and blue striped shirt worn by Dudley is a typical school uniform.\n",
            "- brown jacket: \n",
            " The brown jacket has a large, hooded collar, and is zipped up all the way to the top.\n",
            "- jeans: \n",
            " jeans are a type of clothing that are worn by men.\n",
            "\n",
            "Wielding\n",
            "- baseball bat: \n",
            " The baseball bat is a wooden or metal club used in baseball.\n",
            "- golf club: \n",
            " A golf club is a tool that is used to hit a ball with.\n",
            "- piece wood: \n",
            " When wood is cut, the outer layer (the bark) is removed, and the wood is divided into small, even pieces.\n",
            "- tory: \n",
            " Vernon is a mean, overweight man who regularly mistreats Dudley.\n",
            "------------------------\n",
            "Draco Malfoy\n",
            "\n",
            "Wearing\n",
            "- dark green robes: \n",
            " The robes worn by Professor Quirrell are dark green.\n",
            "- purple turban: \n",
            " A purple turban is worn by a wizard or witch who is a professor or headmaster of a school.\n",
            "- black shoes: \n",
            " Black shoes are usually worn by people who work in a dirty environment.\n",
            "\n",
            "Wielding\n",
            "- wand: \n",
            " Wands are made of wood, feathers, and a core.\n",
            "- pocketful rocks: \n",
            " Pocketful rocks are small rocks that are often used as ornaments.\n",
            "- school robe: \n",
            " The robes worn by students at Hogwarts School of Witchcraft and Wizardry are colorful and distinctive.\n",
            "- diary: \n",
            " The diary is a small, thin book that is often kept hidden. It is used to record the thoughts and feelings of the owner.\n",
            "- tory: \n",
            " The Dursleys are a mean and abusive family who treat their only son, Dudley, terribly. They refuse to let Harry go to Hogwarts and are only happy when he does poorly in school.\n",
            "------------------------\n",
            "Severus Snape\n",
            "\n",
            "Wearing\n",
            "- long black robe: \n",
            " The long black robe is worn by Professor Severus Snape.\n",
            "- pointed beard: \n",
            " Severus Snape has a pointed beard.\n",
            "- black gloves: \n",
            " The gloves are black and cover the hands up to the middle of the fingers.\n",
            "\n",
            "Wielding\n",
            "- wand: \n",
            " Harry's wand is made from a holly tree branch with a phoenix feather core.\n",
            "- cloak: \n",
            " The invisibility cloak is a magical item that allows the wearer to remain undetected.\n",
            "- jinx harrys broom: \n",
            " Snape jinxed Harry's broom, causing it to buck him off during a Quidditch match and let a troll into the school.\n",
            "------------------------\n",
            "Lily Potter\n",
            "\n",
            "Wearing\n",
            "- long curly black hair: \n",
            " The woman's hair is long and curly.\n",
            "- glasses: \n",
            " Lily Potter wears glasses to see better.\n",
            "- happy excited expression: \n",
            " Lily was very happy and excited to see her son, Harry, for the first time.\n",
            "\n",
            "Wielding\n",
            "- wand: \n",
            " Harry purchases his wand from Ollivander. The core of his wand is made of wood from a beech tree, while the feathers of the phoenix that delivered the letter from Hogwarts School of Witchcraft and Wizardry are attached to the end.\n",
            "- letter hogwarts: \n",
            " Harry was accepted to attend Hogwarts School of Witchcraft and Wizardry and his parents were wizards.\n",
            "- halfgiant named rubeus hagrid: \n",
            " Hagrid is a half-giant who helps deliver Harry's acceptance letter to Hogwarts and later takes him to Diagon Alley to buy school supplies.\n",
            "------------------------\n",
            "Hermione Granger\n",
            "\n",
            "Wearing\n",
            "- white dress: \n",
            " The white dress is a formal dress worn by Hermione Granger. It has a high neckline, long sleeves, and a full skirt.\n",
            "- green silver striped scarf: \n",
            " The green silver striped scarf is a gift given to Harry by Ron Weasley. It is a very special scarf because it was made from the feather of the same phoenix bird that imbued Harry's wand with its power.\n",
            "- pair large black glasses: \n",
            " The pair of large black glasses is worn by Professor Quirrell, the Defence Against the Dark Arts teacher, who reveals that he jinxed Harry's broom and let the troll into the school.\n",
            "- brown leather school bag: \n",
            " The brown leather school bag is a common accessory for girls and young women who attend school. It is typically large enough to hold all of the student's school supplies, but is not too large or bulky to carry.\n",
            "\n",
            "Wielding\n",
            "- wand: \n",
            " A wand is a magical implement used by wizards and witches to cast spells.\n",
            "- intelligence: \n",
            " Intelligence is the ability to think abstractly and to problem solve.\n",
            "- courage: \n",
            " Courage is the ability to face fear and carry on.\n",
            "- loyalty: \n",
            " Hermione is loyal to her friends and will do anything to help them.\n",
            "------------------------\n",
            "Rubeus Hagrid\n",
            "\n",
            "Wearing\n",
            "- big smile: \n",
            " Hagrid's big smile is always happy and pleasant.\n",
            "\n",
            "Wielding\n",
            "- large rough head: \n",
            " Hagrid's head is large and rough.\n",
            "- big smile: \n",
            " Hagrid always has a big smile on his face.\n",
            "------------------------\n",
            "Ronald Weasley\n",
            "\n",
            "Wearing\n",
            "- green gold quidditch shirt: \n",
            " The green gold quidditch shirt worn by Ron Weasley is a Gryffindor uniform. It is made of a tight-fitting material and has the house crest on the left chest.\n",
            "- green gold quidditch shorts: \n",
            " Ron wears green gold quidditch shorts in the novel.\n",
            "- green gold quidditch helmet: \n",
            " The green gold quidditch helmet is a type of headwear worn by quidditch players. It is a metal helmet that is decorated with a green and silver feather pattern.\n",
            "- green gold quidditch socks: \n",
            " A pair of green gold quidditch socks are a part of a player's uniform and are worn to keep the player's feet warm during matches.\n",
            "\n",
            "Wielding\n",
            "- wand: \n",
            " Ron's wand is made from birch wood, with a lion's mane core and a 12-inch length.\n",
            "- broomstick: \n",
            " The broomstick is used to fly on.\n",
            "- quidditch game: \n",
            " Ronald plays on the Gryffindor Quidditch team and helps save Harry from a troll during the school's Halloween celebration.\n",
            "- school year: \n",
            " Ronald Weasley and Harry Potter investigate a robbery at Gringotts Bank and discover that the thief is Lord Voldemort. They go through a trapdoor in the school, and Ron is left behind.\n",
            "- onald wand broomstick school year: \n",
            " Ronald buys a new broomstick and gets to play on the Gryffindor Quidditch team.\n"
          ]
        }
      ]
    },
    {
      "cell_type": "code",
      "source": [
        "print(character_info)"
      ],
      "metadata": {
        "colab": {
          "base_uri": "https://localhost:8080/"
        },
        "id": "pxV4LfiNGaae",
        "outputId": "55281518-893b-44cb-c7de-44be1315b0ed"
      },
      "execution_count": null,
      "outputs": [
        {
          "output_type": "stream",
          "name": "stdout",
          "text": [
            "{'Nicolas Flamel': {'description': \"Nicolas Flamel is a character in the story who is mentioned several times. He is a French man who has been alive for centuries and is known for having the philosopher's stone, which is a stone that can turn any metal into pure gold.\", 'appearance': 'Nicolas Flamel is an old, bald wizard with a long white beard.', 'location': 'Hogwarts School of Witchcraft and Wizardry', 'items_wearing': ['long white beard', 'french accent', 'robe'], 'items_wielding': ['philosophers stone', 'invisibility cloak', 'ability turn metal pure gold'], 'items_wearing_info': {'long white beard': 'The long white beard of Nicolas Flamel is what stands out the most about him.', 'french accent': \"Some french accents are harder to understand than others, but Nicolas Flamel's accent is generally easy to understand.\", 'robe': 'The robe that Nicolas Flamel is wearing is a long, white robe.'}, 'items_wielding_info': {'philosophers stone': \"The philosopher's stone is a key item in the story that is mentioned several times. It is a stone that can turn any metal into pure gold, and it is sought by the evil Voldemort.\", 'invisibility cloak': 'The invisibility cloak is a magical item that allows its owner to remain undetected.', 'ability turn metal pure gold': 'The stone allows the user to turn any metal into pure gold.'}}, 'Albus Dumbledore': {'description': \"Albus Dumbledore is the headmaster of Hogwarts School of Witchcraft and Wizardry and a highly respected member of the wizarding community. He is well-versed in magic and is able to cast powerful spells. Dumbledore is also a noted expert on the Philosopher's Stone, an artefact that is said to\", 'appearance': \"Albus Dumbledore is a tall, thin wizard with a long white beard and kind eyes. He wears a long, flowing white robe and a pointed wizard's hat.\", 'location': 'Hogwarts School of Witchcraft and Wizardry', 'items_wearing': ['long white robe', 'pointed wizards hat', 'beard'], 'items_wielding': ['wand', 'cloak turn user invisible', 'hat reveal viewers desired thing'], 'items_wearing_info': {'long white robe': \"The robe is long and flowing, covering the entire wizard's body.\", 'pointed wizards hat': \"The pointed wizards hat is a tall, pointed hat that is worn by wizards. It is typically white, but can be coloured in accordance with the wizard's clothing.\", 'beard': \"Dumbledore's beard is long and white.\"}, 'items_wielding_info': {'wand': 'A wand is a magical object used by wizards to cast spells.', 'cloak turn user invisible': 'The invisibility cloak turns its wearer invisible.', 'hat reveal viewers desired thing': \"The pointed wizard's hat reveals that the viewer's desired thing is underneath it.\"}}, 'Firenze': {'description': \"Firenze is a forest centaur who teaches Harry about magic and Voldemort's plot to steal the philosopher's stone.\", 'appearance': 'Firenze has a humanoid form, but his body is covered in a half-man, half-horse coat of fur. He has a long, pointed nose, bright green eyes, and short, white hair.', 'location': 'Hogwarts School of Witchcraft and Wizardry', 'items_wearing': ['halfman halfhorse coat fur'], 'items_wielding': ['staff', 'bow arrow', 'shield'], 'items_wearing_info': {'halfman halfhorse coat fur': \"The fur is long and pointed, like a horse's mane.\"}, 'items_wielding_info': {'staff': \"Dumbledore is the headmaster of Hogwarts School of Witchcraft and Wizardry. He is also Harry's mentor.\", 'bow arrow': 'The bow and arrow is a projectile weapon that is fired from the hand.', 'shield': 'Dumbledore uses the shield to defend Harry and himself from Voldemort.'}}, 'Quirrell': {'description': 'Quirrell is a Defence Against the Dark Arts teacher who seems to be under the control of Voldemort.', 'appearance': \"Quirrell's appearance is that of a kindly, elderly wizard.\", 'location': 'Hogwarts School of Witchcraft and Wizardry', 'items_wearing': ['turban', 'purple robe', 'pair gloves', 'strange looking shoes'], 'items_wielding': ['sword', 'shield', 'hat', 'ive short list things hagrid harry', 'delivers'], 'items_wearing_info': {'turban': 'A turban is a type of headwear that is typically worn by men and women of Islamic faith. It is a cloth cap that is worn either flat on the head or folded up like a turban.', 'purple robe': 'The purple robe worn by Quirrell is unusual because it is made from a heavy fabric that covers the entire body.', 'pair gloves': 'Families in the wizarding world often dress up in costume on special occasions, such as Halloween. On Halloween, some people dress up as characters from books, movies, or TV shows.', 'strange looking shoes': 'The shoes are strange-looking and seem to be made out of metal.'}, 'items_wielding_info': {'sword': 'The sword is a long, thin blade.', 'shield': 'A shield is a device used to protect the body from physical harm.', 'hat': 'The Sorting Hat is a magical headpiece that sorts the first-years among four Hogwarts Houses – Gryffindor, Slytherin, Hufflepuff, and Ravenclaw.', 'ive short list things hagrid harry': \"Hagrid is a half-giant who takes Harry to Diagon Alley to buy school supplies and a wand. Harry befriends Ron Weasley and Hermione Granger while at Hogwarts. Harry's scar begins hurting and he passes out when he goes down the trapdoor to investigate the Philosopher's Stone. He wakes up in\", 'delivers': \"Rubeus Hagrid takes Harry to Diagon Alley, the hidden wizard commerce and retail section in London and buys supplies for Harry's first year at Hogwarts.\"}}, 'Hedwig': {'description': 'Hedwig is a small, brown owl that Harry purchased from Ollivander. She is very loyal to Harry and follows him everywhere.', 'appearance': 'Hedwig is a large, black owl with a yellow beak and auburn feathers.', 'location': 'Hogwarts School of Witchcraft and Wizardry', 'items_wearing': ['hogwarts acceptance letter', 'letter harrys parents', 'pair gloves', 'coat', 'scarf'], 'items_wielding': ['letter hogwarts', 'harrys wand', 'talons'], 'items_wearing_info': {'hogwarts acceptance letter': 'The letter announces that Harry Potter is a wizard and that he will be attending Hogwarts School of Witchcraft and Wizardry.', 'letter harrys parents': \"When Harry's acceptance letter arrives, it is revealed that his parents were also wizards. James and Lily Potter left Harry a fortune in Gringotts Wizarding Bank. Harry buys school supplies and a wand from Ollivander and befriends Ron and Hermione during his first year at Hogwarts.\", 'pair gloves': 'The pair of gloves had the fingers cut off so that the wearer could not feel the contact of their hands with anything.', 'coat': 'The coat of the owl is black with a yellow beak.', 'scarf': 'A black and silver striped scarf is worn by Ron and Hermione.'}, 'items_wielding_info': {'letter hogwarts': 'The letter \"H\" is written in bright green ink and is emblazoned on a white background on the front of the letter.', 'harrys wand': \"Harry's wand is made of ash, oak, and holly.\", 'talons': 'The talons of a bird are the sharp, curved nails that it uses to grasp and hold onto objects.'}}, 'Voldemort': {'description': \"Voldemort is a dark and powerful wizard who killed Harry's parents. He is obsessed with obtaining the philosopher's stone, which will restore his body and allow him to dominate the wizarding world.\", 'appearance': 'Voldemort is a dark, hooded figure with a snake-like face.', 'location': 'Hogwarts School of Witchcraft and Wizardry', 'items_wearing': ['black cloak', 'pointed wizards hat', 'black robes'], 'items_wielding': ['wand', 'cloak renders wearer invisible', 'ring allows speak snakes'], 'items_wearing_info': {'black cloak': 'The black cloak is a magical item that helps protect the wearer from injury.', 'pointed wizards hat': \"The pointed wizard hat is a type of wizard hat that is most often associated with the wizarding world. It is specifically designed to protect the user's head from the sun and rain.\", 'black robes': 'Black robes are worn by dark wizards.'}, 'items_wielding_info': {'wand': 'A wand is a wooden stick with a pointed end at one end, used by wizards to cast spells.', 'cloak renders wearer invisible': 'The invisibility cloak renders the wearer invisible.', 'ring allows speak snakes': 'The Ring allows its wearer to speak to snakes.'}}, 'Harry Potter': {'description': \"Harry Potter is a young, talented wizard who is hated and feared by most of the people in the wizarding world because of Lord Voldemort, a powerful dark wizard who killed Harry's parents. However, Harry is famous in the wizarding world and is the only one who can stop Voldemort. Harry is also the only\", 'appearance': \"Harry is a young, thin boy with messy, black hair. He wears round, brown glasses and a pointed wizard's hat.\", 'location': 'Hogwarts School of Witchcraft and Wizardry', 'items_wearing': ['round brown glasses', 'pointed wizards hat', 'robe', 'long thin wand', 'dirty torn ragged clothes'], 'items_wielding': ['wand', 'broomstick', 'letter hogwarts', 'invisibility cloak'], 'items_wearing_info': {'round brown glasses': 'They are round, brown glasses that help Harry see better.', 'pointed wizards hat': 'The pointed wizards hat is a special hat that helps Harry see in the dark.', 'robe': 'The robe Harry is wearing is blue with a silver trim and has the Gryffindor house crest on the left shoulder.', 'long thin wand': 'The wand has a long thin shaft and a round, bulbous end.', 'dirty torn ragged clothes': 'The clothes Harry is wearing are dirty and torn.'}, 'items_wielding_info': {'wand': 'A wand is a magic tool used by witches and wizards to cast spells.', 'broomstick': 'Broomsticks are used to fly on.', 'letter hogwarts': 'The letter Harry receives from Hogwarts School of Witchcraft and Wizardry reveals that his parents, James and Lily Potter, were wizards.', 'invisibility cloak': 'The invisibility cloak is a magical item that allows the user to become invisible.'}}, 'Dudley': {'description': \"Dudley is a bully and Vernon's son. He is always picking on Harry and is always trying to get him into trouble.\", 'appearance': 'Dudley appears to be a normal, average-sized boy. He is not particularly muscular or skinny, but he is not particularly bulky either. He has a round face and big, round eyes.', 'location': 'Privet Drive', 'items_wearing': ['red white striped shirt', 'brown jacket', 'jeans'], 'items_wielding': ['baseball bat', 'golf club', 'piece wood', 'tory'], 'items_wearing_info': {'red white striped shirt': 'The red, white, and blue striped shirt worn by Dudley is a typical school uniform.', 'brown jacket': 'The brown jacket has a large, hooded collar, and is zipped up all the way to the top.', 'jeans': 'jeans are a type of clothing that are worn by men.'}, 'items_wielding_info': {'baseball bat': 'The baseball bat is a wooden or metal club used in baseball.', 'golf club': 'A golf club is a tool that is used to hit a ball with.', 'piece wood': 'When wood is cut, the outer layer (the bark) is removed, and the wood is divided into small, even pieces.', 'tory': 'Vernon is a mean, overweight man who regularly mistreats Dudley.'}}, 'Draco Malfoy': {'description': 'Draco Malfoy is a first-year student at Hogwarts and a member of Slytherin, known for its dark wizards. He is cruel to Harry and Ron, and unsuccessfully tries to fool them into risking expulsion.', 'appearance': 'Draco Malfoy is a mean-looking, sneering first-year student who is often a bully to Harry and Ron. He has greasy, oily hair and a hooked nose.', 'location': 'Hogwarts School of Witchcraft and Wizardry', 'items_wearing': ['dark green robes', 'purple turban', 'black shoes'], 'items_wielding': ['wand', 'pocketful rocks', 'school robe', 'diary', 'tory'], 'items_wearing_info': {'dark green robes': 'The robes worn by Professor Quirrell are dark green.', 'purple turban': 'A purple turban is worn by a wizard or witch who is a professor or headmaster of a school.', 'black shoes': 'Black shoes are usually worn by people who work in a dirty environment.'}, 'items_wielding_info': {'wand': 'Wands are made of wood, feathers, and a core.', 'pocketful rocks': 'Pocketful rocks are small rocks that are often used as ornaments.', 'school robe': 'The robes worn by students at Hogwarts School of Witchcraft and Wizardry are colorful and distinctive.', 'diary': 'The diary is a small, thin book that is often kept hidden. It is used to record the thoughts and feelings of the owner.', 'tory': 'The Dursleys are a mean and abusive family who treat their only son, Dudley, terribly. They refuse to let Harry go to Hogwarts and are only happy when he does poorly in school.'}}, 'Severus Snape': {'description': 'Severus Snape is a Potions master at Hogwarts who favours Slytherin while seeking to fail Harry. He is initially suspicious of Harry, but later becomes his friend.', 'appearance': 'Severus Snape is a tall, thin man with a long, pale face and greasy black hair that hangs in his face. He has a scar on his right cheek and a cold, calculating look in his eyes.', 'location': 'Hogwarts School of Witchcraft and Wizardry', 'items_wearing': ['long black robe', 'pointed beard', 'black gloves'], 'items_wielding': ['wand', 'cloak', 'jinx harrys broom'], 'items_wearing_info': {'long black robe': 'The long black robe is worn by Professor Severus Snape.', 'pointed beard': 'Severus Snape has a pointed beard.', 'black gloves': 'The gloves are black and cover the hands up to the middle of the fingers.'}, 'items_wielding_info': {'wand': \"Harry's wand is made from a holly tree branch with a phoenix feather core.\", 'cloak': 'The invisibility cloak is a magical item that allows the wearer to remain undetected.', 'jinx harrys broom': \"Snape jinxed Harry's broom, causing it to buck him off during a Quidditch match and let a troll into the school.\"}}, 'Lily Potter': {'description': 'Lily Potter is a kind and loving woman who died to protect her son.', 'appearance': 'Lily Potter is a beautiful woman with long, curly, black hair. She wears glasses and often has a happy, excited expression on her face.', 'location': 'Hogwarts School of Witchcraft and Wizardry', 'items_wearing': ['long curly black hair', 'glasses', 'happy excited expression'], 'items_wielding': ['wand', 'letter hogwarts', 'halfgiant named rubeus hagrid'], 'items_wearing_info': {'long curly black hair': \"The woman's hair is long and curly.\", 'glasses': 'Lily Potter wears glasses to see better.', 'happy excited expression': 'Lily was very happy and excited to see her son, Harry, for the first time.'}, 'items_wielding_info': {'wand': 'Harry purchases his wand from Ollivander. The core of his wand is made of wood from a beech tree, while the feathers of the phoenix that delivered the letter from Hogwarts School of Witchcraft and Wizardry are attached to the end.', 'letter hogwarts': 'Harry was accepted to attend Hogwarts School of Witchcraft and Wizardry and his parents were wizards.', 'halfgiant named rubeus hagrid': \"Hagrid is a half-giant who helps deliver Harry's acceptance letter to Hogwarts and later takes him to Diagon Alley to buy school supplies.\"}}, 'Hermione Granger': {'description': 'Hermione is a smart, intuitive young woman who is not afraid to stand up for what she believes in. She is also a very good friend to Harry and Ron.', 'appearance': \"Hermione is a young woman with frizzy brown hair and large brown eyes. She is very intelligent and is one of Harry's best friends at Hogwarts.\", 'location': 'Hogwarts School of Witchcraft and Wizardry', 'items_wearing': ['white dress', 'green silver striped scarf', 'pair large black glasses', 'brown leather school bag'], 'items_wielding': ['wand', 'intelligence', 'courage', 'loyalty'], 'items_wearing_info': {'white dress': 'The white dress is a formal dress worn by Hermione Granger. It has a high neckline, long sleeves, and a full skirt.', 'green silver striped scarf': \"The green silver striped scarf is a gift given to Harry by Ron Weasley. It is a very special scarf because it was made from the feather of the same phoenix bird that imbued Harry's wand with its power.\", 'pair large black glasses': \"The pair of large black glasses is worn by Professor Quirrell, the Defence Against the Dark Arts teacher, who reveals that he jinxed Harry's broom and let the troll into the school.\", 'brown leather school bag': \"The brown leather school bag is a common accessory for girls and young women who attend school. It is typically large enough to hold all of the student's school supplies, but is not too large or bulky to carry.\"}, 'items_wielding_info': {'wand': 'A wand is a magical implement used by wizards and witches to cast spells.', 'intelligence': 'Intelligence is the ability to think abstractly and to problem solve.', 'courage': 'Courage is the ability to face fear and carry on.', 'loyalty': 'Hermione is loyal to her friends and will do anything to help them.'}}, 'Rubeus Hagrid': {'description': 'Rubeus Hagrid is a half-giant who takes Harry to Diagon Alley, the hidden wizard commerce and retail section in London, to buy school supplies and a wand. Hagrid is a kind and gentle giant, and Harry comes to like and trust him.', 'appearance': 'Rubeus Hagrid is a half-giant who is very kind and gentle. He has a large, rough head and is always wearing a big smile.', 'location': 'Hogwarts School of Witchcraft and Wizardry', 'items_wearing': ['big smile'], 'items_wielding': ['large rough head', 'big smile'], 'items_wearing_info': {'big smile': \"Hagrid's big smile is always happy and pleasant.\"}, 'items_wielding_info': {'large rough head': \"Hagrid's head is large and rough.\", 'big smile': 'Hagrid always has a big smile on his face.'}}, 'Ronald Weasley': {'description': 'Ronald Weasley is a friendly and outgoing first-year student at Hogwarts School of Witchcraft and Wizardry. He befriends Harry Potter and Hermione Granger during their first year at the school, and the three become close friends. Ron is a skilled Quidditch player and enjoys participating in school activities.', 'appearance': 'Ronald Weasley is a young, red-haired boy who is best friends with Harry Potter. He is often described as being clumsy, but is also brave and loyal.', 'location': 'Hogwarts School of Witchcraft and Wizardry', 'items_wearing': ['green gold quidditch shirt', 'green gold quidditch shorts', 'green gold quidditch helmet', 'green gold quidditch socks'], 'items_wielding': ['wand', 'broomstick', 'quidditch game', 'school year', 'onald wand broomstick school year'], 'items_wearing_info': {'green gold quidditch shirt': 'The green gold quidditch shirt worn by Ron Weasley is a Gryffindor uniform. It is made of a tight-fitting material and has the house crest on the left chest.', 'green gold quidditch shorts': 'Ron wears green gold quidditch shorts in the novel.', 'green gold quidditch helmet': 'The green gold quidditch helmet is a type of headwear worn by quidditch players. It is a metal helmet that is decorated with a green and silver feather pattern.', 'green gold quidditch socks': \"A pair of green gold quidditch socks are a part of a player's uniform and are worn to keep the player's feet warm during matches.\"}, 'items_wielding_info': {'wand': \"Ron's wand is made from birch wood, with a lion's mane core and a 12-inch length.\", 'broomstick': 'The broomstick is used to fly on.', 'quidditch game': \"Ronald plays on the Gryffindor Quidditch team and helps save Harry from a troll during the school's Halloween celebration.\", 'school year': 'Ronald Weasley and Harry Potter investigate a robbery at Gringotts Bank and discover that the thief is Lord Voldemort. They go through a trapdoor in the school, and Ron is left behind.', 'onald wand broomstick school year': 'Ronald buys a new broomstick and gets to play on the Gryffindor Quidditch team.'}}}\n"
          ]
        }
      ]
    },
    {
      "cell_type": "code",
      "source": [
        "with open(\"character_for_dialogue.json\", \"w\") as outfile:\n",
        "    json.dump(character_info, outfile)"
      ],
      "metadata": {
        "id": "c_rQsDzKIlnK"
      },
      "execution_count": null,
      "outputs": []
    },
    {
      "cell_type": "markdown",
      "source": [
        "### Generate Item Information"
      ],
      "metadata": {
        "id": "-NQcHuzSI8ky"
      }
    },
    {
      "cell_type": "code",
      "source": [
        "def get_item_list(story, location_description, location_appearance, location):\n",
        "  prompt = \"Story:{}\\n{}{}\\nGive a short list of items at {}:\\n\".format(story, location_description, location_appearance, location)\n",
        "  result = get_gpt3_result(prompt)\n",
        "  item_list = []\n",
        "  for item in result.strip().split(\"\\n\"):\n",
        "    curr = []\n",
        "    for token in item[1:].lower().strip().split():\n",
        "      for punc in string.punctuation:\n",
        "        token = token.replace(punc, '')\n",
        "      if token not in stop and token not in string.punctuation:\n",
        "        curr.append(token)\n",
        "    if len(curr) > 0 and len(curr) < 7:\n",
        "      item_list.append(\" \".join(curr))\n",
        "  return item_list\n",
        "\n",
        "\n",
        "def get_item_description(story, location_description, location_appearance, item):\n",
        "  prompt = \"{}\\n{}{}\\nDescribe {} in one sentence:\\n\".format(story, location_description, location_appearance, item)\n",
        "  result = get_gpt3_result(prompt)\n",
        "  return result.strip()"
      ],
      "metadata": {
        "id": "22CVmNAjJ-Y2"
      },
      "execution_count": null,
      "outputs": []
    },
    {
      "cell_type": "code",
      "source": [
        "item_info = {}"
      ],
      "metadata": {
        "id": "ehm-5zgBMizk"
      },
      "execution_count": null,
      "outputs": []
    },
    {
      "cell_type": "code",
      "source": [
        "for loc in locations:\n",
        "  print(\"--------------------\")\n",
        "  print(loc)\n",
        "  l_description = location_info[loc][\"description\"]\n",
        "  l_appearance = location_info[loc][\"appearance\"]\n",
        "  items = get_item_list(hp_story, l_description, l_appearance, loc)\n",
        "  print(items)\n",
        "  for item in items:\n",
        "    item_info[item] = {}\n",
        "    item_description = get_item_description(hp_story, l_description, l_appearance, item)\n",
        "    item_info[item][\"location\"] = loc\n",
        "    item_info[item][\"description\"] = item_description\n",
        "    print(\"- \" + item + \": \\n \" + item_description)\n",
        "    "
      ],
      "metadata": {
        "colab": {
          "base_uri": "https://localhost:8080/"
        },
        "id": "ZXwYtH7tAE9I",
        "outputId": "7d5625a7-0df9-4e4c-a09b-09165efbb22b"
      },
      "execution_count": null,
      "outputs": [
        {
          "output_type": "stream",
          "name": "stdout",
          "text": [
            "--------------------\n",
            "Diagon Alley\n",
            "['wand', 'school supplies', 'clothing', 'books']\n",
            "- wand: \n",
            " A wand is a device used by witches and wizards to cast spells.\n",
            "- school supplies: \n",
            " In order to attend Hogwarts School of Witchcraft and Wizardry, students must purchase supplies including a wand, school supplies, and a broomstick.\n",
            "- clothing: \n",
            " Harry wears a blue and silver Gryffindor Quidditch jersey, brown trousers, and a green and silver Gryffindor Quidditch broom.\n",
            "- books: \n",
            " Harry Potter and the Philosopher's Stone is a novel written by J.K. Rowling. It tells the story of Harry Potter's journey to attend Hogwarts School of Witchcraft and Wizardry and defeat Lord Voldemort.\n",
            "--------------------\n",
            "Gringotts Wizarding Bank\n",
            "['wand', 'money', 'vault', 'philosophers stone']\n",
            "- wand: \n",
            " A wand is a long, slender object that is used to cast spells.\n",
            "- money: \n",
            " Money is a valuable commodity used to purchase goods and services.\n",
            "- vault: \n",
            " The vault in which Harry's parents left him a fortune is in Gringotts Wizarding Bank.\n",
            "- philosophers stone: \n",
            " The philosopher's stone is a magical object that grants its user immortality and the ability to turn any metal into pure gold.\n",
            "--------------------\n",
            "the Hogwarts Express\n",
            "['wand']\n",
            "- wand: \n",
            " The wand is a long stick with a rounded end and a feather at the end.\n",
            "--------------------\n",
            "the Mirror of Erised\n",
            "['persons family', 'good fortune', 'loved one']\n",
            "- persons family: \n",
            " Harry's abusive aunt and uncle, Vernon and Petunia Dursley and their bullying son, Dudley live at number four, Privet Drive.\n",
            "- good fortune: \n",
            " For Harry, it is the brief moment of peace and understanding after a difficult year at Hogwarts.\n",
            "- loved one: \n",
            " My loved one is my best friend, Ron Weasley.\n",
            "--------------------\n",
            "Privet Drive\n",
            "['aunt uncle', 'dudley', 'broken window', 'wand', 'potions', 'invisibility cloak', 'mirror erised']\n",
            "- aunt uncle: \n",
            " Vernon is a mean, abusive man who is always scolding Petunia. Petunia is a timid woman who can't stand up to Vernon. Dudley is a bully who is always picking on Harry.\n",
            "- dudley: \n",
            " Dudley is a mean, cruel boy who is always bullying Harry.\n",
            "- broken window: \n",
            " Broken window is visible in the front door of the house on Privet Drive.\n",
            "- wand: \n",
            " The wand Harry purchases at Ollivander's is made of wood, has a 12-inch oak shaft, and a dragon heartstring core.\n",
            "- potions: \n",
            " Potions are a class that teaches students how to make potions to help them in their magical adventures.\n",
            "- invisibility cloak: \n",
            " The invisibility cloak is a magical item that allows the user to remain undetected.\n",
            "- mirror erised: \n",
            " A mirror that shows what the viewer desires is found at Hogwarts. Harry sees his parents in the mirror.\n",
            "--------------------\n",
            "Hogwarts School of Witchcraft and Wizardry\n",
            "['wand', 'school supplies', 'invisibility cloak', 'mirror erised', 'philosophers stone']\n",
            "- wand: \n",
            " A wand is a magical tool used by witches and wizards to cast spells.\n",
            "- school supplies: \n",
            " First-year students at Hogwarts are given a set of supplies, including a school book, quill, and ink, as well as a wand.\n",
            "- invisibility cloak: \n",
            " The invisibility cloak allows its wearer to disappear from sight.\n",
            "- mirror erised: \n",
            " The Mirror of Erised shows what the viewer most desires.\n",
            "- philosophers stone: \n",
            " The Philosopher's Stone is an item used to grant its user immortality and the ability to turn any metal into pure gold.\n",
            "--------------------\n",
            "Platform 9¾\n",
            "['sorting hat', 'wand', 'school trunk', 'owl']\n",
            "- sorting hat: \n",
            " The sorting hat sorts the first-years among four Houses – Gryffindor, Slytherin, Hufflepuff, and Ravenclaw – that best suit their personalities and talents.\n",
            "- wand: \n",
            " A wand is a magical object that allows a person to cast spells.\n",
            "- school trunk: \n",
            " The school trunk is a large, heavy case that is used to store the student's clothes, books, and other belongings.\n",
            "- owl: \n",
            " Harry's owl is named Hedwig and is very important to him.\n",
            "--------------------\n",
            "King's Cross railway station\n",
            "['wand', 'hogwarts acceptance letter', 'school supplies', 'broomstick', 'invisibility cloak']\n",
            "- wand: \n",
            " The wand Harry purchases from Ollivander is made of ash and oak, with a dragon heartstring core.\n",
            "- hogwarts acceptance letter: \n",
            " On Harry's eleventh birthday, a half-giant named Rubeus Hagrid personally delivers an acceptance letter to Hogwarts School of Witchcraft and Wizardry, revealing that Harry's parents, James and Lily Potter, were wizards.\n",
            "- school supplies: \n",
            " Harry buys school supplies, including a wand and supplies for Quidditch.\n",
            "- broomstick: \n",
            " Harry's broomstick is a magic broomstick that he uses to fly in Quidditch.\n",
            "- invisibility cloak: \n",
            " The invisibility cloak is a magical item that allows its wearer to remain undetected.\n",
            "--------------------\n",
            "the Dursleys\n",
            "['acceptance letter hogwarts school witchcraft wizardry', 'harrys parents wizards']\n",
            "- acceptance letter hogwarts school witchcraft wizardry: \n",
            " On Harry's eleventh birthday, a half-giant named Rubeus Hagrid personally delivers an acceptance letter to Hogwarts School of Witchcraft and Wizardry, revealing that Harry's parents, James and Lily Potter, were wizards.\n",
            "- harrys parents wizards: \n",
            " James and Lily Potter were wizards who were killed by Lord Voldemort.\n"
          ]
        }
      ]
    },
    {
      "cell_type": "code",
      "source": [
        "print(item_info)"
      ],
      "metadata": {
        "id": "FL_XIQJfAwdt",
        "colab": {
          "base_uri": "https://localhost:8080/"
        },
        "outputId": "7e1dedef-b97f-4644-f14b-0789ffb503dd"
      },
      "execution_count": null,
      "outputs": [
        {
          "output_type": "stream",
          "name": "stdout",
          "text": [
            "{'wand': {'location': \"King's Cross railway station\", 'description': 'The wand Harry purchases from Ollivander is made of ash and oak, with a dragon heartstring core.'}, 'school supplies': {'location': \"King's Cross railway station\", 'description': 'Harry buys school supplies, including a wand and supplies for Quidditch.'}, 'clothing': {'location': 'Diagon Alley', 'description': 'Harry wears a blue and silver Gryffindor Quidditch jersey, brown trousers, and a green and silver Gryffindor Quidditch broom.'}, 'books': {'location': 'Diagon Alley', 'description': \"Harry Potter and the Philosopher's Stone is a novel written by J.K. Rowling. It tells the story of Harry Potter's journey to attend Hogwarts School of Witchcraft and Wizardry and defeat Lord Voldemort.\"}, 'money': {'location': 'Gringotts Wizarding Bank', 'description': 'Money is a valuable commodity used to purchase goods and services.'}, 'vault': {'location': 'Gringotts Wizarding Bank', 'description': \"The vault in which Harry's parents left him a fortune is in Gringotts Wizarding Bank.\"}, 'philosophers stone': {'location': 'Hogwarts School of Witchcraft and Wizardry', 'description': \"The Philosopher's Stone is an item used to grant its user immortality and the ability to turn any metal into pure gold.\"}, 'persons family': {'location': 'the Mirror of Erised', 'description': \"Harry's abusive aunt and uncle, Vernon and Petunia Dursley and their bullying son, Dudley live at number four, Privet Drive.\"}, 'good fortune': {'location': 'the Mirror of Erised', 'description': 'For Harry, it is the brief moment of peace and understanding after a difficult year at Hogwarts.'}, 'loved one': {'location': 'the Mirror of Erised', 'description': 'My loved one is my best friend, Ron Weasley.'}, 'aunt uncle': {'location': 'Privet Drive', 'description': \"Vernon is a mean, abusive man who is always scolding Petunia. Petunia is a timid woman who can't stand up to Vernon. Dudley is a bully who is always picking on Harry.\"}, 'dudley': {'location': 'Privet Drive', 'description': 'Dudley is a mean, cruel boy who is always bullying Harry.'}, 'broken window': {'location': 'Privet Drive', 'description': 'Broken window is visible in the front door of the house on Privet Drive.'}, 'potions': {'location': 'Privet Drive', 'description': 'Potions are a class that teaches students how to make potions to help them in their magical adventures.'}, 'invisibility cloak': {'location': \"King's Cross railway station\", 'description': 'The invisibility cloak is a magical item that allows its wearer to remain undetected.'}, 'mirror erised': {'location': 'Hogwarts School of Witchcraft and Wizardry', 'description': 'The Mirror of Erised shows what the viewer most desires.'}, 'sorting hat': {'location': 'Platform 9¾', 'description': 'The sorting hat sorts the first-years among four Houses – Gryffindor, Slytherin, Hufflepuff, and Ravenclaw – that best suit their personalities and talents.'}, 'school trunk': {'location': 'Platform 9¾', 'description': \"The school trunk is a large, heavy case that is used to store the student's clothes, books, and other belongings.\"}, 'owl': {'location': 'Platform 9¾', 'description': \"Harry's owl is named Hedwig and is very important to him.\"}, 'hogwarts acceptance letter': {'location': \"King's Cross railway station\", 'description': \"On Harry's eleventh birthday, a half-giant named Rubeus Hagrid personally delivers an acceptance letter to Hogwarts School of Witchcraft and Wizardry, revealing that Harry's parents, James and Lily Potter, were wizards.\"}, 'broomstick': {'location': \"King's Cross railway station\", 'description': \"Harry's broomstick is a magic broomstick that he uses to fly in Quidditch.\"}, 'acceptance letter hogwarts school witchcraft wizardry': {'location': 'the Dursleys', 'description': \"On Harry's eleventh birthday, a half-giant named Rubeus Hagrid personally delivers an acceptance letter to Hogwarts School of Witchcraft and Wizardry, revealing that Harry's parents, James and Lily Potter, were wizards.\"}, 'harrys parents wizards': {'location': 'the Dursleys', 'description': 'James and Lily Potter were wizards who were killed by Lord Voldemort.'}}\n"
          ]
        }
      ]
    },
    {
      "cell_type": "code",
      "source": [
        "with open(\"game_items.json\", \"w\") as outfile:\n",
        "    json.dump(item_info, outfile)"
      ],
      "metadata": {
        "id": "j31cK50hPv7s"
      },
      "execution_count": null,
      "outputs": []
    },
    {
      "cell_type": "code",
      "source": [
        ""
      ],
      "metadata": {
        "id": "Kuu-O7OkQo9X"
      },
      "execution_count": null,
      "outputs": []
    }
  ]
}